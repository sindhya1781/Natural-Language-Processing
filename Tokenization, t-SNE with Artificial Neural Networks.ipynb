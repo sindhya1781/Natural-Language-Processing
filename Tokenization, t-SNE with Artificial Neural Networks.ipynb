{
 "cells": [
  {
   "cell_type": "markdown",
   "metadata": {
    "id": "ni4T_dwEHFVa"
   },
   "source": [
    "## CS 6120: Natural Language Processing - Prof. Ahmad Uzair\n",
    "\n",
    "### Assignment 2: Text Classification and Neural Network\n",
    "### Total Points: 100 points"
   ]
  },
  {
   "cell_type": "markdown",
   "metadata": {
    "id": "loQ22M-bCubq"
   },
   "source": [
    "In Assignment 2, you will be dealing with text classification using Multinomial Naive Bayes and Neural Networks. You will also be dealing with vector visualization. In the previous assingment you implemented Bag of Words as the feature selection method. However, in this assignment you will be using TF-IDF Vectorization instead of Bag of Words. We recommend starting with this assignment a little early as the datasets are quite large and several parts of the assignment might take long duration to execute. "
   ]
  },
  {
   "cell_type": "markdown",
   "metadata": {
    "id": "Q3brglC1C0mZ"
   },
   "source": [
    "## Question 1 Text Classification"
   ]
  },
  {
   "cell_type": "markdown",
   "metadata": {
    "id": "IZ1y75IoC3rE"
   },
   "source": [
    "In the first question you will be dealing with Consumer Complaint Dataset. You are required to implement TF-IDF vectorization from scratch and perform Multinomial Naive Bayes Classification on dataset.\n",
    "You may use appropriate packages or modules for fitting the Multinomial Naive Bayes Model, however, the implementation of the TF-IDF Vectorization should be from the scratch."
   ]
  },
  {
   "cell_type": "code",
   "execution_count": 1,
   "metadata": {
    "id": "CmFf2INNDJRb"
   },
   "outputs": [],
   "source": [
    "#importing the libraries\n",
    "\n",
    "import numpy as np\n",
    "import sklearn\n",
    "from nltk.corpus import stopwords\n",
    "from nltk.stem import PorterStemmer\n",
    "from nltk.stem import WordNetLemmatizer\n",
    "from sklearn.feature_extraction.text import TfidfVectorizer\n",
    "from sklearn.datasets import fetch_20newsgroups\n",
    "from pprint import pprint\n",
    "from sklearn.feature_extraction.text import CountVectorizer\n",
    "from sklearn import preprocessing\n",
    "import pandas as pd\n",
    "import re\n",
    "import numpy as np\n",
    "from nltk.tokenize import  word_tokenize \n",
    "import nltk\n",
    "from sklearn.naive_bayes import MultinomialNB\n",
    "from sklearn import metrics\n",
    "import math\n",
    "from sklearn.metrics import accuracy_score, f1_score\n",
    "import itertools\n",
    "from sklearn.model_selection import train_test_split\n"
   ]
  },
  {
   "cell_type": "markdown",
   "metadata": {
    "id": "55uKXLxgV8hm"
   },
   "source": [
    "The consumer complaint dataset comprises around 5000 complaints on six products."
   ]
  },
  {
   "cell_type": "code",
   "execution_count": 2,
   "metadata": {
    "id": "AEp1SHe5DKCB"
   },
   "outputs": [],
   "source": [
    "# Read the csv file consumer_complaints.csv\n",
    "mydata_train = pd.read_csv('C:/Users/Shivapriya B/Desktop/NEU Work/Classwork/Semester 4/Natural Language Processing/Week 5/consumer_complaints.csv')"
   ]
  },
  {
   "cell_type": "code",
   "execution_count": 3,
   "metadata": {
    "id": "OscOmcE0DMHa"
   },
   "outputs": [
    {
     "name": "stdout",
     "output_type": "stream",
     "text": [
      "['Credit card or prepaid card', 'Mortgage', 'Debt collection', 'Debt collection', 'Credit card or prepaid card', 'Vehicle loan or lease', 'Debt collection', 'Debt collection', 'Mortgage', 'Vehicle loan or lease', 'Mortgage', 'Credit card or prepaid card', 'Checking or savings account', 'Credit card or prepaid card', 'Debt collection', 'Mortgage', 'Credit card or prepaid card', 'Mortgage', 'Mortgage', 'Student loan', 'Mortgage', 'Mortgage', 'Debt collection', 'Debt collection', 'Credit card or prepaid card', 'Credit card or prepaid card', 'Mortgage', 'Mortgage', 'Credit card or prepaid card', 'Debt collection', 'Debt collection', 'Credit card or prepaid card', 'Checking or savings account', 'Debt collection', 'Debt collection', 'Vehicle loan or lease', 'Student loan', 'Vehicle loan or lease', 'Debt collection', 'Checking or savings account', 'Debt collection', 'Debt collection', 'Student loan', 'Student loan', 'Mortgage', 'Checking or savings account', 'Student loan', 'Vehicle loan or lease', 'Debt collection', 'Checking or savings account', 'Credit card or prepaid card', 'Credit card or prepaid card', 'Debt collection', 'Mortgage', 'Vehicle loan or lease', 'Credit card or prepaid card', 'Checking or savings account', 'Mortgage', 'Credit card or prepaid card', 'Debt collection', 'Checking or savings account', 'Checking or savings account', 'Debt collection', 'Mortgage', 'Checking or savings account', 'Vehicle loan or lease', 'Debt collection', 'Debt collection', 'Credit card or prepaid card', 'Debt collection', 'Debt collection', 'Mortgage', 'Mortgage', 'Debt collection', 'Credit card or prepaid card', 'Mortgage', 'Debt collection', 'Debt collection', 'Credit card or prepaid card', 'Checking or savings account', 'Credit card or prepaid card', 'Debt collection', 'Credit card or prepaid card', 'Student loan', 'Credit card or prepaid card', 'Checking or savings account', 'Debt collection', 'Debt collection', 'Debt collection', 'Debt collection', 'Credit card or prepaid card', 'Debt collection', 'Debt collection', 'Credit card or prepaid card', 'Vehicle loan or lease', 'Credit card or prepaid card', 'Debt collection', 'Checking or savings account', 'Credit card or prepaid card', 'Debt collection', 'Mortgage', 'Student loan', 'Debt collection', 'Mortgage', 'Checking or savings account', 'Mortgage', 'Credit card or prepaid card', 'Credit card or prepaid card', 'Debt collection', 'Debt collection', 'Checking or savings account', 'Credit card or prepaid card', 'Debt collection', 'Vehicle loan or lease', 'Credit card or prepaid card', 'Student loan', 'Credit card or prepaid card', 'Debt collection', 'Credit card or prepaid card', 'Credit card or prepaid card', 'Student loan', 'Debt collection', 'Debt collection', 'Checking or savings account', 'Debt collection', 'Credit card or prepaid card', 'Debt collection', 'Checking or savings account', 'Checking or savings account', 'Credit card or prepaid card', 'Debt collection', 'Checking or savings account', 'Debt collection', 'Debt collection', 'Student loan', 'Checking or savings account', 'Credit card or prepaid card', 'Debt collection', 'Debt collection', 'Mortgage', 'Student loan', 'Mortgage', 'Debt collection', 'Checking or savings account', 'Credit card or prepaid card', 'Debt collection', 'Debt collection', 'Mortgage', 'Credit card or prepaid card', 'Checking or savings account', 'Credit card or prepaid card', 'Mortgage', 'Debt collection', 'Debt collection', 'Mortgage', 'Debt collection', 'Mortgage', 'Checking or savings account', 'Mortgage', 'Debt collection', 'Mortgage', 'Mortgage', 'Debt collection', 'Checking or savings account', 'Checking or savings account', 'Mortgage', 'Debt collection', 'Debt collection', 'Debt collection', 'Debt collection', 'Debt collection', 'Student loan', 'Mortgage', 'Credit card or prepaid card', 'Credit card or prepaid card', 'Mortgage', 'Credit card or prepaid card', 'Credit card or prepaid card', 'Debt collection', 'Debt collection', 'Debt collection', 'Debt collection', 'Debt collection', 'Credit card or prepaid card', 'Checking or savings account', 'Checking or savings account', 'Credit card or prepaid card', 'Credit card or prepaid card', 'Checking or savings account', 'Debt collection', 'Vehicle loan or lease', 'Debt collection', 'Checking or savings account', 'Student loan', 'Debt collection', 'Debt collection', 'Checking or savings account', 'Debt collection', 'Credit card or prepaid card', 'Credit card or prepaid card', 'Debt collection', 'Debt collection', 'Checking or savings account', 'Debt collection', 'Debt collection', 'Debt collection', 'Debt collection', 'Debt collection', 'Mortgage', 'Credit card or prepaid card', 'Vehicle loan or lease', 'Vehicle loan or lease', 'Debt collection', 'Debt collection', 'Mortgage', 'Checking or savings account', 'Debt collection', 'Credit card or prepaid card', 'Debt collection', 'Mortgage', 'Debt collection', 'Mortgage', 'Debt collection', 'Credit card or prepaid card', 'Mortgage', 'Credit card or prepaid card', 'Credit card or prepaid card', 'Mortgage', 'Debt collection', 'Debt collection', 'Mortgage', 'Mortgage', 'Debt collection', 'Debt collection', 'Debt collection', 'Student loan', 'Credit card or prepaid card', 'Debt collection', 'Debt collection', 'Debt collection', 'Mortgage', 'Mortgage', 'Student loan', 'Debt collection', 'Mortgage', 'Debt collection', 'Student loan', 'Mortgage', 'Debt collection', 'Debt collection', 'Debt collection', 'Checking or savings account', 'Debt collection', 'Debt collection', 'Credit card or prepaid card', 'Checking or savings account', 'Debt collection', 'Debt collection', 'Credit card or prepaid card', 'Mortgage', 'Debt collection', 'Credit card or prepaid card', 'Debt collection', 'Checking or savings account', 'Debt collection', 'Credit card or prepaid card', 'Checking or savings account', 'Credit card or prepaid card', 'Checking or savings account', 'Checking or savings account', 'Debt collection', 'Credit card or prepaid card', 'Debt collection', 'Checking or savings account', 'Debt collection', 'Debt collection', 'Debt collection', 'Vehicle loan or lease', 'Vehicle loan or lease', 'Student loan', 'Mortgage', 'Debt collection', 'Debt collection', 'Checking or savings account', 'Vehicle loan or lease', 'Debt collection', 'Debt collection', 'Credit card or prepaid card', 'Checking or savings account', 'Mortgage', 'Debt collection', 'Student loan', 'Credit card or prepaid card', 'Credit card or prepaid card', 'Checking or savings account', 'Checking or savings account', 'Vehicle loan or lease', 'Checking or savings account', 'Checking or savings account', 'Mortgage', 'Debt collection', 'Credit card or prepaid card', 'Vehicle loan or lease', 'Credit card or prepaid card', 'Mortgage', 'Mortgage', 'Credit card or prepaid card', 'Student loan', 'Debt collection', 'Mortgage', 'Credit card or prepaid card', 'Credit card or prepaid card', 'Mortgage', 'Mortgage', 'Debt collection', 'Debt collection', 'Debt collection', 'Debt collection', 'Debt collection', 'Credit card or prepaid card', 'Credit card or prepaid card', 'Credit card or prepaid card', 'Debt collection', 'Checking or savings account', 'Debt collection', 'Credit card or prepaid card', 'Debt collection', 'Debt collection', 'Checking or savings account', 'Credit card or prepaid card', 'Checking or savings account', 'Debt collection', 'Credit card or prepaid card', 'Mortgage', 'Debt collection', 'Credit card or prepaid card', 'Debt collection', 'Debt collection', 'Mortgage', 'Debt collection', 'Checking or savings account', 'Debt collection', 'Mortgage', 'Checking or savings account', 'Vehicle loan or lease', 'Debt collection', 'Mortgage', 'Mortgage', 'Credit card or prepaid card', 'Credit card or prepaid card', 'Credit card or prepaid card', 'Debt collection', 'Credit card or prepaid card', 'Mortgage', 'Checking or savings account', 'Debt collection', 'Credit card or prepaid card', 'Debt collection', 'Debt collection', 'Credit card or prepaid card', 'Checking or savings account', 'Credit card or prepaid card', 'Credit card or prepaid card', 'Credit card or prepaid card', 'Debt collection', 'Checking or savings account', 'Credit card or prepaid card', 'Debt collection', 'Mortgage', 'Debt collection', 'Checking or savings account', 'Mortgage', 'Credit card or prepaid card', 'Credit card or prepaid card', 'Debt collection', 'Vehicle loan or lease', 'Debt collection', 'Credit card or prepaid card', 'Debt collection', 'Debt collection', 'Credit card or prepaid card', 'Mortgage', 'Mortgage', 'Mortgage', 'Debt collection', 'Mortgage', 'Debt collection', 'Mortgage', 'Debt collection', 'Debt collection', 'Mortgage', 'Mortgage', 'Mortgage', 'Debt collection', 'Mortgage', 'Checking or savings account', 'Checking or savings account', 'Credit card or prepaid card', 'Credit card or prepaid card', 'Vehicle loan or lease', 'Debt collection', 'Mortgage', 'Credit card or prepaid card', 'Credit card or prepaid card', 'Debt collection', 'Checking or savings account', 'Student loan', 'Checking or savings account', 'Mortgage', 'Debt collection', 'Debt collection', 'Debt collection', 'Checking or savings account', 'Mortgage', 'Mortgage', 'Debt collection', 'Mortgage', 'Debt collection', 'Credit card or prepaid card', 'Mortgage', 'Debt collection', 'Debt collection', 'Debt collection', 'Credit card or prepaid card', 'Mortgage', 'Debt collection', 'Debt collection', 'Debt collection', 'Student loan', 'Vehicle loan or lease', 'Credit card or prepaid card', 'Checking or savings account', 'Credit card or prepaid card', 'Credit card or prepaid card', 'Checking or savings account', 'Credit card or prepaid card', 'Debt collection', 'Student loan', 'Debt collection', 'Checking or savings account', 'Debt collection', 'Credit card or prepaid card', 'Debt collection', 'Credit card or prepaid card', 'Credit card or prepaid card', 'Credit card or prepaid card', 'Credit card or prepaid card', 'Debt collection', 'Credit card or prepaid card', 'Debt collection', 'Debt collection', 'Mortgage', 'Debt collection', 'Credit card or prepaid card', 'Credit card or prepaid card', 'Checking or savings account', 'Student loan', 'Debt collection', 'Credit card or prepaid card', 'Debt collection', 'Debt collection', 'Mortgage', 'Debt collection', 'Debt collection', 'Checking or savings account', 'Debt collection', 'Vehicle loan or lease', 'Debt collection', 'Credit card or prepaid card', 'Student loan', 'Credit card or prepaid card', 'Debt collection', 'Credit card or prepaid card', 'Credit card or prepaid card', 'Vehicle loan or lease', 'Debt collection', 'Student loan', 'Checking or savings account', 'Mortgage', 'Debt collection', 'Debt collection', 'Credit card or prepaid card', 'Checking or savings account', 'Debt collection', 'Mortgage', 'Checking or savings account', 'Mortgage', 'Checking or savings account', 'Debt collection', 'Credit card or prepaid card', 'Vehicle loan or lease', 'Credit card or prepaid card', 'Mortgage', 'Debt collection', 'Debt collection', 'Credit card or prepaid card', 'Debt collection', 'Credit card or prepaid card', 'Debt collection', 'Debt collection', 'Mortgage', 'Credit card or prepaid card', 'Vehicle loan or lease', 'Checking or savings account', 'Credit card or prepaid card', 'Credit card or prepaid card', 'Debt collection', 'Mortgage', 'Mortgage', 'Debt collection', 'Debt collection', 'Credit card or prepaid card', 'Checking or savings account', 'Debt collection', 'Debt collection', 'Debt collection', 'Debt collection', 'Debt collection', 'Debt collection', 'Debt collection', 'Debt collection', 'Debt collection', 'Debt collection', 'Debt collection', 'Debt collection', 'Credit card or prepaid card', 'Debt collection', 'Credit card or prepaid card', 'Credit card or prepaid card', 'Credit card or prepaid card', 'Debt collection', 'Debt collection', 'Credit card or prepaid card', 'Debt collection', 'Debt collection', 'Student loan', 'Debt collection', 'Debt collection', 'Debt collection', 'Debt collection', 'Student loan', 'Mortgage', 'Debt collection', 'Debt collection', 'Credit card or prepaid card', 'Mortgage', 'Debt collection', 'Debt collection', 'Vehicle loan or lease', 'Checking or savings account', 'Debt collection', 'Checking or savings account', 'Vehicle loan or lease', 'Debt collection', 'Debt collection', 'Mortgage', 'Credit card or prepaid card', 'Mortgage', 'Debt collection', 'Checking or savings account', 'Checking or savings account', 'Mortgage', 'Mortgage', 'Credit card or prepaid card', 'Debt collection', 'Mortgage', 'Debt collection', 'Debt collection', 'Checking or savings account', 'Credit card or prepaid card', 'Debt collection', 'Credit card or prepaid card', 'Debt collection', 'Vehicle loan or lease', 'Student loan', 'Mortgage', 'Credit card or prepaid card', 'Mortgage', 'Mortgage', 'Debt collection', 'Mortgage', 'Checking or savings account', 'Mortgage', 'Debt collection', 'Mortgage', 'Debt collection', 'Mortgage', 'Mortgage', 'Credit card or prepaid card', 'Debt collection', 'Checking or savings account', 'Checking or savings account', 'Debt collection', 'Credit card or prepaid card', 'Credit card or prepaid card', 'Student loan', 'Credit card or prepaid card', 'Credit card or prepaid card', 'Mortgage', 'Mortgage', 'Credit card or prepaid card', 'Credit card or prepaid card', 'Debt collection', 'Checking or savings account', 'Debt collection', 'Mortgage', 'Checking or savings account', 'Credit card or prepaid card', 'Debt collection', 'Credit card or prepaid card', 'Mortgage', 'Debt collection', 'Debt collection', 'Checking or savings account', 'Debt collection', 'Student loan', 'Checking or savings account', 'Vehicle loan or lease', 'Debt collection', 'Credit card or prepaid card', 'Credit card or prepaid card', 'Credit card or prepaid card', 'Mortgage', 'Credit card or prepaid card', 'Checking or savings account', 'Checking or savings account', 'Credit card or prepaid card', 'Debt collection', 'Mortgage', 'Credit card or prepaid card', 'Checking or savings account', 'Debt collection', 'Credit card or prepaid card', 'Debt collection', 'Debt collection', 'Credit card or prepaid card', 'Checking or savings account', 'Credit card or prepaid card', 'Mortgage', 'Checking or savings account', 'Debt collection', 'Debt collection', 'Credit card or prepaid card', 'Mortgage', 'Credit card or prepaid card', 'Credit card or prepaid card', 'Mortgage', 'Checking or savings account', 'Credit card or prepaid card', 'Debt collection', 'Debt collection', 'Checking or savings account', 'Debt collection', 'Credit card or prepaid card', 'Checking or savings account', 'Debt collection', 'Checking or savings account', 'Debt collection', 'Debt collection', 'Vehicle loan or lease', 'Credit card or prepaid card', 'Debt collection', 'Checking or savings account', 'Mortgage', 'Checking or savings account', 'Credit card or prepaid card', 'Credit card or prepaid card', 'Checking or savings account', 'Credit card or prepaid card', 'Mortgage', 'Credit card or prepaid card', 'Mortgage', 'Vehicle loan or lease', 'Debt collection', 'Debt collection', 'Debt collection', 'Debt collection', 'Debt collection', 'Mortgage', 'Mortgage', 'Vehicle loan or lease', 'Debt collection', 'Checking or savings account', 'Mortgage', 'Mortgage', 'Credit card or prepaid card', 'Debt collection', 'Credit card or prepaid card', 'Debt collection', 'Checking or savings account', 'Debt collection', 'Credit card or prepaid card', 'Debt collection', 'Student loan', 'Mortgage', 'Debt collection', 'Debt collection', 'Credit card or prepaid card', 'Debt collection', 'Checking or savings account', 'Debt collection', 'Debt collection', 'Credit card or prepaid card', 'Credit card or prepaid card', 'Credit card or prepaid card', 'Checking or savings account', 'Credit card or prepaid card', 'Debt collection', 'Debt collection', 'Debt collection', 'Debt collection', 'Debt collection', 'Debt collection', 'Debt collection', 'Mortgage', 'Debt collection', 'Debt collection', 'Credit card or prepaid card', 'Debt collection', 'Debt collection', 'Credit card or prepaid card', 'Debt collection', 'Debt collection', 'Debt collection', 'Vehicle loan or lease', 'Credit card or prepaid card', 'Credit card or prepaid card', 'Credit card or prepaid card', 'Debt collection', 'Debt collection', 'Credit card or prepaid card', 'Mortgage', 'Credit card or prepaid card', 'Debt collection', 'Debt collection', 'Debt collection', 'Credit card or prepaid card', 'Debt collection', 'Credit card or prepaid card', 'Checking or savings account', 'Credit card or prepaid card', 'Vehicle loan or lease', 'Vehicle loan or lease', 'Credit card or prepaid card', 'Mortgage', 'Vehicle loan or lease', 'Credit card or prepaid card', 'Credit card or prepaid card', 'Credit card or prepaid card', 'Debt collection', 'Debt collection', 'Checking or savings account', 'Credit card or prepaid card', 'Debt collection', 'Student loan', 'Credit card or prepaid card', 'Vehicle loan or lease', 'Credit card or prepaid card', 'Debt collection', 'Credit card or prepaid card', 'Credit card or prepaid card', 'Debt collection', 'Debt collection', 'Checking or savings account', 'Mortgage', 'Debt collection', 'Mortgage', 'Credit card or prepaid card', 'Checking or savings account', 'Credit card or prepaid card', 'Mortgage', 'Debt collection', 'Debt collection', 'Mortgage', 'Mortgage', 'Debt collection', 'Student loan', 'Checking or savings account', 'Debt collection', 'Student loan', 'Credit card or prepaid card', 'Debt collection', 'Mortgage', 'Checking or savings account', 'Student loan', 'Mortgage', 'Debt collection', 'Checking or savings account', 'Checking or savings account', 'Debt collection', 'Debt collection', 'Checking or savings account', 'Debt collection', 'Debt collection', 'Debt collection', 'Credit card or prepaid card', 'Vehicle loan or lease', 'Credit card or prepaid card', 'Debt collection', 'Checking or savings account', 'Checking or savings account', 'Student loan', 'Student loan', 'Checking or savings account', 'Debt collection', 'Mortgage', 'Checking or savings account', 'Debt collection', 'Credit card or prepaid card', 'Mortgage', 'Debt collection', 'Credit card or prepaid card', 'Checking or savings account', 'Student loan', 'Debt collection', 'Checking or savings account', 'Debt collection', 'Debt collection', 'Debt collection', 'Vehicle loan or lease', 'Debt collection', 'Debt collection', 'Debt collection', 'Debt collection', 'Credit card or prepaid card', 'Mortgage', 'Credit card or prepaid card', 'Credit card or prepaid card', 'Debt collection', 'Student loan', 'Mortgage', 'Credit card or prepaid card', 'Mortgage', 'Debt collection', 'Debt collection', 'Debt collection', 'Vehicle loan or lease', 'Credit card or prepaid card', 'Checking or savings account', 'Mortgage', 'Debt collection', 'Student loan', 'Credit card or prepaid card', 'Mortgage', 'Credit card or prepaid card', 'Mortgage', 'Debt collection', 'Debt collection', 'Mortgage', 'Checking or savings account', 'Credit card or prepaid card', 'Checking or savings account', 'Mortgage', 'Mortgage', 'Debt collection', 'Mortgage', 'Debt collection', 'Debt collection', 'Debt collection', 'Credit card or prepaid card', 'Debt collection', 'Checking or savings account', 'Mortgage', 'Credit card or prepaid card', 'Debt collection', 'Debt collection', 'Mortgage', 'Debt collection', 'Credit card or prepaid card', 'Debt collection', 'Debt collection', 'Debt collection', 'Debt collection', 'Debt collection', 'Credit card or prepaid card', 'Debt collection', 'Mortgage', 'Checking or savings account', 'Student loan', 'Mortgage', 'Credit card or prepaid card', 'Checking or savings account', 'Debt collection', 'Vehicle loan or lease', 'Mortgage', 'Credit card or prepaid card', 'Checking or savings account', 'Mortgage', 'Credit card or prepaid card', 'Mortgage', 'Credit card or prepaid card', 'Mortgage', 'Checking or savings account', 'Mortgage', 'Credit card or prepaid card', 'Credit card or prepaid card', 'Credit card or prepaid card', 'Checking or savings account', 'Checking or savings account', 'Debt collection', 'Credit card or prepaid card', 'Credit card or prepaid card', 'Debt collection', 'Mortgage', 'Checking or savings account', 'Debt collection', 'Vehicle loan or lease', 'Mortgage', 'Debt collection', 'Debt collection', 'Mortgage', 'Credit card or prepaid card', 'Debt collection', 'Credit card or prepaid card', 'Credit card or prepaid card', 'Mortgage', 'Debt collection', 'Mortgage', 'Debt collection', 'Debt collection', 'Debt collection', 'Debt collection', 'Credit card or prepaid card', 'Mortgage', 'Vehicle loan or lease', 'Credit card or prepaid card', 'Credit card or prepaid card', 'Student loan', 'Credit card or prepaid card', 'Debt collection', 'Credit card or prepaid card', 'Credit card or prepaid card', 'Debt collection', 'Mortgage', 'Debt collection', 'Debt collection', 'Student loan', 'Mortgage', 'Mortgage', 'Credit card or prepaid card', 'Credit card or prepaid card', 'Student loan', 'Credit card or prepaid card', 'Mortgage', 'Debt collection', 'Debt collection', 'Checking or savings account', 'Vehicle loan or lease', 'Mortgage', 'Debt collection', 'Debt collection', 'Credit card or prepaid card', 'Debt collection', 'Mortgage', 'Debt collection', 'Credit card or prepaid card', 'Credit card or prepaid card', 'Checking or savings account', 'Debt collection', 'Mortgage', 'Debt collection', 'Debt collection', 'Mortgage', 'Vehicle loan or lease', 'Debt collection', 'Debt collection', 'Mortgage', 'Credit card or prepaid card', 'Debt collection', 'Checking or savings account', 'Mortgage', 'Debt collection', 'Debt collection', 'Credit card or prepaid card', 'Checking or savings account', 'Credit card or prepaid card', 'Credit card or prepaid card', 'Debt collection', 'Checking or savings account', 'Student loan', 'Mortgage', 'Vehicle loan or lease', 'Credit card or prepaid card', 'Credit card or prepaid card', 'Credit card or prepaid card', 'Credit card or prepaid card', 'Student loan', 'Debt collection', 'Debt collection', 'Mortgage', 'Debt collection', 'Student loan', 'Credit card or prepaid card', 'Vehicle loan or lease', 'Debt collection', 'Credit card or prepaid card', 'Debt collection', 'Mortgage', 'Checking or savings account', 'Credit card or prepaid card', 'Credit card or prepaid card', 'Student loan', 'Debt collection', 'Debt collection', 'Mortgage', 'Credit card or prepaid card', 'Student loan', 'Credit card or prepaid card', 'Checking or savings account', 'Credit card or prepaid card', 'Debt collection', 'Mortgage', 'Debt collection', 'Debt collection', 'Checking or savings account', 'Credit card or prepaid card', 'Mortgage', 'Vehicle loan or lease', 'Student loan', 'Mortgage', 'Credit card or prepaid card', 'Checking or savings account', 'Debt collection', 'Debt collection', 'Mortgage', 'Debt collection', 'Checking or savings account', 'Mortgage', 'Mortgage', 'Mortgage', 'Credit card or prepaid card', 'Mortgage', 'Debt collection', 'Debt collection', 'Mortgage', 'Checking or savings account', 'Vehicle loan or lease', 'Credit card or prepaid card', 'Credit card or prepaid card', 'Debt collection', 'Credit card or prepaid card', 'Credit card or prepaid card', 'Debt collection', 'Debt collection', 'Debt collection', 'Mortgage', 'Checking or savings account', 'Student loan', 'Credit card or prepaid card', 'Debt collection', 'Credit card or prepaid card', 'Debt collection', 'Vehicle loan or lease', 'Checking or savings account', 'Credit card or prepaid card', 'Credit card or prepaid card', 'Checking or savings account', 'Debt collection', 'Credit card or prepaid card', 'Debt collection', 'Student loan', 'Checking or savings account', 'Credit card or prepaid card', 'Mortgage', 'Checking or savings account', 'Mortgage', 'Debt collection', 'Debt collection', 'Debt collection', 'Debt collection', 'Checking or savings account', 'Vehicle loan or lease', 'Debt collection', 'Mortgage', 'Debt collection', 'Checking or savings account', 'Credit card or prepaid card', 'Credit card or prepaid card', 'Credit card or prepaid card', 'Debt collection', 'Checking or savings account', 'Mortgage', 'Debt collection', 'Mortgage', 'Credit card or prepaid card', 'Mortgage', 'Debt collection', 'Mortgage', 'Mortgage', 'Mortgage', 'Debt collection', 'Debt collection', 'Debt collection', 'Credit card or prepaid card', 'Debt collection', 'Student loan', 'Vehicle loan or lease', 'Credit card or prepaid card', 'Credit card or prepaid card', 'Debt collection', 'Debt collection', 'Credit card or prepaid card', 'Vehicle loan or lease', 'Mortgage', 'Checking or savings account', 'Mortgage', 'Checking or savings account', 'Credit card or prepaid card', 'Credit card or prepaid card', 'Credit card or prepaid card', 'Mortgage', 'Debt collection', 'Debt collection', 'Debt collection', 'Debt collection', 'Mortgage', 'Debt collection', 'Checking or savings account', 'Debt collection', 'Credit card or prepaid card', 'Debt collection', 'Debt collection', 'Debt collection', 'Checking or savings account', 'Debt collection', 'Debt collection', 'Checking or savings account', 'Debt collection', 'Debt collection', 'Debt collection', 'Credit card or prepaid card', 'Debt collection', 'Debt collection', 'Mortgage', 'Checking or savings account', 'Mortgage', 'Debt collection', 'Credit card or prepaid card', 'Credit card or prepaid card', 'Debt collection', 'Debt collection', 'Student loan', 'Vehicle loan or lease', 'Student loan', 'Student loan', 'Debt collection', 'Checking or savings account', 'Mortgage', 'Debt collection', 'Credit card or prepaid card', 'Mortgage', 'Debt collection', 'Credit card or prepaid card', 'Checking or savings account', 'Mortgage', 'Checking or savings account', 'Debt collection', 'Debt collection', 'Mortgage', 'Mortgage', 'Mortgage', 'Debt collection', 'Debt collection', 'Checking or savings account', 'Credit card or prepaid card', 'Mortgage', 'Mortgage', 'Credit card or prepaid card', 'Credit card or prepaid card', 'Debt collection', 'Mortgage', 'Vehicle loan or lease', 'Debt collection', 'Credit card or prepaid card', 'Credit card or prepaid card', 'Credit card or prepaid card', 'Credit card or prepaid card', 'Debt collection', 'Credit card or prepaid card', 'Credit card or prepaid card', 'Credit card or prepaid card', 'Student loan', 'Vehicle loan or lease', 'Checking or savings account', 'Credit card or prepaid card', 'Debt collection', 'Debt collection', 'Debt collection', 'Checking or savings account', 'Mortgage', 'Debt collection', 'Checking or savings account', 'Debt collection', 'Checking or savings account', 'Checking or savings account', 'Checking or savings account', 'Mortgage', 'Checking or savings account', 'Credit card or prepaid card', 'Debt collection', 'Credit card or prepaid card', 'Debt collection', 'Debt collection', 'Debt collection', 'Checking or savings account', 'Checking or savings account', 'Checking or savings account', 'Debt collection', 'Credit card or prepaid card', 'Credit card or prepaid card', 'Debt collection', 'Debt collection', 'Debt collection', 'Debt collection', 'Debt collection', 'Mortgage', 'Credit card or prepaid card', 'Student loan', 'Checking or savings account', 'Credit card or prepaid card', 'Debt collection', 'Credit card or prepaid card', 'Credit card or prepaid card', 'Vehicle loan or lease', 'Credit card or prepaid card', 'Checking or savings account', 'Credit card or prepaid card', 'Debt collection', 'Checking or savings account', 'Debt collection', 'Debt collection', 'Debt collection', 'Vehicle loan or lease', 'Student loan', 'Mortgage', 'Debt collection', 'Checking or savings account', 'Debt collection', 'Mortgage', 'Checking or savings account', 'Mortgage', 'Debt collection', 'Credit card or prepaid card', 'Mortgage', 'Debt collection', 'Debt collection', 'Credit card or prepaid card', 'Debt collection', 'Debt collection', 'Credit card or prepaid card', 'Debt collection', 'Credit card or prepaid card', 'Mortgage', 'Debt collection', 'Mortgage', 'Debt collection', 'Student loan', 'Debt collection', 'Debt collection', 'Credit card or prepaid card', 'Credit card or prepaid card', 'Mortgage', 'Student loan', 'Checking or savings account', 'Credit card or prepaid card', 'Mortgage', 'Checking or savings account', 'Credit card or prepaid card', 'Debt collection', 'Credit card or prepaid card', 'Debt collection', 'Mortgage', 'Credit card or prepaid card', 'Mortgage', 'Mortgage', 'Debt collection', 'Vehicle loan or lease', 'Vehicle loan or lease', 'Credit card or prepaid card', 'Mortgage', 'Mortgage', 'Debt collection', 'Checking or savings account', 'Credit card or prepaid card', 'Debt collection', 'Credit card or prepaid card', 'Student loan', 'Checking or savings account', 'Credit card or prepaid card', 'Credit card or prepaid card', 'Credit card or prepaid card', 'Credit card or prepaid card', 'Credit card or prepaid card', 'Mortgage', 'Debt collection', 'Credit card or prepaid card', 'Credit card or prepaid card', 'Debt collection', 'Debt collection', 'Checking or savings account', 'Debt collection', 'Credit card or prepaid card', 'Checking or savings account', 'Debt collection', 'Mortgage', 'Mortgage', 'Mortgage', 'Checking or savings account', 'Debt collection', 'Student loan', 'Vehicle loan or lease', 'Debt collection', 'Credit card or prepaid card', 'Debt collection', 'Checking or savings account', 'Mortgage', 'Mortgage', 'Debt collection', 'Debt collection', 'Debt collection', 'Debt collection', 'Mortgage', 'Debt collection', 'Debt collection', 'Debt collection', 'Debt collection', 'Mortgage', 'Credit card or prepaid card', 'Student loan', 'Credit card or prepaid card', 'Mortgage', 'Mortgage', 'Credit card or prepaid card', 'Credit card or prepaid card', 'Mortgage', 'Debt collection', 'Credit card or prepaid card', 'Debt collection', 'Vehicle loan or lease', 'Checking or savings account', 'Debt collection', 'Debt collection', 'Credit card or prepaid card', 'Debt collection', 'Credit card or prepaid card', 'Credit card or prepaid card', 'Debt collection', 'Vehicle loan or lease', 'Debt collection', 'Debt collection', 'Debt collection', 'Credit card or prepaid card', 'Mortgage', 'Credit card or prepaid card', 'Credit card or prepaid card', 'Mortgage', 'Debt collection', 'Checking or savings account', 'Credit card or prepaid card', 'Vehicle loan or lease', 'Checking or savings account', 'Credit card or prepaid card', 'Student loan', 'Debt collection', 'Credit card or prepaid card', 'Mortgage', 'Credit card or prepaid card', 'Credit card or prepaid card', 'Mortgage', 'Checking or savings account', 'Student loan', 'Mortgage', 'Debt collection', 'Debt collection', 'Debt collection', 'Debt collection', 'Debt collection', 'Credit card or prepaid card', 'Credit card or prepaid card', 'Student loan', 'Mortgage', 'Credit card or prepaid card', 'Mortgage', 'Debt collection', 'Checking or savings account', 'Credit card or prepaid card', 'Mortgage', 'Credit card or prepaid card', 'Credit card or prepaid card', 'Debt collection', 'Debt collection', 'Debt collection', 'Debt collection', 'Vehicle loan or lease', 'Mortgage', 'Debt collection', 'Credit card or prepaid card', 'Credit card or prepaid card', 'Credit card or prepaid card', 'Debt collection', 'Mortgage', 'Credit card or prepaid card', 'Checking or savings account', 'Mortgage', 'Student loan', 'Student loan', 'Debt collection', 'Debt collection', 'Mortgage', 'Credit card or prepaid card', 'Checking or savings account', 'Checking or savings account', 'Debt collection', 'Student loan', 'Vehicle loan or lease', 'Vehicle loan or lease', 'Credit card or prepaid card', 'Debt collection', 'Debt collection', 'Credit card or prepaid card', 'Checking or savings account', 'Mortgage', 'Checking or savings account', 'Vehicle loan or lease', 'Debt collection', 'Mortgage', 'Credit card or prepaid card', 'Credit card or prepaid card', 'Debt collection', 'Checking or savings account', 'Student loan', 'Debt collection', 'Credit card or prepaid card', 'Credit card or prepaid card', 'Debt collection', 'Checking or savings account', 'Debt collection', 'Debt collection', 'Mortgage', 'Student loan', 'Debt collection', 'Credit card or prepaid card', 'Debt collection', 'Credit card or prepaid card', 'Mortgage', 'Debt collection', 'Credit card or prepaid card', 'Debt collection', 'Debt collection', 'Checking or savings account', 'Debt collection', 'Debt collection', 'Student loan', 'Debt collection', 'Checking or savings account', 'Debt collection', 'Vehicle loan or lease', 'Debt collection', 'Credit card or prepaid card', 'Checking or savings account', 'Checking or savings account', 'Mortgage', 'Student loan', 'Mortgage', 'Credit card or prepaid card', 'Credit card or prepaid card', 'Credit card or prepaid card', 'Debt collection', 'Student loan', 'Mortgage', 'Mortgage', 'Credit card or prepaid card', 'Mortgage', 'Mortgage', 'Debt collection', 'Credit card or prepaid card', 'Vehicle loan or lease', 'Credit card or prepaid card', 'Vehicle loan or lease', 'Credit card or prepaid card', 'Credit card or prepaid card', 'Mortgage', 'Mortgage', 'Credit card or prepaid card', 'Student loan', 'Mortgage', 'Credit card or prepaid card', 'Student loan', 'Debt collection', 'Debt collection', 'Checking or savings account', 'Credit card or prepaid card', 'Checking or savings account', 'Debt collection', 'Debt collection', 'Checking or savings account', 'Debt collection', 'Debt collection', 'Vehicle loan or lease', 'Vehicle loan or lease', 'Mortgage', 'Debt collection', 'Vehicle loan or lease', 'Debt collection', 'Debt collection', 'Student loan', 'Debt collection', 'Debt collection', 'Debt collection', 'Debt collection', 'Debt collection', 'Credit card or prepaid card', 'Debt collection', 'Debt collection', 'Debt collection', 'Debt collection', 'Debt collection', 'Checking or savings account', 'Debt collection', 'Mortgage', 'Debt collection', 'Vehicle loan or lease', 'Vehicle loan or lease', 'Credit card or prepaid card', 'Mortgage', 'Checking or savings account', 'Mortgage', 'Credit card or prepaid card', 'Mortgage', 'Debt collection', 'Debt collection', 'Credit card or prepaid card', 'Credit card or prepaid card', 'Mortgage', 'Debt collection', 'Checking or savings account', 'Debt collection', 'Debt collection', 'Vehicle loan or lease', 'Debt collection', 'Checking or savings account', 'Mortgage', 'Checking or savings account', 'Debt collection', 'Credit card or prepaid card', 'Mortgage', 'Credit card or prepaid card', 'Credit card or prepaid card', 'Debt collection', 'Checking or savings account', 'Debt collection', 'Vehicle loan or lease', 'Credit card or prepaid card', 'Credit card or prepaid card', 'Debt collection', 'Student loan', 'Debt collection', 'Credit card or prepaid card', 'Debt collection', 'Debt collection', 'Debt collection', 'Credit card or prepaid card', 'Debt collection', 'Mortgage', 'Debt collection', 'Debt collection', 'Mortgage', 'Credit card or prepaid card', 'Debt collection', 'Debt collection', 'Mortgage', 'Student loan', 'Debt collection', 'Debt collection', 'Credit card or prepaid card', 'Debt collection', 'Mortgage', 'Checking or savings account', 'Credit card or prepaid card', 'Vehicle loan or lease', 'Vehicle loan or lease', 'Debt collection', 'Credit card or prepaid card', 'Mortgage', 'Mortgage', 'Mortgage', 'Debt collection', 'Debt collection', 'Mortgage', 'Debt collection', 'Credit card or prepaid card', 'Credit card or prepaid card', 'Mortgage', 'Debt collection', 'Debt collection', 'Credit card or prepaid card', 'Debt collection', 'Credit card or prepaid card', 'Checking or savings account', 'Debt collection', 'Credit card or prepaid card', 'Credit card or prepaid card', 'Debt collection', 'Checking or savings account', 'Credit card or prepaid card', 'Credit card or prepaid card', 'Mortgage', 'Debt collection', 'Credit card or prepaid card', 'Mortgage', 'Debt collection', 'Debt collection', 'Checking or savings account', 'Debt collection', 'Checking or savings account', 'Credit card or prepaid card', 'Checking or savings account', 'Credit card or prepaid card', 'Student loan', 'Checking or savings account', 'Debt collection', 'Checking or savings account', 'Debt collection', 'Credit card or prepaid card', 'Debt collection', 'Checking or savings account', 'Mortgage', 'Student loan', 'Student loan', 'Debt collection', 'Credit card or prepaid card', 'Debt collection', 'Mortgage', 'Credit card or prepaid card', 'Debt collection', 'Debt collection', 'Debt collection', 'Credit card or prepaid card', 'Mortgage', 'Debt collection', 'Debt collection', 'Checking or savings account', 'Debt collection', 'Checking or savings account', 'Debt collection', 'Checking or savings account', 'Credit card or prepaid card', 'Credit card or prepaid card', 'Student loan', 'Vehicle loan or lease', 'Debt collection', 'Student loan', 'Mortgage', 'Credit card or prepaid card', 'Debt collection', 'Debt collection', 'Debt collection', 'Credit card or prepaid card', 'Credit card or prepaid card', 'Mortgage', 'Debt collection', 'Checking or savings account', 'Debt collection', 'Debt collection', 'Debt collection', 'Credit card or prepaid card', 'Student loan', 'Vehicle loan or lease', 'Credit card or prepaid card', 'Mortgage', 'Checking or savings account', 'Mortgage', 'Credit card or prepaid card', 'Debt collection', 'Credit card or prepaid card', 'Checking or savings account', 'Mortgage', 'Credit card or prepaid card', 'Credit card or prepaid card', 'Checking or savings account', 'Vehicle loan or lease', 'Vehicle loan or lease', 'Mortgage', 'Credit card or prepaid card', 'Credit card or prepaid card', 'Credit card or prepaid card', 'Credit card or prepaid card', 'Debt collection', 'Debt collection', 'Debt collection', 'Mortgage', 'Checking or savings account', 'Mortgage', 'Credit card or prepaid card', 'Credit card or prepaid card', 'Checking or savings account', 'Mortgage', 'Debt collection', 'Credit card or prepaid card', 'Debt collection', 'Debt collection', 'Debt collection', 'Mortgage', 'Vehicle loan or lease', 'Checking or savings account', 'Checking or savings account', 'Credit card or prepaid card', 'Debt collection', 'Debt collection', 'Debt collection', 'Credit card or prepaid card', 'Credit card or prepaid card', 'Debt collection', 'Mortgage', 'Credit card or prepaid card', 'Credit card or prepaid card', 'Credit card or prepaid card', 'Checking or savings account', 'Checking or savings account', 'Checking or savings account', 'Debt collection', 'Debt collection', 'Mortgage', 'Debt collection', 'Checking or savings account', 'Mortgage', 'Debt collection', 'Credit card or prepaid card', 'Debt collection', 'Debt collection', 'Debt collection', 'Debt collection', 'Debt collection', 'Mortgage', 'Mortgage', 'Checking or savings account', 'Checking or savings account', 'Credit card or prepaid card', 'Vehicle loan or lease', 'Credit card or prepaid card', 'Credit card or prepaid card', 'Checking or savings account', 'Credit card or prepaid card', 'Mortgage', 'Student loan', 'Credit card or prepaid card', 'Mortgage', 'Debt collection', 'Mortgage', 'Checking or savings account', 'Debt collection', 'Debt collection', 'Checking or savings account', 'Vehicle loan or lease', 'Credit card or prepaid card', 'Checking or savings account', 'Credit card or prepaid card', 'Mortgage', 'Debt collection', 'Debt collection', 'Mortgage', 'Mortgage', 'Student loan', 'Debt collection', 'Debt collection', 'Mortgage', 'Mortgage', 'Mortgage', 'Debt collection', 'Vehicle loan or lease', 'Credit card or prepaid card', 'Credit card or prepaid card', 'Debt collection', 'Checking or savings account', 'Debt collection', 'Debt collection', 'Mortgage', 'Debt collection', 'Mortgage', 'Credit card or prepaid card', 'Debt collection', 'Checking or savings account', 'Student loan', 'Credit card or prepaid card', 'Debt collection', 'Mortgage', 'Checking or savings account', 'Mortgage', 'Credit card or prepaid card', 'Checking or savings account', 'Mortgage', 'Credit card or prepaid card', 'Mortgage', 'Debt collection', 'Debt collection', 'Debt collection', 'Credit card or prepaid card', 'Student loan', 'Student loan', 'Credit card or prepaid card', 'Credit card or prepaid card', 'Credit card or prepaid card', 'Mortgage', 'Credit card or prepaid card', 'Vehicle loan or lease', 'Debt collection', 'Debt collection', 'Credit card or prepaid card', 'Debt collection', 'Credit card or prepaid card', 'Credit card or prepaid card', 'Debt collection', 'Debt collection', 'Checking or savings account', 'Debt collection', 'Mortgage', 'Credit card or prepaid card', 'Debt collection', 'Student loan', 'Mortgage', 'Credit card or prepaid card', 'Checking or savings account', 'Checking or savings account', 'Debt collection', 'Credit card or prepaid card', 'Checking or savings account', 'Credit card or prepaid card', 'Mortgage', 'Mortgage', 'Mortgage', 'Debt collection', 'Debt collection', 'Debt collection', 'Debt collection', 'Checking or savings account', 'Debt collection', 'Student loan', 'Debt collection', 'Debt collection', 'Debt collection', 'Mortgage', 'Debt collection', 'Mortgage', 'Mortgage', 'Mortgage', 'Credit card or prepaid card', 'Checking or savings account', 'Credit card or prepaid card', 'Debt collection', 'Debt collection', 'Student loan', 'Debt collection', 'Checking or savings account', 'Mortgage', 'Mortgage', 'Mortgage', 'Debt collection', 'Mortgage', 'Credit card or prepaid card', 'Credit card or prepaid card', 'Student loan', 'Credit card or prepaid card', 'Debt collection', 'Debt collection', 'Credit card or prepaid card', 'Debt collection', 'Student loan', 'Student loan', 'Debt collection', 'Debt collection', 'Checking or savings account', 'Vehicle loan or lease', 'Checking or savings account', 'Checking or savings account', 'Debt collection', 'Checking or savings account', 'Vehicle loan or lease', 'Credit card or prepaid card', 'Credit card or prepaid card', 'Debt collection', 'Checking or savings account', 'Debt collection', 'Mortgage', 'Debt collection', 'Debt collection', 'Mortgage', 'Debt collection', 'Mortgage', 'Debt collection', 'Debt collection', 'Checking or savings account', 'Debt collection', 'Debt collection', 'Credit card or prepaid card', 'Debt collection', 'Debt collection', 'Debt collection', 'Credit card or prepaid card', 'Mortgage', 'Mortgage', 'Student loan', 'Checking or savings account', 'Credit card or prepaid card', 'Credit card or prepaid card', 'Mortgage', 'Debt collection', 'Vehicle loan or lease', 'Mortgage', 'Debt collection', 'Debt collection', 'Student loan', 'Credit card or prepaid card', 'Debt collection', 'Vehicle loan or lease', 'Mortgage', 'Debt collection', 'Debt collection', 'Debt collection', 'Credit card or prepaid card', 'Mortgage', 'Debt collection', 'Credit card or prepaid card', 'Credit card or prepaid card', 'Credit card or prepaid card', 'Mortgage', 'Debt collection', 'Vehicle loan or lease', 'Checking or savings account', 'Mortgage', 'Student loan', 'Debt collection', 'Student loan', 'Mortgage', 'Debt collection', 'Debt collection', 'Student loan', 'Vehicle loan or lease', 'Mortgage', 'Checking or savings account', 'Debt collection', 'Mortgage', 'Debt collection', 'Debt collection', 'Debt collection', 'Credit card or prepaid card', 'Debt collection', 'Debt collection', 'Mortgage', 'Student loan', 'Credit card or prepaid card', 'Mortgage', 'Mortgage', 'Mortgage', 'Mortgage', 'Mortgage', 'Vehicle loan or lease', 'Credit card or prepaid card', 'Mortgage', 'Credit card or prepaid card', 'Student loan', 'Debt collection', 'Debt collection', 'Student loan', 'Credit card or prepaid card', 'Debt collection', 'Mortgage', 'Mortgage', 'Checking or savings account', 'Credit card or prepaid card', 'Mortgage', 'Mortgage', 'Checking or savings account', 'Debt collection', 'Debt collection', 'Credit card or prepaid card', 'Mortgage', 'Credit card or prepaid card', 'Mortgage', 'Checking or savings account', 'Credit card or prepaid card', 'Debt collection', 'Debt collection', 'Debt collection', 'Vehicle loan or lease', 'Credit card or prepaid card', 'Checking or savings account', 'Credit card or prepaid card', 'Checking or savings account', 'Mortgage', 'Debt collection', 'Debt collection', 'Debt collection', 'Mortgage', 'Mortgage', 'Debt collection', 'Checking or savings account', 'Debt collection', 'Checking or savings account', 'Debt collection', 'Debt collection', 'Credit card or prepaid card', 'Credit card or prepaid card', 'Debt collection', 'Mortgage', 'Debt collection', 'Debt collection', 'Credit card or prepaid card', 'Debt collection', 'Mortgage', 'Vehicle loan or lease', 'Mortgage', 'Debt collection', 'Credit card or prepaid card', 'Credit card or prepaid card', 'Credit card or prepaid card', 'Credit card or prepaid card', 'Checking or savings account', 'Student loan', 'Debt collection', 'Credit card or prepaid card', 'Debt collection', 'Debt collection', 'Credit card or prepaid card', 'Debt collection', 'Debt collection', 'Credit card or prepaid card', 'Vehicle loan or lease', 'Debt collection', 'Checking or savings account', 'Debt collection', 'Student loan', 'Vehicle loan or lease', 'Debt collection', 'Checking or savings account', 'Debt collection', 'Debt collection', 'Mortgage', 'Checking or savings account', 'Debt collection', 'Vehicle loan or lease', 'Debt collection', 'Debt collection', 'Vehicle loan or lease', 'Student loan', 'Mortgage', 'Debt collection', 'Student loan', 'Debt collection', 'Debt collection', 'Credit card or prepaid card', 'Checking or savings account', 'Vehicle loan or lease', 'Debt collection', 'Debt collection', 'Debt collection', 'Mortgage', 'Checking or savings account', 'Debt collection', 'Credit card or prepaid card', 'Credit card or prepaid card', 'Debt collection', 'Vehicle loan or lease', 'Vehicle loan or lease', 'Checking or savings account', 'Credit card or prepaid card', 'Checking or savings account', 'Credit card or prepaid card', 'Credit card or prepaid card', 'Credit card or prepaid card', 'Checking or savings account', 'Mortgage', 'Debt collection', 'Mortgage', 'Student loan', 'Credit card or prepaid card', 'Debt collection', 'Credit card or prepaid card', 'Debt collection', 'Debt collection', 'Debt collection', 'Credit card or prepaid card', 'Credit card or prepaid card', 'Student loan', 'Debt collection', 'Checking or savings account', 'Debt collection', 'Mortgage', 'Checking or savings account', 'Mortgage', 'Mortgage', 'Mortgage', 'Mortgage', 'Student loan', 'Mortgage', 'Debt collection', 'Mortgage', 'Mortgage', 'Credit card or prepaid card', 'Credit card or prepaid card', 'Credit card or prepaid card', 'Credit card or prepaid card', 'Credit card or prepaid card', 'Credit card or prepaid card', 'Debt collection', 'Mortgage', 'Debt collection', 'Debt collection', 'Student loan', 'Credit card or prepaid card', 'Mortgage', 'Debt collection', 'Debt collection', 'Mortgage', 'Debt collection', 'Credit card or prepaid card', 'Debt collection', 'Mortgage', 'Credit card or prepaid card', 'Checking or savings account', 'Debt collection', 'Credit card or prepaid card', 'Debt collection', 'Mortgage', 'Debt collection', 'Credit card or prepaid card', 'Checking or savings account', 'Debt collection', 'Debt collection', 'Debt collection', 'Checking or savings account', 'Debt collection', 'Mortgage', 'Mortgage', 'Student loan', 'Vehicle loan or lease', 'Debt collection', 'Debt collection', 'Credit card or prepaid card', 'Checking or savings account', 'Debt collection', 'Debt collection', 'Debt collection', 'Debt collection', 'Mortgage', 'Vehicle loan or lease', 'Credit card or prepaid card', 'Debt collection', 'Student loan', 'Checking or savings account', 'Student loan', 'Checking or savings account', 'Credit card or prepaid card', 'Debt collection', 'Mortgage', 'Mortgage', 'Debt collection', 'Mortgage', 'Credit card or prepaid card', 'Credit card or prepaid card', 'Debt collection', 'Mortgage', 'Debt collection', 'Credit card or prepaid card', 'Debt collection', 'Credit card or prepaid card', 'Checking or savings account', 'Credit card or prepaid card', 'Checking or savings account', 'Checking or savings account', 'Debt collection', 'Debt collection', 'Credit card or prepaid card', 'Debt collection', 'Student loan', 'Checking or savings account', 'Checking or savings account', 'Credit card or prepaid card', 'Debt collection', 'Debt collection', 'Mortgage', 'Credit card or prepaid card', 'Mortgage', 'Mortgage', 'Checking or savings account', 'Debt collection', 'Debt collection', 'Vehicle loan or lease', 'Checking or savings account', 'Checking or savings account', 'Debt collection', 'Credit card or prepaid card', 'Debt collection', 'Debt collection', 'Mortgage', 'Credit card or prepaid card', 'Debt collection', 'Debt collection', 'Credit card or prepaid card', 'Debt collection', 'Debt collection', 'Debt collection', 'Checking or savings account', 'Vehicle loan or lease', 'Mortgage', 'Debt collection', 'Mortgage', 'Checking or savings account', 'Checking or savings account', 'Credit card or prepaid card', 'Debt collection', 'Debt collection', 'Debt collection', 'Student loan', 'Credit card or prepaid card', 'Mortgage', 'Debt collection', 'Credit card or prepaid card', 'Credit card or prepaid card', 'Debt collection', 'Debt collection', 'Student loan', 'Credit card or prepaid card', 'Mortgage', 'Credit card or prepaid card', 'Checking or savings account', 'Debt collection', 'Debt collection', 'Student loan', 'Debt collection', 'Student loan', 'Debt collection', 'Credit card or prepaid card', 'Debt collection', 'Debt collection', 'Credit card or prepaid card', 'Mortgage', 'Vehicle loan or lease', 'Credit card or prepaid card', 'Debt collection', 'Checking or savings account', 'Mortgage', 'Credit card or prepaid card', 'Debt collection', 'Credit card or prepaid card', 'Debt collection', 'Credit card or prepaid card', 'Checking or savings account', 'Credit card or prepaid card', 'Checking or savings account', 'Checking or savings account', 'Debt collection', 'Debt collection', 'Credit card or prepaid card', 'Debt collection', 'Student loan', 'Checking or savings account', 'Credit card or prepaid card', 'Debt collection', 'Vehicle loan or lease', 'Checking or savings account', 'Credit card or prepaid card', 'Mortgage', 'Checking or savings account', 'Mortgage', 'Debt collection', 'Credit card or prepaid card', 'Checking or savings account', 'Mortgage', 'Debt collection', 'Debt collection', 'Mortgage', 'Mortgage', 'Credit card or prepaid card', 'Debt collection', 'Vehicle loan or lease', 'Credit card or prepaid card', 'Checking or savings account', 'Credit card or prepaid card', 'Debt collection', 'Credit card or prepaid card', 'Debt collection', 'Checking or savings account', 'Debt collection', 'Student loan', 'Debt collection', 'Debt collection', 'Debt collection', 'Mortgage', 'Debt collection', 'Credit card or prepaid card', 'Debt collection', 'Debt collection', 'Credit card or prepaid card', 'Debt collection', 'Debt collection', 'Debt collection', 'Debt collection', 'Checking or savings account', 'Mortgage', 'Mortgage', 'Checking or savings account', 'Credit card or prepaid card', 'Debt collection', 'Mortgage', 'Mortgage', 'Debt collection', 'Mortgage', 'Mortgage', 'Mortgage', 'Debt collection', 'Checking or savings account', 'Mortgage', 'Student loan', 'Credit card or prepaid card', 'Debt collection', 'Debt collection', 'Checking or savings account', 'Debt collection', 'Mortgage', 'Mortgage', 'Credit card or prepaid card', 'Credit card or prepaid card', 'Debt collection', 'Mortgage', 'Credit card or prepaid card', 'Debt collection', 'Credit card or prepaid card', 'Debt collection', 'Debt collection', 'Mortgage', 'Debt collection', 'Debt collection', 'Mortgage', 'Debt collection', 'Mortgage', 'Debt collection', 'Checking or savings account', 'Credit card or prepaid card', 'Debt collection', 'Mortgage', 'Debt collection', 'Debt collection', 'Vehicle loan or lease', 'Mortgage', 'Credit card or prepaid card', 'Mortgage', 'Debt collection', 'Mortgage', 'Mortgage', 'Mortgage', 'Credit card or prepaid card', 'Checking or savings account', 'Debt collection', 'Credit card or prepaid card', 'Debt collection', 'Mortgage', 'Debt collection', 'Student loan', 'Mortgage', 'Checking or savings account', 'Debt collection', 'Mortgage', 'Debt collection', 'Checking or savings account', 'Mortgage', 'Credit card or prepaid card', 'Credit card or prepaid card', 'Debt collection', 'Checking or savings account', 'Credit card or prepaid card', 'Mortgage', 'Credit card or prepaid card', 'Debt collection', 'Debt collection', 'Credit card or prepaid card', 'Debt collection', 'Debt collection', 'Credit card or prepaid card', 'Checking or savings account', 'Checking or savings account', 'Mortgage', 'Credit card or prepaid card', 'Mortgage', 'Checking or savings account', 'Credit card or prepaid card', 'Debt collection', 'Credit card or prepaid card', 'Credit card or prepaid card', 'Debt collection', 'Debt collection', 'Credit card or prepaid card', 'Credit card or prepaid card', 'Mortgage', 'Debt collection', 'Credit card or prepaid card', 'Vehicle loan or lease', 'Credit card or prepaid card', 'Checking or savings account', 'Debt collection', 'Credit card or prepaid card', 'Vehicle loan or lease', 'Mortgage', 'Debt collection', 'Debt collection', 'Debt collection', 'Debt collection', 'Debt collection', 'Debt collection', 'Mortgage', 'Mortgage', 'Mortgage', 'Checking or savings account', 'Debt collection', 'Mortgage', 'Debt collection', 'Debt collection', 'Debt collection', 'Credit card or prepaid card', 'Mortgage', 'Checking or savings account', 'Mortgage', 'Checking or savings account', 'Debt collection', 'Credit card or prepaid card', 'Mortgage', 'Mortgage', 'Debt collection', 'Mortgage', 'Debt collection', 'Debt collection', 'Mortgage', 'Debt collection', 'Credit card or prepaid card', 'Student loan', 'Checking or savings account', 'Debt collection', 'Debt collection', 'Mortgage', 'Debt collection', 'Checking or savings account', 'Credit card or prepaid card', 'Credit card or prepaid card', 'Debt collection', 'Mortgage', 'Checking or savings account', 'Mortgage', 'Mortgage', 'Mortgage', 'Mortgage', 'Debt collection', 'Debt collection', 'Debt collection', 'Mortgage', 'Checking or savings account', 'Credit card or prepaid card', 'Credit card or prepaid card', 'Vehicle loan or lease', 'Debt collection', 'Credit card or prepaid card', 'Debt collection', 'Debt collection', 'Mortgage', 'Credit card or prepaid card', 'Checking or savings account', 'Student loan', 'Debt collection', 'Credit card or prepaid card', 'Student loan', 'Student loan', 'Credit card or prepaid card', 'Vehicle loan or lease', 'Debt collection', 'Mortgage', 'Debt collection', 'Debt collection', 'Debt collection', 'Mortgage', 'Mortgage', 'Mortgage', 'Checking or savings account', 'Debt collection', 'Mortgage', 'Debt collection', 'Mortgage', 'Debt collection', 'Debt collection', 'Debt collection', 'Credit card or prepaid card', 'Debt collection', 'Mortgage', 'Credit card or prepaid card', 'Credit card or prepaid card', 'Credit card or prepaid card', 'Credit card or prepaid card', 'Credit card or prepaid card', 'Credit card or prepaid card', 'Mortgage', 'Debt collection', 'Debt collection', 'Credit card or prepaid card', 'Student loan', 'Mortgage', 'Credit card or prepaid card', 'Mortgage', 'Debt collection', 'Debt collection', 'Credit card or prepaid card', 'Checking or savings account', 'Checking or savings account', 'Mortgage', 'Mortgage', 'Credit card or prepaid card', 'Credit card or prepaid card', 'Debt collection', 'Credit card or prepaid card', 'Mortgage', 'Checking or savings account', 'Debt collection', 'Credit card or prepaid card', 'Debt collection', 'Debt collection', 'Debt collection', 'Student loan', 'Student loan', 'Credit card or prepaid card', 'Credit card or prepaid card', 'Credit card or prepaid card', 'Vehicle loan or lease', 'Debt collection', 'Vehicle loan or lease', 'Credit card or prepaid card', 'Credit card or prepaid card', 'Checking or savings account', 'Mortgage', 'Debt collection', 'Credit card or prepaid card', 'Debt collection', 'Student loan', 'Mortgage', 'Credit card or prepaid card', 'Mortgage', 'Debt collection', 'Debt collection', 'Credit card or prepaid card', 'Debt collection', 'Mortgage', 'Credit card or prepaid card', 'Vehicle loan or lease', 'Vehicle loan or lease', 'Checking or savings account', 'Debt collection', 'Debt collection', 'Debt collection', 'Debt collection', 'Credit card or prepaid card', 'Debt collection', 'Checking or savings account', 'Credit card or prepaid card', 'Mortgage', 'Debt collection', 'Credit card or prepaid card', 'Credit card or prepaid card', 'Mortgage', 'Credit card or prepaid card', 'Mortgage', 'Credit card or prepaid card', 'Debt collection', 'Mortgage', 'Debt collection', 'Credit card or prepaid card', 'Credit card or prepaid card', 'Debt collection', 'Debt collection', 'Debt collection', 'Debt collection', 'Credit card or prepaid card', 'Credit card or prepaid card', 'Mortgage', 'Mortgage', 'Credit card or prepaid card', 'Mortgage', 'Debt collection', 'Credit card or prepaid card', 'Credit card or prepaid card', 'Debt collection', 'Debt collection', 'Debt collection', 'Credit card or prepaid card', 'Debt collection', 'Checking or savings account', 'Credit card or prepaid card', 'Debt collection', 'Debt collection', 'Mortgage', 'Debt collection', 'Mortgage', 'Debt collection', 'Mortgage', 'Credit card or prepaid card', 'Credit card or prepaid card', 'Mortgage', 'Credit card or prepaid card', 'Debt collection', 'Debt collection', 'Credit card or prepaid card', 'Mortgage', 'Debt collection', 'Credit card or prepaid card', 'Debt collection', 'Vehicle loan or lease', 'Mortgage', 'Mortgage', 'Debt collection', 'Credit card or prepaid card', 'Debt collection', 'Debt collection', 'Debt collection', 'Debt collection', 'Mortgage', 'Credit card or prepaid card', 'Debt collection', 'Mortgage', 'Student loan', 'Debt collection', 'Credit card or prepaid card', 'Debt collection', 'Debt collection', 'Mortgage', 'Debt collection', 'Debt collection', 'Debt collection', 'Debt collection', 'Credit card or prepaid card', 'Debt collection', 'Checking or savings account', 'Student loan', 'Debt collection', 'Mortgage', 'Debt collection', 'Debt collection', 'Debt collection', 'Debt collection', 'Credit card or prepaid card', 'Checking or savings account', 'Credit card or prepaid card', 'Student loan', 'Credit card or prepaid card', 'Debt collection', 'Student loan', 'Credit card or prepaid card', 'Credit card or prepaid card', 'Mortgage', 'Checking or savings account', 'Vehicle loan or lease', 'Credit card or prepaid card', 'Vehicle loan or lease', 'Mortgage', 'Mortgage', 'Credit card or prepaid card', 'Mortgage', 'Mortgage', 'Checking or savings account', 'Debt collection', 'Vehicle loan or lease', 'Mortgage', 'Credit card or prepaid card', 'Mortgage', 'Credit card or prepaid card', 'Mortgage', 'Vehicle loan or lease', 'Debt collection', 'Debt collection', 'Credit card or prepaid card', 'Debt collection', 'Student loan', 'Debt collection', 'Debt collection', 'Checking or savings account', 'Checking or savings account', 'Debt collection', 'Mortgage', 'Debt collection', 'Debt collection', 'Credit card or prepaid card', 'Checking or savings account', 'Debt collection', 'Debt collection', 'Student loan', 'Debt collection', 'Debt collection', 'Mortgage', 'Credit card or prepaid card', 'Mortgage', 'Debt collection', 'Debt collection', 'Debt collection', 'Credit card or prepaid card', 'Debt collection', 'Mortgage', 'Debt collection', 'Checking or savings account', 'Student loan', 'Debt collection', 'Mortgage', 'Checking or savings account', 'Credit card or prepaid card', 'Debt collection', 'Credit card or prepaid card', 'Mortgage', 'Debt collection', 'Student loan', 'Credit card or prepaid card', 'Debt collection', 'Debt collection', 'Credit card or prepaid card', 'Mortgage', 'Debt collection', 'Debt collection', 'Credit card or prepaid card', 'Debt collection', 'Credit card or prepaid card', 'Vehicle loan or lease', 'Student loan', 'Debt collection', 'Vehicle loan or lease', 'Mortgage', 'Debt collection', 'Mortgage', 'Debt collection', 'Debt collection', 'Debt collection', 'Vehicle loan or lease', 'Credit card or prepaid card', 'Checking or savings account', 'Debt collection', 'Mortgage', 'Student loan', 'Debt collection', 'Credit card or prepaid card', 'Debt collection', 'Mortgage', 'Debt collection', 'Checking or savings account', 'Debt collection', 'Checking or savings account', 'Credit card or prepaid card', 'Checking or savings account', 'Credit card or prepaid card', 'Credit card or prepaid card', 'Credit card or prepaid card', 'Mortgage', 'Credit card or prepaid card', 'Debt collection', 'Debt collection', 'Debt collection', 'Debt collection', 'Debt collection', 'Debt collection', 'Debt collection', 'Credit card or prepaid card', 'Debt collection', 'Debt collection', 'Checking or savings account', 'Debt collection', 'Debt collection', 'Credit card or prepaid card', 'Credit card or prepaid card', 'Vehicle loan or lease', 'Mortgage', 'Credit card or prepaid card', 'Credit card or prepaid card', 'Debt collection', 'Checking or savings account', 'Mortgage', 'Debt collection', 'Debt collection', 'Debt collection', 'Debt collection', 'Checking or savings account', 'Debt collection', 'Debt collection', 'Debt collection', 'Debt collection', 'Debt collection', 'Vehicle loan or lease', 'Mortgage', 'Mortgage', 'Debt collection', 'Debt collection', 'Mortgage', 'Mortgage', 'Mortgage', 'Debt collection', 'Checking or savings account', 'Student loan', 'Credit card or prepaid card', 'Credit card or prepaid card', 'Checking or savings account', 'Credit card or prepaid card', 'Credit card or prepaid card', 'Debt collection', 'Debt collection', 'Credit card or prepaid card', 'Vehicle loan or lease', 'Checking or savings account', 'Mortgage', 'Vehicle loan or lease', 'Checking or savings account', 'Credit card or prepaid card', 'Checking or savings account', 'Mortgage', 'Checking or savings account', 'Debt collection', 'Credit card or prepaid card', 'Credit card or prepaid card', 'Mortgage', 'Debt collection', 'Debt collection', 'Debt collection', 'Vehicle loan or lease', 'Debt collection', 'Credit card or prepaid card', 'Debt collection', 'Debt collection', 'Mortgage', 'Credit card or prepaid card', 'Debt collection', 'Vehicle loan or lease', 'Debt collection', 'Mortgage', 'Credit card or prepaid card', 'Checking or savings account', 'Credit card or prepaid card', 'Debt collection', 'Mortgage', 'Debt collection', 'Student loan', 'Student loan', 'Credit card or prepaid card', 'Debt collection', 'Debt collection', 'Vehicle loan or lease', 'Student loan', 'Debt collection', 'Mortgage', 'Credit card or prepaid card', 'Mortgage', 'Debt collection', 'Debt collection', 'Debt collection', 'Mortgage', 'Mortgage', 'Mortgage', 'Mortgage', 'Credit card or prepaid card', 'Debt collection', 'Credit card or prepaid card', 'Checking or savings account', 'Vehicle loan or lease', 'Checking or savings account', 'Debt collection', 'Credit card or prepaid card', 'Debt collection', 'Mortgage', 'Credit card or prepaid card', 'Debt collection', 'Debt collection', 'Mortgage', 'Mortgage', 'Debt collection', 'Credit card or prepaid card', 'Credit card or prepaid card', 'Debt collection', 'Debt collection', 'Debt collection', 'Credit card or prepaid card', 'Credit card or prepaid card', 'Mortgage', 'Vehicle loan or lease', 'Checking or savings account', 'Debt collection', 'Debt collection', 'Mortgage', 'Checking or savings account', 'Debt collection', 'Debt collection', 'Debt collection', 'Credit card or prepaid card', 'Student loan', 'Debt collection', 'Credit card or prepaid card', 'Debt collection', 'Debt collection', 'Credit card or prepaid card', 'Mortgage', 'Mortgage', 'Mortgage', 'Checking or savings account', 'Debt collection', 'Checking or savings account', 'Debt collection', 'Mortgage', 'Mortgage', 'Debt collection', 'Checking or savings account', 'Debt collection', 'Vehicle loan or lease', 'Debt collection', 'Debt collection', 'Debt collection', 'Debt collection', 'Debt collection', 'Mortgage', 'Debt collection', 'Debt collection', 'Debt collection', 'Credit card or prepaid card', 'Checking or savings account', 'Mortgage', 'Debt collection', 'Debt collection', 'Debt collection', 'Debt collection', 'Credit card or prepaid card', 'Vehicle loan or lease', 'Debt collection', 'Debt collection', 'Mortgage', 'Debt collection', 'Student loan', 'Vehicle loan or lease', 'Debt collection', 'Debt collection', 'Mortgage', 'Debt collection', 'Debt collection', 'Debt collection', 'Debt collection', 'Debt collection', 'Mortgage', 'Mortgage', 'Student loan', 'Student loan', 'Credit card or prepaid card', 'Credit card or prepaid card', 'Debt collection', 'Checking or savings account', 'Debt collection', 'Checking or savings account', 'Vehicle loan or lease', 'Mortgage', 'Checking or savings account', 'Credit card or prepaid card', 'Mortgage', 'Debt collection', 'Credit card or prepaid card', 'Debt collection', 'Debt collection', 'Vehicle loan or lease', 'Debt collection', 'Debt collection', 'Debt collection', 'Debt collection', 'Debt collection', 'Mortgage', 'Debt collection', 'Checking or savings account', 'Mortgage', 'Debt collection', 'Mortgage', 'Checking or savings account', 'Checking or savings account', 'Credit card or prepaid card', 'Debt collection', 'Vehicle loan or lease', 'Credit card or prepaid card', 'Mortgage', 'Student loan', 'Vehicle loan or lease', 'Debt collection', 'Debt collection', 'Debt collection', 'Credit card or prepaid card', 'Checking or savings account', 'Debt collection', 'Credit card or prepaid card', 'Checking or savings account', 'Checking or savings account', 'Debt collection', 'Mortgage', 'Credit card or prepaid card', 'Credit card or prepaid card', 'Debt collection', 'Debt collection', 'Vehicle loan or lease', 'Debt collection', 'Credit card or prepaid card', 'Mortgage', 'Mortgage', 'Debt collection', 'Debt collection', 'Credit card or prepaid card', 'Checking or savings account', 'Mortgage', 'Mortgage', 'Mortgage', 'Debt collection', 'Debt collection', 'Debt collection', 'Checking or savings account', 'Mortgage', 'Mortgage', 'Checking or savings account', 'Debt collection', 'Vehicle loan or lease', 'Credit card or prepaid card', 'Debt collection', 'Debt collection', 'Debt collection', 'Mortgage', 'Student loan', 'Debt collection', 'Debt collection', 'Debt collection', 'Mortgage', 'Checking or savings account', 'Debt collection', 'Credit card or prepaid card', 'Checking or savings account', 'Debt collection', 'Debt collection', 'Student loan', 'Credit card or prepaid card', 'Credit card or prepaid card', 'Credit card or prepaid card', 'Credit card or prepaid card', 'Debt collection', 'Debt collection', 'Checking or savings account', 'Credit card or prepaid card', 'Mortgage', 'Debt collection', 'Mortgage', 'Checking or savings account', 'Debt collection', 'Credit card or prepaid card', 'Debt collection', 'Debt collection', 'Debt collection', 'Debt collection', 'Mortgage', 'Debt collection', 'Debt collection', 'Debt collection', 'Debt collection', 'Vehicle loan or lease', 'Debt collection', 'Debt collection', 'Debt collection', 'Debt collection', 'Credit card or prepaid card', 'Credit card or prepaid card', 'Student loan', 'Credit card or prepaid card', 'Mortgage', 'Debt collection', 'Credit card or prepaid card', 'Mortgage', 'Debt collection', 'Credit card or prepaid card', 'Mortgage', 'Debt collection', 'Mortgage', 'Credit card or prepaid card', 'Debt collection', 'Debt collection', 'Debt collection', 'Debt collection', 'Student loan', 'Mortgage', 'Debt collection', 'Debt collection', 'Checking or savings account', 'Debt collection', 'Checking or savings account', 'Mortgage', 'Vehicle loan or lease', 'Debt collection', 'Credit card or prepaid card', 'Credit card or prepaid card', 'Debt collection', 'Debt collection', 'Student loan', 'Mortgage', 'Mortgage', 'Debt collection', 'Credit card or prepaid card', 'Vehicle loan or lease', 'Credit card or prepaid card', 'Credit card or prepaid card', 'Mortgage', 'Debt collection', 'Debt collection', 'Debt collection', 'Credit card or prepaid card', 'Debt collection', 'Debt collection', 'Mortgage', 'Student loan', 'Debt collection', 'Debt collection', 'Mortgage', 'Debt collection', 'Credit card or prepaid card', 'Debt collection', 'Student loan', 'Credit card or prepaid card', 'Debt collection', 'Debt collection', 'Debt collection', 'Mortgage', 'Checking or savings account', 'Checking or savings account', 'Debt collection', 'Checking or savings account', 'Credit card or prepaid card', 'Credit card or prepaid card', 'Debt collection', 'Debt collection', 'Debt collection', 'Debt collection', 'Mortgage', 'Credit card or prepaid card', 'Credit card or prepaid card', 'Mortgage', 'Credit card or prepaid card', 'Mortgage', 'Student loan', 'Debt collection', 'Debt collection', 'Debt collection', 'Debt collection', 'Debt collection', 'Credit card or prepaid card', 'Vehicle loan or lease', 'Debt collection', 'Debt collection', 'Credit card or prepaid card', 'Debt collection', 'Student loan', 'Debt collection', 'Debt collection', 'Debt collection', 'Credit card or prepaid card', 'Checking or savings account', 'Credit card or prepaid card', 'Debt collection', 'Student loan', 'Credit card or prepaid card', 'Credit card or prepaid card', 'Vehicle loan or lease', 'Checking or savings account', 'Credit card or prepaid card', 'Credit card or prepaid card', 'Debt collection', 'Debt collection', 'Checking or savings account', 'Debt collection', 'Student loan', 'Mortgage', 'Debt collection', 'Debt collection', 'Credit card or prepaid card', 'Checking or savings account', 'Credit card or prepaid card', 'Mortgage', 'Mortgage', 'Debt collection', 'Credit card or prepaid card', 'Checking or savings account', 'Debt collection', 'Student loan', 'Debt collection', 'Credit card or prepaid card', 'Checking or savings account', 'Debt collection', 'Checking or savings account', 'Student loan', 'Mortgage', 'Credit card or prepaid card', 'Vehicle loan or lease', 'Mortgage', 'Debt collection', 'Credit card or prepaid card', 'Credit card or prepaid card', 'Credit card or prepaid card', 'Debt collection', 'Checking or savings account', 'Mortgage', 'Vehicle loan or lease', 'Debt collection', 'Debt collection', 'Credit card or prepaid card', 'Debt collection', 'Vehicle loan or lease', 'Debt collection', 'Credit card or prepaid card', 'Student loan', 'Credit card or prepaid card', 'Student loan', 'Mortgage', 'Checking or savings account', 'Mortgage', 'Credit card or prepaid card', 'Debt collection', 'Student loan', 'Credit card or prepaid card', 'Checking or savings account', 'Credit card or prepaid card', 'Debt collection', 'Debt collection', 'Credit card or prepaid card', 'Debt collection', 'Vehicle loan or lease', 'Mortgage', 'Debt collection', 'Debt collection', 'Mortgage', 'Student loan', 'Debt collection', 'Debt collection', 'Student loan', 'Credit card or prepaid card', 'Credit card or prepaid card', 'Debt collection', 'Debt collection', 'Checking or savings account', 'Debt collection', 'Credit card or prepaid card', 'Debt collection', 'Credit card or prepaid card', 'Debt collection', 'Debt collection', 'Checking or savings account', 'Debt collection', 'Credit card or prepaid card', 'Credit card or prepaid card', 'Vehicle loan or lease', 'Debt collection', 'Credit card or prepaid card', 'Debt collection', 'Vehicle loan or lease', 'Debt collection', 'Checking or savings account', 'Student loan', 'Debt collection', 'Mortgage', 'Debt collection', 'Checking or savings account', 'Debt collection', 'Debt collection', 'Debt collection', 'Debt collection', 'Mortgage', 'Credit card or prepaid card', 'Debt collection', 'Debt collection', 'Credit card or prepaid card', 'Debt collection', 'Mortgage', 'Credit card or prepaid card', 'Debt collection', 'Credit card or prepaid card', 'Mortgage', 'Debt collection', 'Student loan', 'Credit card or prepaid card', 'Mortgage', 'Debt collection', 'Debt collection', 'Vehicle loan or lease', 'Credit card or prepaid card', 'Debt collection', 'Checking or savings account', 'Checking or savings account', 'Debt collection', 'Credit card or prepaid card', 'Mortgage', 'Debt collection', 'Debt collection', 'Mortgage', 'Credit card or prepaid card', 'Debt collection', 'Debt collection', 'Debt collection', 'Student loan', 'Credit card or prepaid card', 'Mortgage', 'Debt collection', 'Debt collection', 'Mortgage', 'Credit card or prepaid card', 'Credit card or prepaid card', 'Credit card or prepaid card', 'Student loan', 'Debt collection', 'Checking or savings account', 'Student loan', 'Checking or savings account', 'Debt collection', 'Debt collection', 'Checking or savings account', 'Mortgage', 'Debt collection', 'Debt collection', 'Debt collection', 'Debt collection', 'Debt collection', 'Debt collection', 'Debt collection', 'Debt collection', 'Credit card or prepaid card', 'Credit card or prepaid card', 'Debt collection', 'Mortgage', 'Mortgage', 'Debt collection', 'Credit card or prepaid card', 'Checking or savings account', 'Mortgage', 'Debt collection', 'Credit card or prepaid card', 'Checking or savings account', 'Debt collection', 'Student loan', 'Debt collection', 'Debt collection', 'Vehicle loan or lease', 'Debt collection', 'Debt collection', 'Checking or savings account', 'Debt collection', 'Debt collection', 'Credit card or prepaid card', 'Mortgage', 'Mortgage', 'Checking or savings account', 'Vehicle loan or lease', 'Debt collection', 'Debt collection', 'Mortgage', 'Debt collection', 'Mortgage', 'Credit card or prepaid card', 'Debt collection', 'Checking or savings account', 'Credit card or prepaid card', 'Checking or savings account', 'Debt collection', 'Checking or savings account', 'Debt collection', 'Credit card or prepaid card', 'Mortgage', 'Credit card or prepaid card', 'Credit card or prepaid card', 'Checking or savings account', 'Debt collection', 'Checking or savings account', 'Mortgage', 'Credit card or prepaid card', 'Vehicle loan or lease', 'Debt collection', 'Mortgage', 'Debt collection', 'Debt collection', 'Debt collection', 'Credit card or prepaid card', 'Mortgage', 'Debt collection', 'Debt collection', 'Credit card or prepaid card', 'Debt collection', 'Mortgage', 'Mortgage', 'Debt collection', 'Checking or savings account', 'Mortgage', 'Student loan', 'Debt collection', 'Debt collection', 'Student loan', 'Debt collection', 'Mortgage', 'Debt collection', 'Debt collection', 'Checking or savings account', 'Debt collection', 'Debt collection', 'Debt collection', 'Debt collection', 'Checking or savings account', 'Vehicle loan or lease', 'Debt collection', 'Checking or savings account', 'Credit card or prepaid card', 'Credit card or prepaid card', 'Credit card or prepaid card', 'Student loan', 'Debt collection', 'Debt collection', 'Credit card or prepaid card', 'Student loan', 'Checking or savings account', 'Credit card or prepaid card', 'Debt collection', 'Vehicle loan or lease', 'Vehicle loan or lease', 'Student loan', 'Vehicle loan or lease', 'Debt collection', 'Debt collection', 'Credit card or prepaid card', 'Checking or savings account', 'Debt collection', 'Credit card or prepaid card', 'Debt collection', 'Debt collection', 'Checking or savings account', 'Debt collection', 'Debt collection', 'Debt collection', 'Credit card or prepaid card', 'Debt collection', 'Credit card or prepaid card', 'Mortgage', 'Debt collection', 'Mortgage', 'Credit card or prepaid card', 'Debt collection', 'Credit card or prepaid card', 'Student loan', 'Debt collection', 'Credit card or prepaid card', 'Debt collection', 'Mortgage', 'Checking or savings account', 'Student loan', 'Debt collection', 'Checking or savings account', 'Credit card or prepaid card', 'Credit card or prepaid card', 'Student loan', 'Checking or savings account', 'Debt collection', 'Checking or savings account', 'Debt collection', 'Vehicle loan or lease', 'Debt collection', 'Debt collection', 'Credit card or prepaid card', 'Debt collection', 'Debt collection', 'Debt collection', 'Debt collection', 'Credit card or prepaid card', 'Debt collection', 'Vehicle loan or lease', 'Credit card or prepaid card', 'Debt collection', 'Vehicle loan or lease', 'Checking or savings account', 'Debt collection', 'Debt collection', 'Debt collection', 'Vehicle loan or lease', 'Checking or savings account', 'Debt collection', 'Credit card or prepaid card', 'Credit card or prepaid card', 'Mortgage', 'Debt collection', 'Checking or savings account', 'Checking or savings account', 'Mortgage', 'Checking or savings account', 'Credit card or prepaid card', 'Credit card or prepaid card', 'Credit card or prepaid card', 'Vehicle loan or lease', 'Student loan', 'Vehicle loan or lease', 'Credit card or prepaid card', 'Debt collection', 'Mortgage', 'Credit card or prepaid card', 'Debt collection', 'Debt collection', 'Credit card or prepaid card', 'Mortgage', 'Mortgage', 'Credit card or prepaid card', 'Checking or savings account', 'Debt collection', 'Checking or savings account', 'Mortgage', 'Checking or savings account', 'Checking or savings account', 'Debt collection', 'Checking or savings account', 'Debt collection', 'Mortgage', 'Debt collection', 'Student loan', 'Vehicle loan or lease', 'Debt collection', 'Vehicle loan or lease', 'Credit card or prepaid card', 'Credit card or prepaid card', 'Credit card or prepaid card', 'Mortgage', 'Credit card or prepaid card', 'Debt collection', 'Debt collection', 'Credit card or prepaid card', 'Checking or savings account', 'Student loan', 'Debt collection', 'Debt collection', 'Student loan', 'Credit card or prepaid card', 'Credit card or prepaid card', 'Checking or savings account', 'Debt collection', 'Mortgage', 'Student loan', 'Credit card or prepaid card', 'Debt collection', 'Debt collection', 'Checking or savings account', 'Debt collection', 'Mortgage', 'Mortgage', 'Vehicle loan or lease', 'Debt collection', 'Checking or savings account', 'Checking or savings account', 'Credit card or prepaid card', 'Mortgage', 'Debt collection', 'Debt collection', 'Credit card or prepaid card', 'Credit card or prepaid card', 'Debt collection', 'Debt collection', 'Mortgage', 'Credit card or prepaid card', 'Debt collection', 'Credit card or prepaid card', 'Debt collection', 'Debt collection', 'Checking or savings account', 'Credit card or prepaid card', 'Debt collection', 'Debt collection', 'Vehicle loan or lease', 'Mortgage', 'Checking or savings account', 'Debt collection', 'Mortgage', 'Debt collection', 'Debt collection', 'Mortgage', 'Credit card or prepaid card', 'Credit card or prepaid card', 'Mortgage', 'Credit card or prepaid card', 'Debt collection', 'Debt collection', 'Credit card or prepaid card', 'Checking or savings account', 'Student loan', 'Debt collection', 'Mortgage', 'Credit card or prepaid card', 'Debt collection', 'Debt collection', 'Debt collection', 'Credit card or prepaid card', 'Debt collection', 'Vehicle loan or lease', 'Debt collection', 'Checking or savings account', 'Debt collection', 'Debt collection', 'Debt collection', 'Credit card or prepaid card', 'Vehicle loan or lease', 'Debt collection', 'Mortgage', 'Debt collection', 'Debt collection', 'Mortgage', 'Credit card or prepaid card', 'Student loan', 'Mortgage', 'Debt collection', 'Vehicle loan or lease', 'Debt collection', 'Debt collection', 'Checking or savings account', 'Debt collection', 'Checking or savings account', 'Mortgage', 'Credit card or prepaid card', 'Checking or savings account', 'Mortgage', 'Debt collection', 'Checking or savings account', 'Mortgage', 'Credit card or prepaid card', 'Debt collection', 'Checking or savings account', 'Debt collection', 'Credit card or prepaid card', 'Credit card or prepaid card', 'Credit card or prepaid card', 'Debt collection', 'Debt collection', 'Debt collection', 'Debt collection', 'Debt collection', 'Debt collection', 'Student loan', 'Credit card or prepaid card', 'Debt collection', 'Credit card or prepaid card', 'Credit card or prepaid card', 'Debt collection', 'Mortgage', 'Mortgage', 'Credit card or prepaid card', 'Mortgage', 'Mortgage', 'Mortgage', 'Mortgage', 'Debt collection', 'Vehicle loan or lease', 'Debt collection', 'Credit card or prepaid card', 'Debt collection', 'Debt collection', 'Checking or savings account', 'Credit card or prepaid card', 'Credit card or prepaid card', 'Credit card or prepaid card', 'Checking or savings account', 'Mortgage', 'Credit card or prepaid card', 'Credit card or prepaid card', 'Vehicle loan or lease', 'Checking or savings account', 'Credit card or prepaid card', 'Debt collection', 'Checking or savings account', 'Debt collection', 'Student loan', 'Debt collection', 'Credit card or prepaid card', 'Credit card or prepaid card', 'Debt collection', 'Checking or savings account', 'Credit card or prepaid card', 'Credit card or prepaid card', 'Debt collection', 'Credit card or prepaid card', 'Checking or savings account', 'Debt collection', 'Credit card or prepaid card', 'Mortgage', 'Credit card or prepaid card', 'Debt collection', 'Vehicle loan or lease', 'Credit card or prepaid card', 'Mortgage', 'Mortgage', 'Checking or savings account', 'Debt collection', 'Credit card or prepaid card', 'Credit card or prepaid card', 'Debt collection', 'Debt collection', 'Debt collection', 'Student loan', 'Debt collection', 'Debt collection', 'Debt collection', 'Credit card or prepaid card', 'Mortgage', 'Debt collection', 'Student loan', 'Debt collection', 'Credit card or prepaid card', 'Debt collection', 'Checking or savings account', 'Credit card or prepaid card', 'Debt collection', 'Debt collection', 'Credit card or prepaid card', 'Credit card or prepaid card', 'Debt collection', 'Mortgage', 'Debt collection', 'Checking or savings account', 'Checking or savings account', 'Debt collection', 'Checking or savings account', 'Student loan', 'Debt collection', 'Mortgage', 'Mortgage', 'Mortgage', 'Checking or savings account', 'Debt collection', 'Debt collection', 'Debt collection', 'Mortgage', 'Student loan', 'Credit card or prepaid card', 'Vehicle loan or lease', 'Debt collection', 'Credit card or prepaid card', 'Checking or savings account', 'Credit card or prepaid card', 'Credit card or prepaid card', 'Student loan', 'Credit card or prepaid card', 'Debt collection', 'Debt collection', 'Debt collection', 'Student loan', 'Credit card or prepaid card', 'Checking or savings account', 'Mortgage', 'Credit card or prepaid card', 'Debt collection', 'Mortgage', 'Credit card or prepaid card', 'Vehicle loan or lease', 'Credit card or prepaid card', 'Checking or savings account', 'Student loan', 'Debt collection', 'Debt collection', 'Debt collection', 'Debt collection', 'Vehicle loan or lease', 'Debt collection', 'Credit card or prepaid card', 'Credit card or prepaid card', 'Student loan', 'Vehicle loan or lease', 'Credit card or prepaid card', 'Debt collection', 'Credit card or prepaid card', 'Debt collection', 'Vehicle loan or lease', 'Debt collection', 'Debt collection', 'Checking or savings account', 'Debt collection', 'Mortgage', 'Debt collection', 'Checking or savings account', 'Mortgage', 'Checking or savings account', 'Checking or savings account', 'Debt collection', 'Mortgage', 'Checking or savings account', 'Debt collection', 'Checking or savings account', 'Credit card or prepaid card', 'Mortgage', 'Mortgage', 'Vehicle loan or lease', 'Debt collection', 'Student loan', 'Credit card or prepaid card', 'Credit card or prepaid card', 'Vehicle loan or lease', 'Credit card or prepaid card', 'Credit card or prepaid card', 'Debt collection', 'Checking or savings account', 'Mortgage', 'Checking or savings account', 'Mortgage', 'Credit card or prepaid card', 'Debt collection', 'Debt collection', 'Mortgage', 'Debt collection', 'Checking or savings account', 'Mortgage', 'Mortgage', 'Student loan', 'Debt collection', 'Debt collection', 'Debt collection', 'Vehicle loan or lease', 'Debt collection', 'Mortgage', 'Mortgage', 'Mortgage', 'Credit card or prepaid card', 'Debt collection', 'Debt collection', 'Debt collection', 'Debt collection', 'Vehicle loan or lease', 'Debt collection', 'Credit card or prepaid card', 'Checking or savings account', 'Debt collection', 'Vehicle loan or lease', 'Mortgage', 'Debt collection', 'Mortgage', 'Checking or savings account', 'Checking or savings account', 'Credit card or prepaid card', 'Student loan', 'Debt collection', 'Debt collection', 'Checking or savings account', 'Mortgage', 'Credit card or prepaid card', 'Credit card or prepaid card', 'Mortgage', 'Debt collection', 'Mortgage', 'Debt collection', 'Debt collection', 'Debt collection', 'Student loan', 'Mortgage', 'Debt collection', 'Credit card or prepaid card', 'Debt collection', 'Debt collection', 'Student loan', 'Credit card or prepaid card', 'Debt collection', 'Checking or savings account', 'Checking or savings account', 'Debt collection', 'Vehicle loan or lease', 'Debt collection', 'Mortgage', 'Debt collection', 'Debt collection', 'Debt collection', 'Student loan', 'Debt collection', 'Debt collection', 'Debt collection', 'Mortgage', 'Mortgage', 'Checking or savings account', 'Credit card or prepaid card', 'Mortgage', 'Mortgage', 'Debt collection', 'Checking or savings account', 'Credit card or prepaid card', 'Mortgage', 'Checking or savings account', 'Debt collection', 'Credit card or prepaid card', 'Debt collection', 'Mortgage', 'Mortgage', 'Debt collection', 'Debt collection', 'Mortgage', 'Credit card or prepaid card', 'Credit card or prepaid card', 'Debt collection', 'Checking or savings account', 'Credit card or prepaid card', 'Checking or savings account', 'Debt collection', 'Debt collection', 'Debt collection', 'Mortgage', 'Debt collection', 'Checking or savings account', 'Mortgage', 'Debt collection', 'Debt collection', 'Debt collection', 'Student loan', 'Debt collection', 'Credit card or prepaid card', 'Mortgage', 'Credit card or prepaid card', 'Mortgage', 'Checking or savings account', 'Vehicle loan or lease', 'Debt collection', 'Debt collection', 'Mortgage', 'Debt collection', 'Debt collection', 'Credit card or prepaid card', 'Credit card or prepaid card', 'Debt collection', 'Debt collection', 'Checking or savings account', 'Credit card or prepaid card', 'Credit card or prepaid card', 'Debt collection', 'Credit card or prepaid card', 'Mortgage', 'Credit card or prepaid card', 'Credit card or prepaid card', 'Credit card or prepaid card', 'Debt collection', 'Checking or savings account', 'Debt collection', 'Student loan', 'Debt collection', 'Debt collection', 'Credit card or prepaid card', 'Mortgage', 'Debt collection', 'Checking or savings account', 'Credit card or prepaid card', 'Checking or savings account', 'Checking or savings account', 'Mortgage', 'Credit card or prepaid card', 'Debt collection', 'Vehicle loan or lease', 'Debt collection', 'Credit card or prepaid card', 'Checking or savings account', 'Debt collection', 'Credit card or prepaid card', 'Credit card or prepaid card', 'Debt collection', 'Mortgage', 'Student loan', 'Debt collection', 'Mortgage', 'Mortgage', 'Credit card or prepaid card', 'Checking or savings account', 'Debt collection', 'Credit card or prepaid card', 'Debt collection', 'Checking or savings account', 'Mortgage', 'Mortgage', 'Mortgage', 'Debt collection', 'Debt collection', 'Credit card or prepaid card', 'Vehicle loan or lease', 'Credit card or prepaid card', 'Mortgage', 'Credit card or prepaid card', 'Mortgage', 'Debt collection', 'Mortgage', 'Credit card or prepaid card', 'Credit card or prepaid card', 'Credit card or prepaid card', 'Debt collection', 'Debt collection', 'Checking or savings account', 'Credit card or prepaid card', 'Checking or savings account', 'Vehicle loan or lease', 'Debt collection', 'Debt collection', 'Debt collection', 'Mortgage', 'Debt collection', 'Debt collection', 'Checking or savings account', 'Debt collection', 'Mortgage', 'Credit card or prepaid card', 'Vehicle loan or lease', 'Checking or savings account', 'Debt collection', 'Credit card or prepaid card', 'Debt collection', 'Student loan', 'Student loan', 'Debt collection', 'Debt collection', 'Debt collection', 'Debt collection', 'Credit card or prepaid card', 'Credit card or prepaid card', 'Debt collection', 'Mortgage', 'Debt collection', 'Mortgage', 'Debt collection', 'Credit card or prepaid card', 'Mortgage', 'Debt collection', 'Mortgage', 'Checking or savings account', 'Credit card or prepaid card', 'Credit card or prepaid card', 'Checking or savings account', 'Credit card or prepaid card', 'Debt collection', 'Credit card or prepaid card', 'Credit card or prepaid card', 'Debt collection', 'Checking or savings account', 'Student loan', 'Credit card or prepaid card', 'Mortgage', 'Debt collection', 'Student loan', 'Mortgage', 'Credit card or prepaid card', 'Mortgage', 'Debt collection', 'Debt collection', 'Checking or savings account', 'Checking or savings account', 'Credit card or prepaid card', 'Debt collection', 'Mortgage', 'Credit card or prepaid card', 'Debt collection', 'Mortgage', 'Checking or savings account', 'Credit card or prepaid card', 'Credit card or prepaid card', 'Debt collection', 'Debt collection', 'Student loan', 'Mortgage', 'Vehicle loan or lease', 'Debt collection', 'Vehicle loan or lease', 'Debt collection', 'Debt collection', 'Debt collection', 'Credit card or prepaid card', 'Credit card or prepaid card', 'Mortgage', 'Credit card or prepaid card', 'Debt collection', 'Student loan', 'Credit card or prepaid card', 'Credit card or prepaid card', 'Debt collection', 'Debt collection', 'Mortgage', 'Checking or savings account', 'Debt collection', 'Credit card or prepaid card', 'Debt collection', 'Debt collection', 'Credit card or prepaid card', 'Mortgage', 'Debt collection', 'Credit card or prepaid card', 'Debt collection', 'Debt collection', 'Checking or savings account', 'Debt collection', 'Debt collection', 'Mortgage', 'Debt collection', 'Debt collection', 'Vehicle loan or lease', 'Debt collection', 'Vehicle loan or lease', 'Debt collection', 'Debt collection', 'Checking or savings account', 'Mortgage', 'Debt collection', 'Mortgage', 'Debt collection', 'Debt collection', 'Debt collection', 'Credit card or prepaid card', 'Debt collection', 'Debt collection', 'Debt collection', 'Credit card or prepaid card', 'Student loan', 'Credit card or prepaid card', 'Checking or savings account', 'Debt collection', 'Credit card or prepaid card', 'Debt collection', 'Mortgage', 'Student loan', 'Debt collection', 'Credit card or prepaid card', 'Mortgage', 'Debt collection', 'Debt collection', 'Vehicle loan or lease', 'Credit card or prepaid card', 'Debt collection', 'Vehicle loan or lease', 'Vehicle loan or lease', 'Mortgage', 'Credit card or prepaid card', 'Debt collection', 'Credit card or prepaid card', 'Debt collection', 'Mortgage', 'Debt collection', 'Credit card or prepaid card', 'Debt collection', 'Credit card or prepaid card', 'Student loan', 'Debt collection', 'Credit card or prepaid card', 'Debt collection', 'Credit card or prepaid card', 'Credit card or prepaid card', 'Credit card or prepaid card', 'Debt collection', 'Debt collection', 'Checking or savings account', 'Debt collection', 'Debt collection', 'Debt collection', 'Debt collection', 'Debt collection', 'Credit card or prepaid card', 'Checking or savings account', 'Debt collection', 'Mortgage', 'Debt collection', 'Debt collection', 'Checking or savings account', 'Debt collection', 'Credit card or prepaid card', 'Checking or savings account', 'Debt collection', 'Checking or savings account', 'Credit card or prepaid card', 'Credit card or prepaid card', 'Debt collection', 'Checking or savings account', 'Debt collection', 'Debt collection', 'Mortgage', 'Debt collection', 'Student loan', 'Credit card or prepaid card', 'Mortgage', 'Debt collection', 'Debt collection', 'Student loan', 'Debt collection', 'Vehicle loan or lease', 'Credit card or prepaid card', 'Debt collection', 'Mortgage', 'Vehicle loan or lease', 'Debt collection', 'Debt collection', 'Vehicle loan or lease', 'Debt collection', 'Credit card or prepaid card', 'Credit card or prepaid card', 'Mortgage', 'Debt collection', 'Debt collection', 'Mortgage', 'Credit card or prepaid card', 'Credit card or prepaid card', 'Credit card or prepaid card', 'Debt collection', 'Vehicle loan or lease', 'Checking or savings account', 'Debt collection', 'Debt collection', 'Credit card or prepaid card', 'Debt collection', 'Checking or savings account', 'Mortgage', 'Credit card or prepaid card', 'Checking or savings account', 'Debt collection', 'Credit card or prepaid card', 'Mortgage', 'Debt collection', 'Student loan', 'Credit card or prepaid card', 'Credit card or prepaid card', 'Debt collection', 'Student loan', 'Credit card or prepaid card', 'Student loan', 'Checking or savings account', 'Debt collection', 'Credit card or prepaid card', 'Debt collection', 'Debt collection', 'Credit card or prepaid card', 'Debt collection', 'Checking or savings account', 'Credit card or prepaid card', 'Debt collection', 'Debt collection', 'Debt collection', 'Debt collection', 'Credit card or prepaid card', 'Student loan', 'Debt collection', 'Mortgage', 'Debt collection', 'Student loan', 'Student loan', 'Credit card or prepaid card', 'Credit card or prepaid card', 'Debt collection', 'Debt collection', 'Debt collection', 'Mortgage', 'Checking or savings account', 'Credit card or prepaid card', 'Vehicle loan or lease', 'Debt collection', 'Student loan', 'Credit card or prepaid card', 'Checking or savings account', 'Checking or savings account', 'Credit card or prepaid card', 'Mortgage', 'Vehicle loan or lease', 'Debt collection', 'Mortgage', 'Credit card or prepaid card', 'Mortgage', 'Debt collection', 'Credit card or prepaid card', 'Checking or savings account', 'Credit card or prepaid card', 'Debt collection', 'Vehicle loan or lease', 'Student loan', 'Credit card or prepaid card', 'Debt collection', 'Checking or savings account', 'Credit card or prepaid card', 'Credit card or prepaid card', 'Checking or savings account', 'Student loan', 'Student loan', 'Debt collection', 'Vehicle loan or lease', 'Student loan', 'Credit card or prepaid card', 'Debt collection', 'Credit card or prepaid card', 'Debt collection', 'Debt collection', 'Credit card or prepaid card', 'Debt collection', 'Credit card or prepaid card', 'Mortgage', 'Credit card or prepaid card', 'Credit card or prepaid card', 'Checking or savings account', 'Mortgage', 'Credit card or prepaid card', 'Debt collection', 'Debt collection', 'Debt collection', 'Mortgage', 'Debt collection', 'Credit card or prepaid card', 'Credit card or prepaid card', 'Credit card or prepaid card', 'Mortgage', 'Mortgage', 'Checking or savings account', 'Mortgage', 'Debt collection', 'Debt collection', 'Mortgage', 'Credit card or prepaid card', 'Mortgage', 'Checking or savings account', 'Credit card or prepaid card', 'Mortgage', 'Vehicle loan or lease', 'Mortgage', 'Student loan', 'Credit card or prepaid card', 'Debt collection', 'Debt collection', 'Debt collection', 'Vehicle loan or lease', 'Checking or savings account', 'Debt collection', 'Debt collection', 'Debt collection', 'Mortgage', 'Credit card or prepaid card', 'Mortgage', 'Debt collection', 'Credit card or prepaid card', 'Credit card or prepaid card', 'Checking or savings account', 'Debt collection', 'Mortgage', 'Mortgage', 'Debt collection', 'Credit card or prepaid card', 'Checking or savings account', 'Debt collection', 'Mortgage', 'Mortgage', 'Checking or savings account', 'Credit card or prepaid card', 'Debt collection', 'Mortgage', 'Vehicle loan or lease', 'Credit card or prepaid card', 'Credit card or prepaid card', 'Debt collection', 'Credit card or prepaid card', 'Credit card or prepaid card', 'Student loan', 'Checking or savings account', 'Credit card or prepaid card', 'Mortgage', 'Credit card or prepaid card', 'Debt collection', 'Credit card or prepaid card', 'Vehicle loan or lease', 'Debt collection', 'Debt collection', 'Debt collection', 'Debt collection', 'Credit card or prepaid card', 'Debt collection', 'Credit card or prepaid card', 'Debt collection', 'Credit card or prepaid card', 'Mortgage', 'Debt collection', 'Credit card or prepaid card', 'Debt collection', 'Mortgage', 'Credit card or prepaid card', 'Mortgage', 'Credit card or prepaid card', 'Credit card or prepaid card', 'Mortgage', 'Credit card or prepaid card', 'Checking or savings account', 'Debt collection', 'Debt collection', 'Credit card or prepaid card', 'Credit card or prepaid card', 'Credit card or prepaid card', 'Debt collection', 'Debt collection', 'Debt collection', 'Debt collection', 'Debt collection', 'Mortgage', 'Student loan', 'Credit card or prepaid card', 'Checking or savings account', 'Debt collection', 'Checking or savings account', 'Mortgage', 'Credit card or prepaid card', 'Mortgage', 'Debt collection', 'Credit card or prepaid card', 'Mortgage', 'Debt collection', 'Checking or savings account', 'Debt collection', 'Credit card or prepaid card', 'Credit card or prepaid card', 'Checking or savings account', 'Mortgage', 'Debt collection', 'Debt collection', 'Mortgage', 'Debt collection', 'Debt collection', 'Checking or savings account', 'Checking or savings account', 'Debt collection', 'Debt collection', 'Debt collection', 'Credit card or prepaid card', 'Debt collection', 'Mortgage', 'Mortgage', 'Debt collection', 'Mortgage', 'Mortgage', 'Debt collection', 'Student loan', 'Checking or savings account', 'Checking or savings account', 'Debt collection', 'Debt collection', 'Debt collection', 'Credit card or prepaid card', 'Credit card or prepaid card', 'Checking or savings account', 'Credit card or prepaid card', 'Debt collection', 'Mortgage', 'Mortgage', 'Credit card or prepaid card', 'Checking or savings account', 'Mortgage', 'Debt collection', 'Credit card or prepaid card', 'Credit card or prepaid card', 'Debt collection', 'Credit card or prepaid card', 'Credit card or prepaid card', 'Debt collection', 'Mortgage', 'Debt collection', 'Debt collection', 'Student loan', 'Debt collection', 'Checking or savings account', 'Credit card or prepaid card', 'Debt collection', 'Mortgage', 'Debt collection', 'Checking or savings account', 'Debt collection', 'Checking or savings account', 'Checking or savings account', 'Debt collection', 'Debt collection', 'Checking or savings account', 'Checking or savings account', 'Student loan', 'Credit card or prepaid card', 'Credit card or prepaid card', 'Mortgage', 'Mortgage', 'Credit card or prepaid card', 'Credit card or prepaid card', 'Debt collection', 'Debt collection', 'Credit card or prepaid card', 'Mortgage', 'Debt collection', 'Mortgage', 'Debt collection', 'Checking or savings account', 'Checking or savings account', 'Checking or savings account', 'Debt collection', 'Checking or savings account', 'Debt collection', 'Debt collection', 'Debt collection', 'Debt collection', 'Debt collection', 'Checking or savings account', 'Mortgage', 'Credit card or prepaid card', 'Credit card or prepaid card', 'Credit card or prepaid card', 'Mortgage', 'Mortgage', 'Checking or savings account', 'Mortgage', 'Debt collection', 'Debt collection', 'Credit card or prepaid card', 'Credit card or prepaid card', 'Debt collection', 'Mortgage', 'Debt collection', 'Checking or savings account', 'Credit card or prepaid card', 'Vehicle loan or lease', 'Debt collection', 'Debt collection', 'Debt collection', 'Mortgage', 'Vehicle loan or lease', 'Credit card or prepaid card', 'Mortgage', 'Debt collection', 'Debt collection', 'Debt collection', 'Debt collection', 'Credit card or prepaid card', 'Debt collection', 'Mortgage', 'Mortgage', 'Debt collection', 'Debt collection', 'Credit card or prepaid card', 'Checking or savings account', 'Vehicle loan or lease', 'Debt collection', 'Credit card or prepaid card', 'Credit card or prepaid card', 'Mortgage', 'Debt collection', 'Checking or savings account', 'Debt collection', 'Debt collection', 'Debt collection', 'Vehicle loan or lease', 'Checking or savings account', 'Debt collection', 'Debt collection', 'Debt collection', 'Mortgage', 'Credit card or prepaid card', 'Debt collection', 'Mortgage', 'Credit card or prepaid card', 'Credit card or prepaid card', 'Debt collection', 'Checking or savings account', 'Debt collection', 'Student loan', 'Credit card or prepaid card', 'Debt collection', 'Debt collection', 'Credit card or prepaid card', 'Vehicle loan or lease', 'Student loan', 'Debt collection', 'Mortgage', 'Credit card or prepaid card', 'Debt collection', 'Mortgage', 'Credit card or prepaid card', 'Credit card or prepaid card', 'Credit card or prepaid card', 'Mortgage', 'Mortgage', 'Credit card or prepaid card', 'Credit card or prepaid card', 'Debt collection', 'Debt collection', 'Credit card or prepaid card', 'Debt collection', 'Mortgage', 'Vehicle loan or lease', 'Debt collection', 'Credit card or prepaid card', 'Checking or savings account', 'Checking or savings account', 'Debt collection', 'Debt collection', 'Debt collection', 'Mortgage', 'Credit card or prepaid card', 'Debt collection', 'Debt collection', 'Debt collection', 'Mortgage', 'Credit card or prepaid card', 'Checking or savings account', 'Mortgage', 'Mortgage', 'Debt collection', 'Checking or savings account', 'Debt collection', 'Debt collection', 'Credit card or prepaid card', 'Debt collection', 'Mortgage', 'Debt collection', 'Debt collection', 'Credit card or prepaid card', 'Mortgage', 'Debt collection', 'Mortgage', 'Debt collection', 'Mortgage', 'Credit card or prepaid card', 'Credit card or prepaid card', 'Checking or savings account', 'Mortgage', 'Credit card or prepaid card', 'Student loan', 'Debt collection', 'Credit card or prepaid card', 'Debt collection', 'Debt collection', 'Student loan', 'Checking or savings account', 'Debt collection', 'Credit card or prepaid card', 'Credit card or prepaid card', 'Mortgage', 'Student loan', 'Debt collection', 'Debt collection', 'Debt collection', 'Checking or savings account', 'Checking or savings account', 'Debt collection', 'Debt collection', 'Student loan', 'Mortgage', 'Mortgage', 'Debt collection', 'Mortgage', 'Credit card or prepaid card', 'Credit card or prepaid card', 'Mortgage', 'Debt collection', 'Credit card or prepaid card', 'Student loan', 'Credit card or prepaid card', 'Credit card or prepaid card', 'Credit card or prepaid card', 'Debt collection', 'Mortgage', 'Credit card or prepaid card', 'Debt collection', 'Student loan', 'Credit card or prepaid card', 'Vehicle loan or lease', 'Credit card or prepaid card', 'Debt collection', 'Student loan', 'Vehicle loan or lease', 'Debt collection', 'Mortgage', 'Debt collection', 'Credit card or prepaid card', 'Checking or savings account', 'Vehicle loan or lease', 'Debt collection', 'Checking or savings account', 'Credit card or prepaid card', 'Debt collection', 'Credit card or prepaid card', 'Debt collection', 'Debt collection', 'Mortgage', 'Debt collection', 'Mortgage', 'Debt collection', 'Credit card or prepaid card', 'Student loan', 'Debt collection', 'Credit card or prepaid card', 'Debt collection', 'Debt collection', 'Credit card or prepaid card', 'Credit card or prepaid card', 'Mortgage', 'Credit card or prepaid card', 'Checking or savings account', 'Debt collection', 'Debt collection', 'Mortgage', 'Credit card or prepaid card', 'Credit card or prepaid card', 'Debt collection', 'Credit card or prepaid card', 'Debt collection', 'Checking or savings account', 'Debt collection', 'Debt collection', 'Credit card or prepaid card', 'Mortgage', 'Checking or savings account', 'Checking or savings account', 'Checking or savings account', 'Debt collection', 'Mortgage', 'Checking or savings account', 'Debt collection', 'Vehicle loan or lease', 'Debt collection', 'Debt collection', 'Vehicle loan or lease', 'Debt collection', 'Mortgage', 'Credit card or prepaid card', 'Credit card or prepaid card', 'Credit card or prepaid card', 'Credit card or prepaid card', 'Debt collection', 'Debt collection', 'Credit card or prepaid card', 'Debt collection', 'Student loan', 'Debt collection', 'Debt collection', 'Credit card or prepaid card', 'Credit card or prepaid card', 'Mortgage', 'Debt collection', 'Debt collection', 'Mortgage', 'Mortgage', 'Mortgage', 'Mortgage', 'Mortgage', 'Debt collection', 'Debt collection', 'Debt collection', 'Mortgage', 'Credit card or prepaid card', 'Mortgage', 'Credit card or prepaid card', 'Mortgage', 'Mortgage', 'Credit card or prepaid card', 'Debt collection', 'Credit card or prepaid card', 'Checking or savings account', 'Debt collection', 'Credit card or prepaid card', 'Checking or savings account', 'Debt collection', 'Credit card or prepaid card', 'Credit card or prepaid card', 'Credit card or prepaid card', 'Checking or savings account', 'Credit card or prepaid card', 'Credit card or prepaid card', 'Checking or savings account', 'Debt collection', 'Debt collection', 'Debt collection', 'Checking or savings account', 'Vehicle loan or lease', 'Mortgage', 'Mortgage', 'Student loan', 'Credit card or prepaid card', 'Student loan', 'Debt collection', 'Debt collection', 'Debt collection', 'Debt collection', 'Debt collection', 'Mortgage', 'Credit card or prepaid card', 'Checking or savings account', 'Checking or savings account', 'Debt collection', 'Debt collection', 'Checking or savings account', 'Checking or savings account', 'Debt collection', 'Checking or savings account', 'Debt collection', 'Debt collection', 'Mortgage', 'Checking or savings account', 'Credit card or prepaid card', 'Debt collection', 'Student loan', 'Debt collection', 'Checking or savings account', 'Vehicle loan or lease', 'Debt collection', 'Debt collection', 'Debt collection', 'Checking or savings account', 'Mortgage', 'Credit card or prepaid card', 'Checking or savings account', 'Debt collection', 'Debt collection', 'Debt collection', 'Mortgage', 'Debt collection', 'Debt collection', 'Mortgage', 'Checking or savings account', 'Mortgage', 'Mortgage', 'Credit card or prepaid card', 'Debt collection', 'Credit card or prepaid card', 'Debt collection', 'Debt collection', 'Checking or savings account', 'Credit card or prepaid card', 'Debt collection', 'Debt collection', 'Credit card or prepaid card', 'Debt collection', 'Checking or savings account', 'Student loan', 'Credit card or prepaid card', 'Credit card or prepaid card', 'Checking or savings account', 'Mortgage', 'Debt collection', 'Checking or savings account', 'Debt collection', 'Credit card or prepaid card', 'Debt collection', 'Credit card or prepaid card', 'Mortgage', 'Debt collection', 'Credit card or prepaid card', 'Debt collection', 'Mortgage', 'Debt collection', 'Credit card or prepaid card', 'Debt collection', 'Mortgage', 'Debt collection', 'Credit card or prepaid card', 'Credit card or prepaid card', 'Vehicle loan or lease', 'Checking or savings account', 'Checking or savings account', 'Mortgage', 'Debt collection', 'Debt collection', 'Checking or savings account', 'Vehicle loan or lease', 'Checking or savings account', 'Vehicle loan or lease', 'Debt collection', 'Debt collection', 'Credit card or prepaid card', 'Checking or savings account', 'Debt collection', 'Mortgage', 'Debt collection', 'Student loan', 'Mortgage', 'Credit card or prepaid card', 'Mortgage', 'Debt collection', 'Debt collection', 'Credit card or prepaid card', 'Debt collection', 'Debt collection', 'Debt collection', 'Mortgage', 'Debt collection', 'Debt collection', 'Checking or savings account', 'Debt collection', 'Debt collection', 'Credit card or prepaid card', 'Debt collection', 'Debt collection', 'Debt collection', 'Debt collection', 'Credit card or prepaid card', 'Debt collection', 'Credit card or prepaid card', 'Debt collection', 'Debt collection', 'Debt collection', 'Debt collection', 'Debt collection', 'Checking or savings account', 'Debt collection', 'Debt collection', 'Vehicle loan or lease', 'Debt collection', 'Checking or savings account', 'Mortgage', 'Vehicle loan or lease', 'Checking or savings account', 'Mortgage', 'Mortgage', 'Credit card or prepaid card', 'Debt collection', 'Debt collection', 'Debt collection', 'Debt collection', 'Vehicle loan or lease', 'Vehicle loan or lease', 'Debt collection', 'Credit card or prepaid card', 'Debt collection', 'Student loan', 'Credit card or prepaid card', 'Credit card or prepaid card', 'Student loan', 'Student loan', 'Debt collection', 'Credit card or prepaid card', 'Debt collection', 'Checking or savings account', 'Debt collection', 'Debt collection', 'Debt collection', 'Credit card or prepaid card', 'Debt collection', 'Mortgage', 'Mortgage', 'Debt collection', 'Debt collection', 'Mortgage', 'Debt collection', 'Credit card or prepaid card', 'Checking or savings account', 'Debt collection', 'Mortgage', 'Mortgage', 'Debt collection', 'Debt collection', 'Debt collection', 'Debt collection', 'Debt collection', 'Credit card or prepaid card', 'Debt collection', 'Credit card or prepaid card', 'Debt collection', 'Mortgage', 'Debt collection', 'Checking or savings account', 'Debt collection', 'Credit card or prepaid card', 'Mortgage', 'Mortgage', 'Mortgage', 'Debt collection', 'Checking or savings account', 'Debt collection', 'Debt collection', 'Mortgage', 'Checking or savings account', 'Debt collection', 'Debt collection', 'Debt collection', 'Checking or savings account', 'Debt collection', 'Checking or savings account', 'Debt collection', 'Debt collection', 'Debt collection', 'Vehicle loan or lease', 'Mortgage', 'Debt collection', 'Credit card or prepaid card', 'Checking or savings account', 'Debt collection', 'Mortgage', 'Debt collection', 'Debt collection', 'Credit card or prepaid card', 'Debt collection', 'Credit card or prepaid card', 'Checking or savings account', 'Debt collection', 'Credit card or prepaid card', 'Debt collection', 'Debt collection', 'Debt collection', 'Debt collection', 'Mortgage', 'Mortgage', 'Checking or savings account', 'Debt collection', 'Debt collection', 'Debt collection', 'Debt collection', 'Checking or savings account', 'Credit card or prepaid card', 'Debt collection', 'Debt collection', 'Debt collection', 'Checking or savings account', 'Mortgage', 'Debt collection', 'Debt collection', 'Credit card or prepaid card', 'Checking or savings account', 'Debt collection']\n"
     ]
    }
   ],
   "source": [
    "# Print the product groups in the dataset\n",
    "print(list(mydata_train.Product))"
   ]
  },
  {
   "cell_type": "code",
   "execution_count": 4,
   "metadata": {
    "id": "JvQb2r0aDR_J"
   },
   "outputs": [
    {
     "name": "stdout",
     "output_type": "stream",
     "text": [
      "<class 'pandas.core.frame.DataFrame'>\n"
     ]
    }
   ],
   "source": [
    "# What is the type of 'mydata_train'\n",
    "print(type(mydata_train))"
   ]
  },
  {
   "cell_type": "code",
   "execution_count": 5,
   "metadata": {
    "id": "ozzwyREhDaMK"
   },
   "outputs": [
    {
     "name": "stdout",
     "output_type": "stream",
     "text": [
      "5000\n",
      "5000\n"
     ]
    }
   ],
   "source": [
    "# Check the length of the data\n",
    "print(len(mydata_train.Product))\n",
    "print(len(mydata_train.Consumer_complaint_narrative))"
   ]
  },
  {
   "cell_type": "markdown",
   "metadata": {
    "id": "BlipMuEpDz-K"
   },
   "source": [
    "### Expected Output: \n",
    "5000\n",
    "\n",
    "5000\n"
   ]
  },
  {
   "cell_type": "markdown",
   "metadata": {
    "id": "55FKOBBuEDI2"
   },
   "source": [
    "## Extracting Features from the Dataset                        (20 Points)"
   ]
  },
  {
   "cell_type": "markdown",
   "metadata": {
    "id": "u4GDENzmEEkG"
   },
   "source": [
    "In order to perform machine learning on text documents, we first need to turn the text content into numerical feature vectors."
   ]
  },
  {
   "cell_type": "markdown",
   "metadata": {
    "id": "OgxfDXmxEHid"
   },
   "source": [
    "### TF-IDF Vectorization"
   ]
  },
  {
   "cell_type": "markdown",
   "metadata": {
    "id": "Q8qNFFYyEKsa"
   },
   "source": [
    "Our model cannot simply read the text data so we convert it into numerical format. In order to convert the data into numerical format we create vectors from text.\n",
    "\n",
    "For this particular purpose we could either employ Bag of Words or TF-IDF Vectorization\n",
    "\n",
    "Bag of Words just creates a set of vectors containing the count of word occurrences in the document (reviews), while the TF-IDF model contains information on the more important words and the less important ones as well.\n",
    "\n",
    "TF-IDF stands for Term Frequency-Inverse Document Frequency, which instead of giving more weight to words that occur more frequently, it gives a higher weight to words that occur less frequently.\n",
    "\n",
    "Ref: 6.5 TF-IDF: Weighing terms in the vector section of Dan Jurafsky book\n",
    "https://web.stanford.edu/~jurafsky/slp3/6.pdf"
   ]
  },
  {
   "cell_type": "markdown",
   "metadata": {
    "id": "dLzgRJRZEP3k"
   },
   "source": [
    "TF-IDF = Term Frequency (TF) * Inverse Document Frequency (IDF)"
   ]
  },
  {
   "cell_type": "markdown",
   "metadata": {
    "id": "xe5lHi3NE1QJ"
   },
   "source": [
    "Term Frequency is the measure of the frequency of words in a document. It is the ratio of the number of times the word appears in a document compared to the total number of words in that document.\n",
    "\n",
    "The words that occur rarely in the corpus have a high IDF score. It is the log of the ratio of the number of documents to the number of documents containing the word."
   ]
  },
  {
   "cell_type": "markdown",
   "metadata": {
    "id": "HXotAER_EQ8T"
   },
   "source": [
    "idf(t) = log(N/(df + 1))"
   ]
  },
  {
   "cell_type": "code",
   "execution_count": 7,
   "metadata": {
    "id": "2vzVI8ylFAEl"
   },
   "outputs": [
    {
     "data": {
      "text/plain": [
       "0    I lost my credit card ( a Chase Sapphire Reser...\n",
       "1    Having problems finding out LTV from mortgage ...\n",
       "2    I am a victim of identity theft and this debt ...\n",
       "3    Yesterday evening I spoke to a rep in regards ...\n",
       "4    I opened a prepaid bank account with REVOLUT i...\n",
       "Name: Consumer_complaint_narrative, dtype: object"
      ]
     },
     "execution_count": 7,
     "metadata": {},
     "output_type": "execute_result"
    }
   ],
   "source": [
    "text = mydata_train.Consumer_complaint_narrative\n",
    "text.head()"
   ]
  },
  {
   "cell_type": "markdown",
   "metadata": {
    "id": "HZ2AatmvFtE-"
   },
   "source": [
    "## Preprocessing the Corpus"
   ]
  },
  {
   "cell_type": "code",
   "execution_count": 71,
   "metadata": {
    "id": "XyJbe42AFuHp"
   },
   "outputs": [],
   "source": [
    "# Preprocessing the data\n",
    "\n",
    "lines = [] \n",
    "word_list = [] \n",
    "tmp = [];\n",
    "\n",
    "for line in text:\n",
    "    #tokenize the text documents and update the lists word_list and lines\n",
    "    tmp.append(line.split(' '));\n",
    "\n",
    "lines = [item for tmp_lst in tmp for item in tmp_lst];\n",
    "\n",
    "# Make sure the word_list contains unique tokens\n",
    "word_list = list(set(lines));\n",
    "\n",
    "# Calculate the total documents present in the corpus\n",
    "total_docs = len(text);\n",
    " \n",
    "#Create a dictionary to keep track of index of each word\n",
    "dict_idx = {};\n",
    "for doc in text:\n",
    "    for word in doc.split(' '):\n",
    "        tmp_index = list(text).index(doc);\n",
    "        if word not in dict_idx:\n",
    "            dict_idx[word] = [];\n",
    "            dict_idx[word].append(list(text).index(doc));\n",
    "        elif tmp_index not in dict_idx[word]:\n",
    "            dict_idx[word].append(tmp_index);"
   ]
  },
  {
   "cell_type": "code",
   "execution_count": 88,
   "metadata": {
    "id": "E6M_CoI9FxYb"
   },
   "outputs": [],
   "source": [
    "# Create a frequency dictionary\n",
    " \n",
    "def frequency_dict(lines):\n",
    "    '''\n",
    "    lines: list containing all the tokens\n",
    "    ---\n",
    "    freq_word: returns a dictionary which keeps the count of the number of documents containing the given word\n",
    "    '''\n",
    "    freq_word = {};\n",
    "    for token in list(set(lines)):\n",
    "        if token not in freq_word:\n",
    "            freq_word[token] = 0;\n",
    "        freq_word[token] = sum(map(lambda lines: token in lines, text))\n",
    "    return freq_word"
   ]
  },
  {
   "cell_type": "code",
   "execution_count": 89,
   "metadata": {
    "id": "qFkt9KBgFz43"
   },
   "outputs": [
    {
     "data": {
      "text/plain": [
       "{'': 5000,\n",
       " 'withholding': 16,\n",
       " '{$590.00}': 15,\n",
       " 'Picking': 1,\n",
       " 'SUPER': 6,\n",
       " 'apx': 3,\n",
       " 'salt': 1,\n",
       " 'Serial': 1,\n",
       " 'immediately!': 4,\n",
       " 'LIMIT': 6,\n",
       " 'legible.': 2,\n",
       " 'patient,': 2,\n",
       " '\\n\\nHowever,': 26,\n",
       " 'valuation': 14,\n",
       " '\\nplease': 1,\n",
       " 'March,': 1,\n",
       " 're-send?': 1,\n",
       " '48': 77,\n",
       " 'lay': 222,\n",
       " 'tribal': 1,\n",
       " 'earnings.': 4,\n",
       " 'bankruptcy?': 1,\n",
       " 'onXXXX.': 1,\n",
       " 'expired.\\n\\n7.': 1,\n",
       " 'banks.': 13,\n",
       " 'upload.': 2,\n",
       " 'MATTER,': 1,\n",
       " 'inflating': 3,\n",
       " 'Finance,': 2,\n",
       " 'quantifiable.': 1,\n",
       " 'bullies.': 1,\n",
       " 'N.A.': 4,\n",
       " 'Form': 11,\n",
       " 'sue': 1026,\n",
       " 'TESTIFY': 1,\n",
       " 'SouthWest': 1,\n",
       " 'reward': 61,\n",
       " 'which,': 10,\n",
       " 'accuracy,': 1,\n",
       " '54': 33,\n",
       " 'Respondeat': 1,\n",
       " 'full.\\n\\n25.': 1,\n",
       " 'UNVERIFIED': 3,\n",
       " 'heels.': 1,\n",
       " 'quote.': 6,\n",
       " 'horrified': 1,\n",
       " '\\n\\nOnly': 2,\n",
       " 'host': 22,\n",
       " 'hard': 282,\n",
       " 'Fannie': 3,\n",
       " 'forceful': 6,\n",
       " 'CAR': 69,\n",
       " 'insurace': 2,\n",
       " '{$720.00}': 3,\n",
       " 'intelligence,': 1,\n",
       " 'Reached': 2,\n",
       " '{$1500.00}.': 12,\n",
       " 'filter,': 1,\n",
       " 'CONTINUED': 1,\n",
       " 'owes.': 3,\n",
       " 'fleet': 1,\n",
       " '{$60000.00}': 2,\n",
       " 'urgently': 4,\n",
       " 'completng': 1,\n",
       " 'insurer.': 2,\n",
       " 'forthwith.': 1,\n",
       " 'late.\\n\\nSecondly,': 1,\n",
       " 'ID': 418,\n",
       " 'affidavit.': 5,\n",
       " 'Appendix': 2,\n",
       " 'speaking': 96,\n",
       " 'collectors.': 4,\n",
       " 'Explicitly': 1,\n",
       " 'adults': 2,\n",
       " 'accessed': 19,\n",
       " 'DISPUTES': 2,\n",
       " 'Nissan': 7,\n",
       " '{$3200.00}': 3,\n",
       " 'attorneys,': 4,\n",
       " 'have/': 1,\n",
       " '35=20': 1,\n",
       " 'to-date.': 2,\n",
       " 'Absolutely': 6,\n",
       " 'theft!!': 1,\n",
       " 'movements': 1,\n",
       " '\\n\\nDISCOVER': 1,\n",
       " 'cloaed': 1,\n",
       " '{$5700.00}': 5,\n",
       " 'dignity': 1,\n",
       " 'UWM': 3,\n",
       " 'wages,': 6,\n",
       " 'RELIEF.': 1,\n",
       " 'Forced': 2,\n",
       " 'DEMANDING.': 1,\n",
       " 'reaping': 1,\n",
       " 'fixed.': 13,\n",
       " 'by,': 9,\n",
       " 'disputed,': 7,\n",
       " 'notes,': 6,\n",
       " 'FRCA': 3,\n",
       " 'WAVED': 1,\n",
       " '-this': 2,\n",
       " '\\n\\n\\nSupplement': 1,\n",
       " 'American,': 2,\n",
       " 'Dealer': 14,\n",
       " 'notary,': 1,\n",
       " '\\n3': 66,\n",
       " 'acted': 897,\n",
       " 'residence': 46,\n",
       " '\\nEnd': 2,\n",
       " 'CONVERTING': 1,\n",
       " 'historical': 3,\n",
       " 'Described': 1,\n",
       " 'Defective': 3,\n",
       " 'voice': 197,\n",
       " 'Lawyer': 4,\n",
       " 'increase.': 18,\n",
       " 'Cooper,': 8,\n",
       " 'switched': 31,\n",
       " 'Apple,': 1,\n",
       " 'forward': 225,\n",
       " 'gurantee.': 1,\n",
       " 'Rewards/XXXX': 1,\n",
       " 'Forgery.': 1,\n",
       " 'including': 233,\n",
       " 'EdXXXXSlm': 1,\n",
       " 'parent': 154,\n",
       " 'synchrony/': 2,\n",
       " 'ins,': 4,\n",
       " 'STANDING,': 1,\n",
       " 'POINTS': 2,\n",
       " 'AUTHORITY': 2,\n",
       " 'SILVER': 1,\n",
       " 'July': 2,\n",
       " 'PROPER': 7,\n",
       " 'hires': 1,\n",
       " 'Th': 3552,\n",
       " 'didnt,': 1,\n",
       " 'resubmitted': 11,\n",
       " 'deceptive.': 4,\n",
       " 'women': 7,\n",
       " 'contact-attempt.': 1,\n",
       " 'Listed': 1,\n",
       " 'issue?': 1,\n",
       " 'WANT': 16,\n",
       " 'newspaper,': 1,\n",
       " 'TREATMENTS.': 1,\n",
       " 'Ink': 2,\n",
       " 'CITIBANK': 3,\n",
       " 'purported': 8,\n",
       " '{$7400.00},': 1,\n",
       " 'jail.': 2,\n",
       " 'presentation': 48,\n",
       " '30': 770,\n",
       " 'return,': 5,\n",
       " '{$98.00},': 1,\n",
       " 'duplicating': 2,\n",
       " 'unbelievable,': 1,\n",
       " 'bona': 1,\n",
       " '\\nNow': 48,\n",
       " 'Appraisal': 13,\n",
       " '{$340.00},': 1,\n",
       " 'shortages,': 1,\n",
       " 'erroneous.': 3,\n",
       " 'field,': 3,\n",
       " 'Sold': 2,\n",
       " '1319.12': 2,\n",
       " 'Penny': 11,\n",
       " 'cancellation,': 9,\n",
       " 'reviews.': 1,\n",
       " 'idwest': 11,\n",
       " 'DISPUTED': 8,\n",
       " 'idenity': 1,\n",
       " 'bad': 121,\n",
       " 'Acceptance-': 1,\n",
       " 'Law?!?!?': 1,\n",
       " 'MOHELA.': 1,\n",
       " 'explaining,': 1,\n",
       " 'annum.': 1,\n",
       " 'event': 220,\n",
       " 'plus': 122,\n",
       " 'LESS': 12,\n",
       " 'absurdity': 1,\n",
       " 'improperly,': 1,\n",
       " 'providers': 13,\n",
       " 'overnighted': 4,\n",
       " 'Revenue,': 1,\n",
       " 'password': 24,\n",
       " '\\nComplaint': 6,\n",
       " 'card.After': 1,\n",
       " 'Auth': 21,\n",
       " 'alongwith': 1,\n",
       " 'Receptionist': 1,\n",
       " 'unlicensed': 3,\n",
       " 'fraudlent': 2,\n",
       " 'pubic': 1,\n",
       " 'locally.': 1,\n",
       " 'stole': 156,\n",
       " '{$55.00}.': 2,\n",
       " 'defamed': 1,\n",
       " 'gentleman': 25,\n",
       " 'homeowners.': 4,\n",
       " 'GROSS': 1,\n",
       " 'fraudulantly': 1,\n",
       " '<XXXX': 2,\n",
       " 'decrease.': 2,\n",
       " 'Theft': 29,\n",
       " 'abd': 3,\n",
       " 'RESTRICTING': 1,\n",
       " '7.28.230': 1,\n",
       " 'suspends': 1,\n",
       " 'day,': 297,\n",
       " 'days/60': 33,\n",
       " '2016.': 12,\n",
       " 'cost-benefit': 1,\n",
       " 'supermarket.': 1,\n",
       " 'post-it': 1,\n",
       " 'Least': 1,\n",
       " 'resolved,': 19,\n",
       " 'LIMITATIONS': 2,\n",
       " 'vast': 15,\n",
       " 'MODIFY': 1,\n",
       " 'included:Open': 1,\n",
       " '{$69.00}.': 2,\n",
       " 'mtaking': 1,\n",
       " 'tears.': 2,\n",
       " 'CITIZEN.': 1,\n",
       " 'judicial': 12,\n",
       " 'kept,': 1,\n",
       " 'bolted': 1,\n",
       " 'liquidated': 1,\n",
       " 'insecure': 1,\n",
       " 'payments.Thank': 1,\n",
       " 'intimidated,': 1,\n",
       " 'D,': 43,\n",
       " 'classes.': 3,\n",
       " 'exsist,': 1,\n",
       " 'validating': 12,\n",
       " 'rulings': 1,\n",
       " '\\nTHEY': 6,\n",
       " 'knowledge..': 1,\n",
       " 'Medicaid': 1,\n",
       " 'BLESS': 1,\n",
       " 'Addendums': 1,\n",
       " 'discouraged': 3,\n",
       " 'balance!!!': 1,\n",
       " 'Forgivenss': 1,\n",
       " 'Serving': 2,\n",
       " 'selection': 4,\n",
       " 'DEDUCTION.': 1,\n",
       " 'Aldous': 2,\n",
       " 'Requests': 2,\n",
       " 'REFUND.': 2,\n",
       " 'just.': 7,\n",
       " 'notice!': 2,\n",
       " '\\nOnly': 3,\n",
       " 'choices.': 2,\n",
       " 'domicile.': 1,\n",
       " 'face-to': 1,\n",
       " 'FCO': 1,\n",
       " 'thoughts': 2,\n",
       " 'XXXX________________________________________': 1,\n",
       " 'b)': 3,\n",
       " 'ComplaintHelpLogout': 1,\n",
       " 'priority': 9,\n",
       " 'escows': 1,\n",
       " 'wages!\\n\\nDisgusting.': 1,\n",
       " 'everyone,': 1,\n",
       " 'made:': 1,\n",
       " 'Sklar': 1,\n",
       " '6.': 124,\n",
       " 'violations.': 4,\n",
       " 'gone.': 7,\n",
       " '\\n\\nHistory': 1,\n",
       " 'NH': 10,\n",
       " 'stimied': 1,\n",
       " 'recapped': 1,\n",
       " 'EXPLANATION': 2,\n",
       " '800s.': 1,\n",
       " 'card.': 324,\n",
       " 'RESPA.': 1,\n",
       " 'HEARING.': 1,\n",
       " 'XX/XX/2020CMRE': 1,\n",
       " 'RE': 428,\n",
       " 'professionally.': 2,\n",
       " 'clarifying': 4,\n",
       " 'Firms': 1,\n",
       " 'told': 1484,\n",
       " 'DOCUMENTATION': 9,\n",
       " 'restore': 22,\n",
       " 'Mort': 237,\n",
       " 'Informed': 2,\n",
       " 'illegal.': 28,\n",
       " 'magical': 2,\n",
       " 'breached,': 1,\n",
       " 'Homeless': 1,\n",
       " 'disrupting': 2,\n",
       " 'while': 326,\n",
       " 'fl': 363,\n",
       " 'penalties.': 9,\n",
       " 'theft.I': 1,\n",
       " 'out>?': 1,\n",
       " 'shockingly': 2,\n",
       " 'unequivocally': 4,\n",
       " '1)': 5,\n",
       " 'ADJUDGED': 2,\n",
       " '\\n\\n1-2': 1,\n",
       " 'permanent': 38,\n",
       " 'Assetcare': 1,\n",
       " 'Thanks': 93,\n",
       " 'soul.': 1,\n",
       " 'Thereby': 2,\n",
       " 'because:': 1,\n",
       " 'ACT2009,': 1,\n",
       " 'decision-': 2,\n",
       " 'ASK??': 1,\n",
       " 'FA_Supporting_Document_1_179955eed800a2_XX/XX/XXXX': 1,\n",
       " '//www.simple.com/': 1,\n",
       " 'than': 668,\n",
       " 'dresser.': 1,\n",
       " 'exclaimed.': 1,\n",
       " 'area': 67,\n",
       " 'acct.garnishment': 1,\n",
       " \"'serious\": 1,\n",
       " 'DIMINISH': 1,\n",
       " 'OR': 288,\n",
       " 'account.\"I': 1,\n",
       " 'Simons': 2,\n",
       " 'improvement,': 1,\n",
       " 'made..': 1,\n",
       " 'harassed': 36,\n",
       " 'look.': 3,\n",
       " 'nonchalant': 1,\n",
       " 'Social': 47,\n",
       " '{$34000.00}.': 1,\n",
       " 'XXXX.FAST': 2,\n",
       " '\\nXXXX.': 4,\n",
       " 'NYPD': 1,\n",
       " 'braces': 1,\n",
       " 'susposley': 1,\n",
       " 'Confused': 2,\n",
       " 'Fiance': 3,\n",
       " 'transferred,': 4,\n",
       " 'LOSE': 30,\n",
       " '-Bankruptcy': 1,\n",
       " '60-day': 5,\n",
       " 'debt-to-income': 1,\n",
       " 'ONE.': 7,\n",
       " '127': 1,\n",
       " 'unreasonable': 17,\n",
       " '/!!!': 1,\n",
       " 'insult': 22,\n",
       " 'Stated': 2,\n",
       " 'TRANSFERED': 1,\n",
       " 'vets': 1,\n",
       " 'HCBS': 1,\n",
       " 'Tel': 28,\n",
       " 'insane': 14,\n",
       " 'company.': 239,\n",
       " 'PA,': 16,\n",
       " 'mandates': 1,\n",
       " 'flash': 1,\n",
       " 'deactivated.': 1,\n",
       " 'averaged': 2,\n",
       " 'co-worker': 1,\n",
       " 'growing.': 1,\n",
       " 'sml.texas.gov.': 1,\n",
       " 'interpersonal': 1,\n",
       " 'Specifically,': 13,\n",
       " 'fraudulent': 447,\n",
       " '\\nUntil': 2,\n",
       " 'logoin': 1,\n",
       " 'debt.account': 1,\n",
       " 'rule,': 2,\n",
       " 'gallon': 1,\n",
       " 'FLOAT.': 1,\n",
       " 'successors': 2,\n",
       " 'argument': 14,\n",
       " 'SET.': 3,\n",
       " 'humanity,': 2,\n",
       " 'Maintain': 4,\n",
       " 'form.': 26,\n",
       " '-More': 1,\n",
       " 'hospital/medical': 3,\n",
       " 'locked.': 18,\n",
       " 'our,': 9,\n",
       " '{$68000.00}.': 1,\n",
       " 'accordingly?': 1,\n",
       " 'quarter': 20,\n",
       " 'Deleted': 2,\n",
       " 'toll': 18,\n",
       " 'skymiles': 3,\n",
       " 'Plus.': 1,\n",
       " '~XXXX': 4,\n",
       " 'Encouraged': 1,\n",
       " 'devasting': 1,\n",
       " '88': 18,\n",
       " 'heavy': 8,\n",
       " 'one-half': 2,\n",
       " 'students,': 3,\n",
       " 'unchanged.': 1,\n",
       " 'errors.': 10,\n",
       " 'actually': 172,\n",
       " 'Has': 10,\n",
       " 'restricted,': 1,\n",
       " 'Owners': 1,\n",
       " 'enforcement': 18,\n",
       " 'securitizations': 2,\n",
       " 'DELAERSHIP': 1,\n",
       " 'discovered': 111,\n",
       " 'THIS.': 6,\n",
       " 'also.': 23,\n",
       " 'Crime': 6,\n",
       " 'broad': 8,\n",
       " 'gouging': 1,\n",
       " 'Deferments': 1,\n",
       " 'shipper': 5,\n",
       " '{$1000.00}.': 30,\n",
       " 'snooty': 1,\n",
       " 'Finances': 2,\n",
       " 'engulf': 1,\n",
       " 'cursory': 3,\n",
       " 'unkept': 1,\n",
       " 'Tennessee,': 1,\n",
       " 'Constitution': 3,\n",
       " 'INC-XXXX.': 1,\n",
       " 'condescendingly': 1,\n",
       " 'terms': 185,\n",
       " 'opposed': 8,\n",
       " 'CORRECTLY': 2,\n",
       " 'girlfriend': 5,\n",
       " 'does': 554,\n",
       " 'MILITARY/VETERAN': 1,\n",
       " 'quick,': 1,\n",
       " 'office/collection': 1,\n",
       " 'unfairly,': 1,\n",
       " '{$360.00},': 1,\n",
       " 'Notary': 1,\n",
       " 'may': 326,\n",
       " 'Underwriter': 3,\n",
       " 'structure.': 1,\n",
       " 'branch': 169,\n",
       " 'trickery': 4,\n",
       " 'birth': 37,\n",
       " 'sensible': 2,\n",
       " '20+': 1,\n",
       " '1813': 1,\n",
       " 'uphold': 4,\n",
       " '30,': 2,\n",
       " '\\n17.': 3,\n",
       " 'inactive/closed': 1,\n",
       " 'charm': 2,\n",
       " 'XXXX___': 3,\n",
       " 're-send': 2,\n",
       " 'bans': 1,\n",
       " 'facilty.': 1,\n",
       " 'scam!': 1,\n",
       " 'overjoyed,': 2,\n",
       " 'corporations,': 3,\n",
       " 'vacated.': 1,\n",
       " 'printouts': 2,\n",
       " 'Summary': 12,\n",
       " 'somehow.': 2,\n",
       " '\\n\\nMaintenance': 1,\n",
       " 'asked': 907,\n",
       " 'Complant': 1,\n",
       " 'HALF': 5,\n",
       " 'pationed': 1,\n",
       " 'billed.': 4,\n",
       " 'executed': 16,\n",
       " 'Recorded': 1,\n",
       " 'lodged': 1,\n",
       " 'physicians,': 1,\n",
       " 'CLASSIFIED': 1,\n",
       " 'decreases.': 1,\n",
       " 'creditied': 1,\n",
       " '“Please': 1,\n",
       " 'Salli': 25,\n",
       " 'Alerts': 1,\n",
       " 'lending.': 4,\n",
       " 'published': 10,\n",
       " 'bureaus': 279,\n",
       " 'PHYSICIAN': 1,\n",
       " 'Fails': 2,\n",
       " 'FEMA.': 1,\n",
       " 'hide': 13,\n",
       " 'takin': 214,\n",
       " 'DETAILS': 3,\n",
       " 'PenFed.': 2,\n",
       " 'playing.': 1,\n",
       " 'correspondence\",': 1,\n",
       " 'showed': 142,\n",
       " 'Union': 53,\n",
       " 'pushy': 1,\n",
       " '48-hr': 1,\n",
       " '2099': 2,\n",
       " 'events.': 5,\n",
       " 'drawer.': 2,\n",
       " 'vender.': 1,\n",
       " '5th,': 1,\n",
       " 'lease!!!': 1,\n",
       " 'letters,': 20,\n",
       " 'demurrer': 1,\n",
       " 'campus.': 1,\n",
       " 'possessions': 2,\n",
       " 'caregiver': 1,\n",
       " 'Uncle': 2,\n",
       " 'do.I': 1,\n",
       " 'Releasing': 1,\n",
       " 'maintains,': 2,\n",
       " 'dealership,': 7,\n",
       " '{$600000.00}.': 1,\n",
       " 'alone.': 6,\n",
       " 'wasnt.': 3,\n",
       " 'indicated.': 1,\n",
       " '24.': 17,\n",
       " '1002.2': 1,\n",
       " '{$2.00}.': 2,\n",
       " 'illegally-handled': 1,\n",
       " 'obstructed': 1,\n",
       " 'withe': 1,\n",
       " 'DELTA': 1,\n",
       " 'Options': 2,\n",
       " 'ref.': 1,\n",
       " 'verge': 24,\n",
       " 'found.,': 1,\n",
       " 'equated': 8,\n",
       " 'remembers': 1,\n",
       " '{$78000.00}': 1,\n",
       " 'myuwmloan.com.': 1,\n",
       " 'justifying': 1,\n",
       " 'tormented': 1,\n",
       " '\\nEnclosed': 1,\n",
       " 'lodge': 3,\n",
       " 'nevertheless': 4,\n",
       " 'medicine': 3,\n",
       " 'I.Q': 2,\n",
       " '33months': 1,\n",
       " 'wars.': 1,\n",
       " 'offering': 51,\n",
       " 'NES.': 1,\n",
       " '2nd-': 1,\n",
       " 'NOTICES': 3,\n",
       " 'legitimate,': 3,\n",
       " 'link.': 4,\n",
       " 'reanalyzing': 1,\n",
       " 'Federal.': 2,\n",
       " 'cautioned': 2,\n",
       " 'welding': 1,\n",
       " 'quadruple': 1,\n",
       " 'stub': 31,\n",
       " 'computed': 2,\n",
       " 'misinformed,': 1,\n",
       " 'XX/XX/XXXX-XX/XX/XXXX.': 6,\n",
       " 'reservation.': 5,\n",
       " 'Aid': 8,\n",
       " '{$53000.00}': 5,\n",
       " 'desist.': 9,\n",
       " 'Most': 30,\n",
       " 'SUPERVISOR': 3,\n",
       " 'letter,': 84,\n",
       " '\\nMisinformation': 1,\n",
       " 'Whenever': 2,\n",
       " 'meet.': 3,\n",
       " 'installment,': 1,\n",
       " 'American': 142,\n",
       " 'opportunity,': 3,\n",
       " 'horrendous': 6,\n",
       " 'Howard': 1,\n",
       " '\\n\\nSTEP': 1,\n",
       " 'FRUSTRATING.': 1,\n",
       " '^XXXX': 1,\n",
       " 'keeping.': 1,\n",
       " 'Med': 23,\n",
       " 'Navient': 66,\n",
       " 'CLSD': 1,\n",
       " '65': 37,\n",
       " 'machince': 1,\n",
       " 'lied.': 34,\n",
       " 'reserves': 6,\n",
       " '3-Days': 1,\n",
       " 'unlisted': 1,\n",
       " 'holidays.': 4,\n",
       " 'devious': 1,\n",
       " 'bureaus.\\n\\nThis': 1,\n",
       " 'CashNet,': 1,\n",
       " 'spoofing': 3,\n",
       " \"Barclay's.\": 2,\n",
       " 'Driven': 1,\n",
       " '(30)': 1,\n",
       " 'in-compliance': 1,\n",
       " 'Kia': 7,\n",
       " '30days': 2,\n",
       " 'plaintiffs': 1,\n",
       " '\\n\\nATTORNEY': 1,\n",
       " 'LAW.': 7,\n",
       " 'infamous': 3,\n",
       " 'bother': 28,\n",
       " 'blanks': 1,\n",
       " 'III': 3,\n",
       " 'initials': 2,\n",
       " 'Every!': 1,\n",
       " 'prequalifcation': 1,\n",
       " 'Forgiveness.': 5,\n",
       " 'HOOK': 1,\n",
       " 'spouses': 1,\n",
       " 'illustrates': 1,\n",
       " 'delaying.': 1,\n",
       " 'acknowledge,': 2,\n",
       " '\\nthis': 3,\n",
       " 'remarks.': 1,\n",
       " 'Nail': 1,\n",
       " 'restate': 3,\n",
       " 'vacated': 2,\n",
       " 'Leibert,': 1,\n",
       " 'inconsistent,': 2,\n",
       " 'Police': 32,\n",
       " '2.9': 6,\n",
       " 'literate': 2,\n",
       " 'Pages': 2,\n",
       " 'makers': 2,\n",
       " \"I'VE\": 2,\n",
       " 'consumerfinance.gov,': 1,\n",
       " 'enforceable': 6,\n",
       " 'reviewing': 55,\n",
       " 'pleaded': 6,\n",
       " 'thesis': 1,\n",
       " 'DISCUSS': 1,\n",
       " 'threats': 27,\n",
       " 'severely': 17,\n",
       " 'dates..': 2,\n",
       " 'plz': 1,\n",
       " 'due.': 102,\n",
       " 'deferment/forbearance': 1,\n",
       " 'Balance': 44,\n",
       " 'option,': 9,\n",
       " 'FURNISHED': 1,\n",
       " '2d.': 7,\n",
       " 'lend': 237,\n",
       " 'works,': 1,\n",
       " 'glass': 4,\n",
       " 'explanation': 136,\n",
       " 'NELNET': 3,\n",
       " 'email-': 1,\n",
       " 'usurious': 4,\n",
       " 'cara': 1,\n",
       " 'Stat.': 2,\n",
       " 'Experiencing': 1,\n",
       " 'Greetings,': 4,\n",
       " '{$500.00},': 6,\n",
       " 'founded': 4,\n",
       " 'scarce': 1,\n",
       " 'pre-payment': 1,\n",
       " 'STOP.': 2,\n",
       " 'holistic': 2,\n",
       " 'Regards.': 1,\n",
       " 'bench': 3,\n",
       " '{$.00}': 2,\n",
       " \"'s,\": 6,\n",
       " 'plastic': 2,\n",
       " 'COVER': 39,\n",
       " 'authorize': 275,\n",
       " 'mutes': 1,\n",
       " 'Salesmen': 1,\n",
       " 'nowXXXX.': 1,\n",
       " 'exposed.': 1,\n",
       " 'technology,': 1,\n",
       " 'NCUA': 1,\n",
       " 'declared': 15,\n",
       " 'CashApp': 1,\n",
       " 'check-in': 1,\n",
       " 'updating.': 1,\n",
       " 'mobile,': 1,\n",
       " '\\nWere': 2,\n",
       " 'ASSIGNEES,': 1,\n",
       " 'draining': 3,\n",
       " 'REO': 3,\n",
       " 'THEFT': 18,\n",
       " 'disgusting': 10,\n",
       " 'intending': 2,\n",
       " '{$190.00}.': 6,\n",
       " 'exist.': 14,\n",
       " 'badly.': 1,\n",
       " 'XX/XX/08': 1,\n",
       " 'justvwas': 1,\n",
       " 'PRDOR': 2,\n",
       " 'Fla.': 1,\n",
       " 'blamed,': 1,\n",
       " 'Collects': 1,\n",
       " 'principle!': 1,\n",
       " 'dots': 1,\n",
       " 'went': 598,\n",
       " 'solvent': 1,\n",
       " 'irresponsibly': 2,\n",
       " '\"...': 1,\n",
       " 'attachments': 24,\n",
       " 'XXXXDirect': 1,\n",
       " 'assign,': 1,\n",
       " 'CAN': 47,\n",
       " 'disater': 1,\n",
       " 'Prop': 16,\n",
       " 'maintenance,': 1,\n",
       " 'collecting?': 1,\n",
       " 'advised,': 9,\n",
       " 'load,': 1,\n",
       " 'Paid.': 1,\n",
       " '\\n\\nMrs': 1,\n",
       " 'ET,': 2,\n",
       " 'prof': 188,\n",
       " 'transaction.\\n\\n3.': 1,\n",
       " 'Judgment': 7,\n",
       " 'concerned.': 2,\n",
       " 'names,': 5,\n",
       " 'rounding-error': 1,\n",
       " 'compounded': 2,\n",
       " 'experts': 2,\n",
       " '0.05': 1,\n",
       " 'passenger': 4,\n",
       " 'aforesaid': 35,\n",
       " '90-120': 3,\n",
       " 'firms': 13,\n",
       " 'withdraws': 5,\n",
       " 'accurate': 246,\n",
       " 'Claim,': 1,\n",
       " 'meager': 1,\n",
       " 'solvency.': 2,\n",
       " 'condos': 1,\n",
       " 'Cat.': 1,\n",
       " 'reasons!': 1,\n",
       " 'ga,': 1,\n",
       " '{$800.00}': 21,\n",
       " 'validated,': 6,\n",
       " 'error.': 65,\n",
       " 'purchaser': 5,\n",
       " 'disclosed,': 1,\n",
       " 'DISCHARGED..': 1,\n",
       " 'okay!!!!!!!!!!!': 1,\n",
       " 'specific,': 1,\n",
       " 'communities,': 1,\n",
       " 'mtg.': 4,\n",
       " 'misstep.': 1,\n",
       " 'ended,': 9,\n",
       " 'lies': 72,\n",
       " 'throw': 13,\n",
       " 'attendance.': 1,\n",
       " 'Daytime': 1,\n",
       " 'enough.': 15,\n",
       " 'credentials': 5,\n",
       " 'Dakota': 3,\n",
       " 'located.': 5,\n",
       " 'obfuscation': 1,\n",
       " 'EOCA.': 1,\n",
       " 'tv': 4,\n",
       " 'Holloway': 1,\n",
       " 'Recast/Loan': 1,\n",
       " '92': 81,\n",
       " 'receiveing': 1,\n",
       " 'fees.I': 4,\n",
       " 'resellers.': 2,\n",
       " 'rent': 1054,\n",
       " 'bb': 46,\n",
       " '\\n\\nNFCU': 1,\n",
       " 'inquired': 46,\n",
       " 'Prepaid': 4,\n",
       " 'pretender': 1,\n",
       " 'foresight': 1,\n",
       " \"'s.\": 19,\n",
       " 'meaningfully': 1,\n",
       " 'ex-wife.': 2,\n",
       " 'Citibank.': 22,\n",
       " 'rogue': 1,\n",
       " 'contacting': 155,\n",
       " 'longevity': 1,\n",
       " '6-year': 1,\n",
       " 'e-mailed': 7,\n",
       " 'juggernaut': 1,\n",
       " 'Beyond': 2,\n",
       " 'individuals.': 4,\n",
       " 'ex-contractor': 1,\n",
       " 'WAGE': 1,\n",
       " 'RECORDED': 4,\n",
       " 'dictated': 2,\n",
       " 'dissatisfied': 8,\n",
       " 'end': 1765,\n",
       " 'investment.': 2,\n",
       " 'quarters': 9,\n",
       " 're-issued': 1,\n",
       " '{$16000.00}': 11,\n",
       " 'promo.': 3,\n",
       " 'reasonable,': 3,\n",
       " 'curtailment.': 2,\n",
       " 'industry.': 4,\n",
       " 'indeed!': 1,\n",
       " 'XX/XX/2018,': 17,\n",
       " 'Harmless/Indemnification': 1,\n",
       " 'preparing': 4,\n",
       " 'forthcoming': 6,\n",
       " 'difference': 48,\n",
       " 'built': 14,\n",
       " 'extorted': 2,\n",
       " 'ignorance,': 1,\n",
       " 'dated.': 25,\n",
       " 'Resolutions': 6,\n",
       " 'have': 3513,\n",
       " 'common,': 2,\n",
       " 'truck.': 2,\n",
       " '\\n\\nStay': 1,\n",
       " 'frankly': 10,\n",
       " 'dee.': 1,\n",
       " 'Person': 12,\n",
       " 'recalled,': 1,\n",
       " 'recommendations.': 1,\n",
       " 'salary.': 4,\n",
       " '90': 368,\n",
       " 'lately,': 1,\n",
       " 'due!!!': 2,\n",
       " 'SUFFER': 3,\n",
       " 'lifetime.': 1,\n",
       " 'fueled,': 1,\n",
       " 'screwed': 11,\n",
       " 'seniors': 2,\n",
       " '1-800': 2,\n",
       " \"Macy's/DSNB\": 1,\n",
       " 'townhouse.': 1,\n",
       " 'middle.': 1,\n",
       " 'classified': 4,\n",
       " 'tinting': 1,\n",
       " 'Jeopardy': 2,\n",
       " 'obscuring': 1,\n",
       " 'Quicken': 12,\n",
       " 'elected': 29,\n",
       " 'Access': 6,\n",
       " 'cousin,': 1,\n",
       " 'BUT,': 1,\n",
       " 'skincare': 1,\n",
       " 'stoop': 1,\n",
       " 'CORP.': 1,\n",
       " 'proof/signature': 1,\n",
       " 'SMALL': 2,\n",
       " 'harassed.': 1,\n",
       " 'point!': 1,\n",
       " 'delt': 3,\n",
       " 'stupidly': 2,\n",
       " '\"verbal': 1,\n",
       " '//static.chasecdn.com/content/dam/legal-agreements/library/en/dsa1_la/versions/dsa1_la.pdf': 1,\n",
       " 'disproportionate': 1,\n",
       " 'Visibly': 1,\n",
       " 'VIA': 8,\n",
       " '\\n\\nDear': 6,\n",
       " 'crowded': 1,\n",
       " 'diminish.': 1,\n",
       " 'deferral.': 2,\n",
       " 'Perfect,': 1,\n",
       " 'Velocity': 1,\n",
       " 'people': 377,\n",
       " 'USTPs': 1,\n",
       " 'regional': 9,\n",
       " 'documents-emails,': 1,\n",
       " 'live.': 5,\n",
       " '\\n\\nWhen': 84,\n",
       " '{$6.00}.': 2,\n",
       " 'listen.': 10,\n",
       " 'INACCURACIES': 1,\n",
       " 'stake.': 34,\n",
       " 'winter.': 1,\n",
       " 'SOCIAL': 5,\n",
       " 'deb': 1495,\n",
       " \"'business\": 1,\n",
       " 'ACCOUNTS.I': 1,\n",
       " '\\n4.': 35,\n",
       " 'ACH': 58,\n",
       " 'lady.': 1,\n",
       " 'barrages': 1,\n",
       " 'Cable': 3,\n",
       " 'me~!!!': 1,\n",
       " 'diddnt': 1,\n",
       " 'Misconduct': 1,\n",
       " 'lease,': 26,\n",
       " 'Wa': 123,\n",
       " 'violoation': 1,\n",
       " 'gutted': 1,\n",
       " 'Charging': 2,\n",
       " 'name.\\n\\n7.': 1,\n",
       " 'suits': 24,\n",
       " 'recalculated.': 1,\n",
       " 'dismissive': 5,\n",
       " 'tail-end': 1,\n",
       " 'subpoena': 8,\n",
       " 'answered.': 20,\n",
       " 'cleared.': 7,\n",
       " 'finances.': 8,\n",
       " 'misrepresentation.': 4,\n",
       " 'unlawfully': 5,\n",
       " 'streaming': 2,\n",
       " 'possibly': 44,\n",
       " 'Gatus': 1,\n",
       " '\\nName': 2,\n",
       " 'basically': 54,\n",
       " 'Practices/Consumer': 1,\n",
       " 'maintain': 76,\n",
       " 'Lie': 15,\n",
       " '6-8': 7,\n",
       " 'hipaa': 1,\n",
       " 'IVR': 2,\n",
       " 'rebuilding.': 1,\n",
       " 'Scheme': 2,\n",
       " 'GAP.': 1,\n",
       " \"won't\": 63,\n",
       " 'Followup': 2,\n",
       " 'FCPB,': 1,\n",
       " 'cellphone.': 1,\n",
       " 'terms?': 1,\n",
       " 'Paper': 3,\n",
       " 'servicer': 124,\n",
       " 'super': 302,\n",
       " 'COLLECTS': 3,\n",
       " 'rejection.': 2,\n",
       " 'exhibits': 2,\n",
       " 'cat': 1527,\n",
       " 'advancing': 3,\n",
       " '1309.102': 1,\n",
       " \"'chip\": 1,\n",
       " 'loans.Can': 1,\n",
       " 'notes.\\n\\n6': 1,\n",
       " 'creates': 2,\n",
       " 'utilities,': 4,\n",
       " 'XXXX_XXXX_KCE_3137.pdf': 1,\n",
       " 'either/or': 1,\n",
       " 'self-executing': 1,\n",
       " 'Is': 68,\n",
       " 'XXXX/Capio': 1,\n",
       " 'brief,': 1,\n",
       " 'plan!': 1,\n",
       " 'ACE': 13,\n",
       " 'engineers': 1,\n",
       " 'suggest': 84,\n",
       " 'debt.\\n\\n12.': 1,\n",
       " 'worse,': 9,\n",
       " 'vs.': 6,\n",
       " 'Lexis': 1,\n",
       " 'cutover': 1,\n",
       " 'ruling.': 1,\n",
       " '336': 1,\n",
       " 'fraud.\\n\\n12.': 1,\n",
       " 'mediator.': 1,\n",
       " 'findings': 12,\n",
       " 'eany': 1,\n",
       " 'IMMEDIATELY!': 1,\n",
       " 'extension': 47,\n",
       " 'communications.': 10,\n",
       " 'seperate': 5,\n",
       " 'System.': 3,\n",
       " 'YTD': 2,\n",
       " '//static.chasecdn.com/content/dam/legal-agreements/library/en/gf_esign_la/versions/gf_esign_la.pdf.': 1,\n",
       " 'notion': 2,\n",
       " 'Trusting': 1,\n",
       " '\\n\\nThen': 26,\n",
       " 'R': 1637,\n",
       " 'greatly.': 1,\n",
       " 'weekly/monthly.': 1,\n",
       " 'refused': 373,\n",
       " 'over-drafted': 1,\n",
       " 'electronic.': 1,\n",
       " 'menacing.': 1,\n",
       " 'patron': 3,\n",
       " 'nationwide.': 1,\n",
       " 'across': 31,\n",
       " \"wasn't,\": 1,\n",
       " 'accumulates': 2,\n",
       " 'Covid': 56,\n",
       " 'havent': 44,\n",
       " '\\nsee': 2,\n",
       " 'airport.': 2,\n",
       " '58-70-5,': 1,\n",
       " 'expecting,': 1,\n",
       " 'proper': 458,\n",
       " 'Southwest,': 1,\n",
       " 'brother': 22,\n",
       " 'boyfriends': 1,\n",
       " 'year': 1027,\n",
       " 'forbidden.': 1,\n",
       " 'echoed': 1,\n",
       " 'overages': 3,\n",
       " 'XX/XX/2015': 10,\n",
       " 'TDBank': 1,\n",
       " 'respected.': 2,\n",
       " 'THREE': 11,\n",
       " 'Winn': 1,\n",
       " 'retrained': 2,\n",
       " 'internationally': 2,\n",
       " 'reanalyze': 2,\n",
       " 'Export': 1,\n",
       " 'quoted': 14,\n",
       " 'shifted': 1,\n",
       " 'mulitple': 1,\n",
       " 'scores!': 2,\n",
       " 'conflicting': 10,\n",
       " 'prolong': 12,\n",
       " 'TEMP': 20,\n",
       " 'bouth!': 1,\n",
       " ...}"
      ]
     },
     "execution_count": 89,
     "metadata": {},
     "output_type": "execute_result"
    }
   ],
   "source": [
    "# Create a dictionary containing the frequency of words utilizing the 'frequency_dict' function\n",
    "\n",
    "# Expect this chunk to take a comparatively longer time to execute since our dataset is large\n",
    "\n",
    "freq_word = frequency_dict(lines)\n",
    "\n",
    "freq_word"
   ]
  },
  {
   "cell_type": "code",
   "execution_count": 90,
   "metadata": {
    "id": "vLvPijR_GKHn"
   },
   "outputs": [],
   "source": [
    "# Create a function to calculate the Term Frequency\n",
    "\n",
    "def term_frequency(document, word):\n",
    "    '''\n",
    "    document: list containing the entire corpus\n",
    "    word: word whose term frequency is to be calculated\n",
    "    ---\n",
    "    tf: returns term frequency value\n",
    "    '''\n",
    "    n = len(document);\n",
    "    c = document.count(word);\n",
    "    tf = c/n;\n",
    "    \n",
    "    return tf"
   ]
  },
  {
   "cell_type": "code",
   "execution_count": 91,
   "metadata": {
    "id": "HA99G_yAGLCC"
   },
   "outputs": [],
   "source": [
    "# Create a function to calculate the Inverse Document Frequency\n",
    " \n",
    "def inverse_df(word):\n",
    "    '''\n",
    "    word: word whose inverse document frequency is to be calculated\n",
    "    ---\n",
    "    idf: return inverse document frequency value\n",
    "    '''\n",
    "    df = freq_word[word];\n",
    "    N = len(text);\n",
    "    \n",
    "    idf = math.log(N/(df + 1));\n",
    "    \n",
    "    return idf"
   ]
  },
  {
   "cell_type": "code",
   "execution_count": 100,
   "metadata": {
    "id": "F0irgwv2GRfE"
   },
   "outputs": [],
   "source": [
    "#Create a function to combine the term frequencies (TF) and inverse document (IDF) frequencies calculated above to get TF-IDF\n",
    "\n",
    "def tfidf(sentence,dict_idx):\n",
    "    '''\n",
    "    sentence: list containing the entire corpus\n",
    "    dict: dictionary keeping track of index of each word\n",
    "    ---\n",
    "    tf_idf_vec: returns computed tf-idf\n",
    "    '''\n",
    "    tf_idf_vec = [[0 for x in range(len(dict_idx))] for y in range(len(sentence))];\n",
    "    \n",
    "    ctr = 0;\n",
    "    \n",
    "    for key in dict_idx:\n",
    "        idf = inverse_df(key);\n",
    "        docs = dict_idx[key];\n",
    "        for doc in docs:\n",
    "            tf = term_frequency(sentence[doc], key);\n",
    "            tf_idf_vec[doc][ctr] = tf * idf;\n",
    "        ctr = ctr + 1;\n",
    "        \n",
    "    return tf_idf_vec"
   ]
  },
  {
   "cell_type": "code",
   "execution_count": 101,
   "metadata": {
    "id": "_VKJhqatGWpV"
   },
   "outputs": [],
   "source": [
    "#Compute the vectors utilizing the 'tfidf' function created above to obtain a TF-IDF Encoded text corpus\n",
    "\n",
    "tf_idf_vectors = tfidf(text,dict_idx);\n",
    "tf_idf_df = pd.DataFrame(tf_idf_vectors, columns = word_list);"
   ]
  },
  {
   "cell_type": "markdown",
   "metadata": {
    "id": "LE0UGUaSGb8I"
   },
   "source": [
    "## Multinomial Naive Bayes (10 Points)"
   ]
  },
  {
   "cell_type": "code",
   "execution_count": 110,
   "metadata": {
    "id": "yWYcxrdJGfDC"
   },
   "outputs": [],
   "source": [
    "#Fit a Multinomial Naive Bayes Model on our dataset\n",
    "\n",
    "model = MultinomialNB().fit(tf_idf_df, mydata_train.Product)"
   ]
  },
  {
   "cell_type": "code",
   "execution_count": 111,
   "metadata": {},
   "outputs": [
    {
     "data": {
      "text/html": [
       "<style>#sk-container-id-1 {color: black;background-color: white;}#sk-container-id-1 pre{padding: 0;}#sk-container-id-1 div.sk-toggleable {background-color: white;}#sk-container-id-1 label.sk-toggleable__label {cursor: pointer;display: block;width: 100%;margin-bottom: 0;padding: 0.3em;box-sizing: border-box;text-align: center;}#sk-container-id-1 label.sk-toggleable__label-arrow:before {content: \"▸\";float: left;margin-right: 0.25em;color: #696969;}#sk-container-id-1 label.sk-toggleable__label-arrow:hover:before {color: black;}#sk-container-id-1 div.sk-estimator:hover label.sk-toggleable__label-arrow:before {color: black;}#sk-container-id-1 div.sk-toggleable__content {max-height: 0;max-width: 0;overflow: hidden;text-align: left;background-color: #f0f8ff;}#sk-container-id-1 div.sk-toggleable__content pre {margin: 0.2em;color: black;border-radius: 0.25em;background-color: #f0f8ff;}#sk-container-id-1 input.sk-toggleable__control:checked~div.sk-toggleable__content {max-height: 200px;max-width: 100%;overflow: auto;}#sk-container-id-1 input.sk-toggleable__control:checked~label.sk-toggleable__label-arrow:before {content: \"▾\";}#sk-container-id-1 div.sk-estimator input.sk-toggleable__control:checked~label.sk-toggleable__label {background-color: #d4ebff;}#sk-container-id-1 div.sk-label input.sk-toggleable__control:checked~label.sk-toggleable__label {background-color: #d4ebff;}#sk-container-id-1 input.sk-hidden--visually {border: 0;clip: rect(1px 1px 1px 1px);clip: rect(1px, 1px, 1px, 1px);height: 1px;margin: -1px;overflow: hidden;padding: 0;position: absolute;width: 1px;}#sk-container-id-1 div.sk-estimator {font-family: monospace;background-color: #f0f8ff;border: 1px dotted black;border-radius: 0.25em;box-sizing: border-box;margin-bottom: 0.5em;}#sk-container-id-1 div.sk-estimator:hover {background-color: #d4ebff;}#sk-container-id-1 div.sk-parallel-item::after {content: \"\";width: 100%;border-bottom: 1px solid gray;flex-grow: 1;}#sk-container-id-1 div.sk-label:hover label.sk-toggleable__label {background-color: #d4ebff;}#sk-container-id-1 div.sk-serial::before {content: \"\";position: absolute;border-left: 1px solid gray;box-sizing: border-box;top: 0;bottom: 0;left: 50%;z-index: 0;}#sk-container-id-1 div.sk-serial {display: flex;flex-direction: column;align-items: center;background-color: white;padding-right: 0.2em;padding-left: 0.2em;position: relative;}#sk-container-id-1 div.sk-item {position: relative;z-index: 1;}#sk-container-id-1 div.sk-parallel {display: flex;align-items: stretch;justify-content: center;background-color: white;position: relative;}#sk-container-id-1 div.sk-item::before, #sk-container-id-1 div.sk-parallel-item::before {content: \"\";position: absolute;border-left: 1px solid gray;box-sizing: border-box;top: 0;bottom: 0;left: 50%;z-index: -1;}#sk-container-id-1 div.sk-parallel-item {display: flex;flex-direction: column;z-index: 1;position: relative;background-color: white;}#sk-container-id-1 div.sk-parallel-item:first-child::after {align-self: flex-end;width: 50%;}#sk-container-id-1 div.sk-parallel-item:last-child::after {align-self: flex-start;width: 50%;}#sk-container-id-1 div.sk-parallel-item:only-child::after {width: 0;}#sk-container-id-1 div.sk-dashed-wrapped {border: 1px dashed gray;margin: 0 0.4em 0.5em 0.4em;box-sizing: border-box;padding-bottom: 0.4em;background-color: white;}#sk-container-id-1 div.sk-label label {font-family: monospace;font-weight: bold;display: inline-block;line-height: 1.2em;}#sk-container-id-1 div.sk-label-container {text-align: center;}#sk-container-id-1 div.sk-container {/* jupyter's `normalize.less` sets `[hidden] { display: none; }` but bootstrap.min.css set `[hidden] { display: none !important; }` so we also need the `!important` here to be able to override the default hidden behavior on the sphinx rendered scikit-learn.org. See: https://github.com/scikit-learn/scikit-learn/issues/21755 */display: inline-block !important;position: relative;}#sk-container-id-1 div.sk-text-repr-fallback {display: none;}</style><div id=\"sk-container-id-1\" class=\"sk-top-container\"><div class=\"sk-text-repr-fallback\"><pre>MultinomialNB()</pre><b>In a Jupyter environment, please rerun this cell to show the HTML representation or trust the notebook. <br />On GitHub, the HTML representation is unable to render, please try loading this page with nbviewer.org.</b></div><div class=\"sk-container\" hidden><div class=\"sk-item\"><div class=\"sk-estimator sk-toggleable\"><input class=\"sk-toggleable__control sk-hidden--visually\" id=\"sk-estimator-id-1\" type=\"checkbox\" checked><label for=\"sk-estimator-id-1\" class=\"sk-toggleable__label sk-toggleable__label-arrow\">MultinomialNB</label><div class=\"sk-toggleable__content\"><pre>MultinomialNB()</pre></div></div></div></div></div>"
      ],
      "text/plain": [
       "MultinomialNB()"
      ]
     },
     "execution_count": 111,
     "metadata": {},
     "output_type": "execute_result"
    }
   ],
   "source": [
    "model"
   ]
  },
  {
   "cell_type": "code",
   "execution_count": 112,
   "metadata": {
    "id": "G6CiQB4qGfqH"
   },
   "outputs": [],
   "source": [
    "#Perform testing on the train dataset\n",
    "\n",
    "pred = model.predict(tf_idf_df)"
   ]
  },
  {
   "cell_type": "code",
   "execution_count": 122,
   "metadata": {
    "id": "yCLagGu6Gh6T"
   },
   "outputs": [
    {
     "name": "stdout",
     "output_type": "stream",
     "text": [
      "F1 Score:  0.7952217972394341\n",
      "Accuracy:  0.8934\n"
     ]
    }
   ],
   "source": [
    "#Calculate the F1 Score and the Accuracy\n",
    "\n",
    "F1_score = f1_score(mydata_train.Product, pred, average='macro')\n",
    "Accuracy = accuracy_score(mydata_train.Product, pred)\n",
    "print(\"F1 Score: \", F1_score)\n",
    "print(\"Accuracy: \", Accuracy)"
   ]
  },
  {
   "cell_type": "markdown",
   "metadata": {
    "id": "bbMRqJv5Gl2F"
   },
   "source": [
    "### Expected Output:\n",
    "F1 Score: 0.8081311697005633\n",
    "\n",
    "Accuracy: 0.826"
   ]
  },
  {
   "cell_type": "markdown",
   "metadata": {
    "id": "AWRDuUqU-taV"
   },
   "source": [
    "Your accuracy does not have to be exactly the same. This is just to give you an estimate of what could you expect your accuracy to be around."
   ]
  },
  {
   "cell_type": "markdown",
   "metadata": {
    "id": "UfMc8cz93Cc0"
   },
   "source": [
    "## Question 2 Vector Visualization"
   ]
  },
  {
   "cell_type": "markdown",
   "metadata": {
    "id": "70iwEeL23F7K"
   },
   "source": [
    "In this unsupervised learning task we are going to cluster wikipedia articles into groups using T-SNE visualization after vectorization."
   ]
  },
  {
   "cell_type": "markdown",
   "metadata": {
    "id": "UHx4YuxW36oM"
   },
   "source": [
    "### Collect articles from Wikipedia (10 points)\n",
    "\n",
    "In this section we will download articles from wikipedia and then vectorize them in the next step. You can select somewhat related topics or fetch the articles randomly. \n",
    "(Use dir() and help() functions or refer wikipedia documentation)\n",
    "You may also pick any other data source of your choice instead of wikipedia."
   ]
  },
  {
   "cell_type": "code",
   "execution_count": 124,
   "metadata": {
    "id": "jA419x6__mjg"
   },
   "outputs": [
    {
     "name": "stdout",
     "output_type": "stream",
     "text": [
      "Collecting wikipedia\n",
      "  Downloading wikipedia-1.4.0.tar.gz (27 kB)\n",
      "Requirement already satisfied: beautifulsoup4 in c:\\users\\shivapriya b\\anaconda3\\lib\\site-packages (from wikipedia) (4.9.3)\n",
      "Requirement already satisfied: requests<3.0.0,>=2.0.0 in c:\\users\\shivapriya b\\anaconda3\\lib\\site-packages (from wikipedia) (2.27.1)\n",
      "Requirement already satisfied: idna<4,>=2.5 in c:\\users\\shivapriya b\\anaconda3\\lib\\site-packages (from requests<3.0.0,>=2.0.0->wikipedia) (3.3)\n",
      "Requirement already satisfied: urllib3<1.27,>=1.21.1 in c:\\users\\shivapriya b\\anaconda3\\lib\\site-packages (from requests<3.0.0,>=2.0.0->wikipedia) (1.26.9)\n",
      "Requirement already satisfied: certifi>=2017.4.17 in c:\\users\\shivapriya b\\anaconda3\\lib\\site-packages (from requests<3.0.0,>=2.0.0->wikipedia) (2021.10.8)\n",
      "Requirement already satisfied: charset-normalizer~=2.0.0 in c:\\users\\shivapriya b\\anaconda3\\lib\\site-packages (from requests<3.0.0,>=2.0.0->wikipedia) (2.0.12)\n",
      "Requirement already satisfied: soupsieve>1.2 in c:\\users\\shivapriya b\\anaconda3\\lib\\site-packages (from beautifulsoup4->wikipedia) (2.2.1)\n",
      "Building wheels for collected packages: wikipedia\n",
      "  Building wheel for wikipedia (setup.py): started\n",
      "  Building wheel for wikipedia (setup.py): finished with status 'done'\n",
      "  Created wheel for wikipedia: filename=wikipedia-1.4.0-py3-none-any.whl size=11695 sha256=0283329570d83c03922fd90a2d9fbc11be0c41b7054871da8b18521f7cb48e52\n",
      "  Stored in directory: c:\\users\\shivapriya b\\appdata\\local\\pip\\cache\\wheels\\07\\93\\05\\72c05349177dca2e0ba31a33ba4f7907606f7ddef303517c6a\n",
      "Successfully built wikipedia\n",
      "Installing collected packages: wikipedia\n",
      "Successfully installed wikipedia-1.4.0\n"
     ]
    }
   ],
   "source": [
    "# install libraries\n",
    "!pip install wikipedia"
   ]
  },
  {
   "cell_type": "code",
   "execution_count": 271,
   "metadata": {
    "id": "vLMLk4K84Zbn"
   },
   "outputs": [
    {
     "name": "stdout",
     "output_type": "stream",
     "text": [
      "Northeastern University\n",
      "Citibank India\n",
      "Swimming (sport)\n"
     ]
    }
   ],
   "source": [
    "import wikipedia\n",
    "from wikipedia.exceptions import WikipediaException\n",
    "\n",
    "'''\n",
    " Generate a list of wikipedia article to cluster \n",
    " You can maintain a static list of titles or generate them randomly using wikipedia library\n",
    " Some topics include:\n",
    " [\"Northeastern Unversity\", \"Natural language processing\", \"Machine learning\", \"Quantum machine learning\", \"Artificial intelligence\", \"Data science\", \"Master in Data Science\", \n",
    " \"Bank of America\", \"Visa Inc.\", \"European Central Bank\", \"Bank\", \"Financial technology\",\"International Monetary Fund\", \n",
    " \"Basketball\", \"Swimming\", \"Tennis\", \"Football\", \"College Football\", \"Association Football\"]\n",
    "\n",
    " You can add more topics from different categories so that we have a diverse dataset to work with. \n",
    " Ex- About 3+ categories(groups), 3+ topics in each category, 3+ articles in each topic\n",
    "'''\n",
    "\n",
    "# selected topics\n",
    "topics =  [\"Northeastern Unversity\", \"Natural language processing\", \"Quantum machine learning\", \"Artificial intelligence\", \"Data science\", \"Master in Data Science\", \n",
    " \"Citibank\", \"European Central Bank\", \"Bank\", \"Financial technology\",\"International Monetary Fund\", \n",
    " \"Basketball\", \"Swimming\", \"Cricket\", \"Football\", \"College Football\", \"Association Football\"]\n",
    "\n",
    "# list of articles to be downloaded\n",
    "articles = list(itertools.chain.from_iterable([wikipedia.search(topic, 2) for topic in topics]));\n",
    "articles_num = [2,2,2,2,2,2,2,2,2,2,3,3,3,3,3,3,3,3,3,4,4,4,4,4,4,4,4,4,4,4]\n",
    "\n",
    "# download and store articles (summaries) in this variable\n",
    "data = []\n",
    "article = 'Data Science'\n",
    "for article in articles:\n",
    "    try:\n",
    "        data.append(wikipedia.page(article).content)      \n",
    "    except WikipediaException:\n",
    "        print (article)\n",
    "        pass\n",
    "    except:\n",
    "        pass"
   ]
  },
  {
   "cell_type": "markdown",
   "metadata": {
    "id": "IgpRv7wQ4Dpm"
   },
   "source": [
    "### Cleaning the Data (5 points)\n",
    "In this step you will decide whether to clean the data or not. If you choose to clean, you may utilize the clean function from assignment 1.\n",
    "\n",
    "**Question:** Why are you (not) choosing to clean the data? Think in terms of whether cleaning data will help in the clustering or not."
   ]
  },
  {
   "cell_type": "markdown",
   "metadata": {
    "id": "PnZpDKcaHTGq"
   },
   "source": [
    "**Answer(1-3 sentences):** \n",
    "\n",
    "I am choosing to clean the data to ensure the following - \n",
    "1. Stop words which are not useful for our clustering is removed so that we do not get unnecessary clusters in the process\n",
    "2. Hyperlinks will not help with the clustering process overall\n",
    "3. Words with the same root should not be considered different during the clustering process"
   ]
  },
  {
   "cell_type": "code",
   "execution_count": 272,
   "metadata": {
    "id": "lNj53Pxr963N"
   },
   "outputs": [],
   "source": [
    "# You can use Assignment 1's clean message function\n",
    "import re\n",
    "import nltk\n",
    "import string\n",
    "#nltk.download('punkt')\n",
    "#nltk.download('stopwords')\n",
    "\n",
    "def clean_message(message):\n",
    "    tmp_msg = message;\n",
    "    #     Convert to lowercase\n",
    "    tmp_msg = ''.join([word.lower() for word in tmp_msg])\n",
    "    # Replace all stop words with space\n",
    "    stop_words = stopwords.words('english');\n",
    "    tmp_msg = ' '.join([word for word in tmp_msg.split() if word not in stop_words])\n",
    "    #  Remove hyper links in text\n",
    "    tmp_msg = re.sub('http\\S+', '', tmp_msg)\n",
    "    # Replace all punctuations with space\n",
    "    tmp_msg = ''.join([word for word in tmp_msg if word not in set(string.punctuation)])\n",
    "#     Stem each word in the review and append it to final review\n",
    "    lem = WordNetLemmatizer();\n",
    "    tmp_msg = ' '.join([lem.lemmatize(word) for word in tmp_msg.split()]);\n",
    "    message = tmp_msg;\n",
    "    \n",
    "    return message"
   ]
  },
  {
   "cell_type": "markdown",
   "metadata": {
    "id": "bvRZUpmq-DmT"
   },
   "source": [
    "### Vectorize the articles (5 points)\n",
    "\n",
    "In this step, we will vectorize the text data. You can use TfidfVectorizer() or countVectorizer() from sklearn library."
   ]
  },
  {
   "cell_type": "code",
   "execution_count": 275,
   "metadata": {
    "id": "gJk8YY89-OU4"
   },
   "outputs": [],
   "source": [
    "from sklearn.feature_extraction.text import CountVectorizer\n",
    " \n",
    "data = [clean_message(message) for message in data];\n",
    "\n",
    "cv = CountVectorizer()\n",
    "X = cv.fit_transform(data)"
   ]
  },
  {
   "cell_type": "code",
   "execution_count": 276,
   "metadata": {
    "id": "DAIGlqEuINWA"
   },
   "outputs": [
    {
     "name": "stdout",
     "output_type": "stream",
     "text": [
      "(30, 13720)\n"
     ]
    }
   ],
   "source": [
    "print(X.shape)"
   ]
  },
  {
   "cell_type": "markdown",
   "metadata": {
    "id": "PKLvrKHRQaQq"
   },
   "source": [
    "### Sample Output:\n",
    "(36, 1552)"
   ]
  },
  {
   "cell_type": "markdown",
   "metadata": {
    "id": "M5ZrGrzD_G8d"
   },
   "source": [
    "### Plot Articles (10 points)\n",
    "Now we will try to verify the groups of articles using T-SNE from sklearn library."
   ]
  },
  {
   "cell_type": "code",
   "execution_count": 277,
   "metadata": {
    "id": "SjcuZBOe-oZq"
   },
   "outputs": [],
   "source": [
    "from sklearn.manifold import TSNE\n",
    "\n",
    "X_vis = TSNE(n_components=2, learning_rate='auto', init='random', perplexity=10).fit_transform(X)"
   ]
  },
  {
   "cell_type": "markdown",
   "metadata": {
    "id": "iCY_blxjO1bs"
   },
   "source": [
    "Plot and annotate the points with different markers for different expected groups."
   ]
  },
  {
   "cell_type": "code",
   "execution_count": 278,
   "metadata": {
    "colab": {
     "base_uri": "https://localhost:8080/",
     "height": 483
    },
    "id": "3ODUA1Vf-rRd",
    "outputId": "325b5db4-60d1-4907-a487-40893e256ee1"
   },
   "outputs": [
    {
     "data": {
      "text/plain": [
       "<matplotlib.collections.PathCollection at 0x205d0c52ac0>"
      ]
     },
     "execution_count": 278,
     "metadata": {},
     "output_type": "execute_result"
    },
    {
     "data": {
      "image/png": "[encoded data removed]",
      "text/plain": [
       "<Figure size 720x576 with 1 Axes>"
      ]
     },
     "metadata": {
      "needs_background": "light"
     },
     "output_type": "display_data"
    }
   ],
   "source": [
    "import matplotlib.pyplot as plt\n",
    "import seaborn as sns \n",
    "\n",
    "# get a figure handle\n",
    "fig,ax = plt.subplots(figsize=(10,8))\n",
    "plt.scatter(X_vis[:, 0], X_vis[:, 1], c = articles_num)"
   ]
  },
  {
   "cell_type": "markdown",
   "metadata": {
    "id": "dYcEi1EC_UGO"
   },
   "source": [
    "**Question:** Comment about the categorizion done by T-SNE. Do the articles of related topics cluster together? (5 points)"
   ]
  },
  {
   "cell_type": "markdown",
   "metadata": {
    "id": "tde1Wu5HI6AA"
   },
   "source": [
    "**Answer(1-3 sentences):**  \n",
    "  \n",
    "The overall categorization done by T-SNE is not as expected. There are outliers of one category  that is not in its intended cluster. The first cluster is partially defined whereas the second and third clusters have very little distinction between them to individually be identified otherwise."
   ]
  },
  {
   "cell_type": "markdown",
   "metadata": {
    "id": "U2xrJddIpSsd"
   },
   "source": [
    "# Question 3. Building Multinomial Naive Bayes and Neural Networks on Countvectors\n",
    "\n",
    "### We are gonna use Disaster Tweets Datasset for this task. We need to Predict which Tweets are about real disasters and which ones are not.\n",
    "\n",
    "### We are providing data.csv file along with this notebook. "
   ]
  },
  {
   "cell_type": "markdown",
   "metadata": {
    "id": "NJYmVbkvphgX"
   },
   "source": [
    "### Library Imports and Utility functions"
   ]
  },
  {
   "cell_type": "code",
   "execution_count": 2,
   "metadata": {
    "id": "BO-HU-7uorVX"
   },
   "outputs": [
    {
     "name": "stderr",
     "output_type": "stream",
     "text": [
      "[nltk_data] Downloading package stopwords to C:\\Users\\Shivapriya\n",
      "[nltk_data]     B\\AppData\\Roaming\\nltk_data...\n",
      "[nltk_data]   Package stopwords is already up-to-date!\n",
      "[nltk_data] Downloading package wordnet to C:\\Users\\Shivapriya\n",
      "[nltk_data]     B\\AppData\\Roaming\\nltk_data...\n",
      "[nltk_data]   Package wordnet is already up-to-date!\n",
      "[nltk_data] Downloading package words to C:\\Users\\Shivapriya\n",
      "[nltk_data]     B\\AppData\\Roaming\\nltk_data...\n",
      "[nltk_data]   Package words is already up-to-date!\n"
     ]
    }
   ],
   "source": [
    "from sklearn.feature_extraction.text import CountVectorizer\n",
    "from sklearn.feature_extraction.text import TfidfVectorizer\n",
    "import nltk\n",
    "from nltk.corpus import stopwords\n",
    "from nltk.stem import PorterStemmer\n",
    "from nltk.tokenize import word_tokenize\n",
    "import string\n",
    "import pandas as pd\n",
    "import re\n",
    "#string.punctuation\n",
    "import nltk\n",
    "nltk.download('stopwords')\n",
    "nltk.download('wordnet')\n",
    "nltk.download('words')\n",
    "\n",
    "stopword = nltk.corpus.stopwords.words('english')\n",
    "wn = nltk.WordNetLemmatizer()\n",
    "ps = nltk.PorterStemmer()\n",
    "words = set(nltk.corpus.words.words())\n",
    "\n",
    "\n",
    "def clean_text(text):\n",
    "    tmp_msg = text;\n",
    "    #     Convert to lowercase\n",
    "    tmp_msg = ''.join([word.lower() for word in tmp_msg])\n",
    "    # Replace all stop words with space\n",
    "    stop_words = stopwords.words('english');\n",
    "    tmp_msg = ' '.join([word for word in tmp_msg.split() if word not in stop_words])\n",
    "    #  Remove hyper links in text\n",
    "    tmp_msg = re.sub('http\\S+', '', tmp_msg)\n",
    "    # Replace all punctuations with space\n",
    "    tmp_msg = ''.join([word for word in tmp_msg if word not in set(string.punctuation)])\n",
    "#     Stem each word in the review and append it to final review\n",
    "    lem = WordNetLemmatizer();\n",
    "    tmp_msg = ' '.join([lem.lemmatize(word) for word in tmp_msg.split()]);\n",
    "    text = tmp_msg;\n",
    "    \n",
    "    return text"
   ]
  },
  {
   "cell_type": "markdown",
   "metadata": {
    "id": "B0D5wVjZw7s0"
   },
   "source": [
    "### Q) Importing the datasets and do the necessary cleaning and convert the text into the vectors which are mentioned in the below code blocks. (10 points)"
   ]
  },
  {
   "cell_type": "code",
   "execution_count": 3,
   "metadata": {
    "id": "MOMhmIlGprK9"
   },
   "outputs": [
    {
     "data": {
      "text/plain": [
       "(7613, 2)"
      ]
     },
     "execution_count": 3,
     "metadata": {},
     "output_type": "execute_result"
    }
   ],
   "source": [
    "# Import the data.csv only use 'text' and 'target' columns\n",
    "\n",
    "data = pd.read_csv(r\"C:/Users/Shivapriya B/Desktop/NEU Work/Classwork/Semester 4/Natural Language Processing/Week 5/data.csv\", sep = ',', encoding = 'latin-1', usecols = lambda col: col in [\"text\", \"target\"])\n",
    "\n",
    "# expected shape of dataset is (7613, 2)\n",
    "data.shape"
   ]
  },
  {
   "cell_type": "code",
   "execution_count": 4,
   "metadata": {},
   "outputs": [],
   "source": [
    "# clean the text in the dataframe using the clean_text function provided above\n",
    "data.text = [clean_text(text) for text in data.text]"
   ]
  },
  {
   "cell_type": "code",
   "execution_count": 5,
   "metadata": {},
   "outputs": [
    {
     "name": "stdout",
     "output_type": "stream",
     "text": [
      "Training Data Shape \n",
      "4872\n",
      "4872\n",
      "Validation Data Shape \n",
      "1218\n",
      "1218\n"
     ]
    }
   ],
   "source": [
    "# printout the train.shape and validation.shape \n",
    "\n",
    "x_train_tmp, x_test, y_train_tmp, y_test = train_test_split(data.text, data.target, test_size=0.2);\n",
    "x_train, x_val, y_train, y_val = train_test_split(x_train_tmp, y_train_tmp, test_size=0.2);\n",
    "print (\"Training Data Shape \")\n",
    "print(len(x_train))\n",
    "print(len(y_train))\n",
    "print (\"Validation Data Shape \")\n",
    "print(len(x_val))\n",
    "print(len(y_val))"
   ]
  },
  {
   "cell_type": "code",
   "execution_count": 36,
   "metadata": {
    "id": "GxZC6RIjq3bu"
   },
   "outputs": [],
   "source": [
    "# initialise count vectorizer from sklearn module with default parameter\n",
    "cv = CountVectorizer()\n",
    "\n",
    "# fit and transform on dataset\n",
    "X = cv.fit_transform(data.text).toarray()"
   ]
  },
  {
   "cell_type": "code",
   "execution_count": 37,
   "metadata": {
    "id": "OPLJgROsP0Mj"
   },
   "outputs": [],
   "source": [
    "# get the values of target column\n",
    "\n",
    "y = data.target"
   ]
  },
  {
   "cell_type": "code",
   "execution_count": 38,
   "metadata": {},
   "outputs": [],
   "source": [
    "from tensorflow.keras import layers\n",
    "from tensorflow.keras import activations\n",
    "from tensorflow.keras.models import Sequential\n",
    "from tensorflow.keras.layers import InputLayer\n",
    "from tensorflow.keras.layers import Dense\n",
    "\n",
    "model = Sequential()\n",
    "    \n",
    "  # layer 1 : input layer\n",
    "inp = tf.keras.Input((X.shape[1],))\n",
    "model.add(inp)\n",
    "model.add(layers.Dense(64, activation=activations.relu))"
   ]
  },
  {
   "cell_type": "markdown",
   "metadata": {
    "id": "xjsiH8YOw-Da"
   },
   "source": [
    "### Q) Build the neural networks using tensorflow keras by following the below instructions. Evaluate the model on different metrics and comment your observations. (15 points)"
   ]
  },
  {
   "cell_type": "code",
   "execution_count": 44,
   "metadata": {
    "id": "AQg14bkTq3KB"
   },
   "outputs": [],
   "source": [
    "import tensorflow as tf\n",
    "from tensorflow.keras import layers\n",
    "from tensorflow.keras import activations\n",
    "from tensorflow.keras.models import Sequential\n",
    "from tensorflow.keras.layers import InputLayer\n",
    "from tensorflow.keras.layers import Dense\n",
    "from tensorflow.keras.layers import Dropout\n",
    "from tensorflow.keras.regularizers import l2\n",
    "tf.random.set_seed(42)\n",
    "\n",
    "\n",
    "# complete this linear model in tensorflow\n",
    "def build_model(X):\n",
    "    \n",
    "    model = Sequential()\n",
    "    \n",
    "  # layer 1 : input layer\n",
    "    inp = tf.keras.Input((X.shape[1],))\n",
    "    model.add(inp)\n",
    "\n",
    "  # layer 2 : add the dense layer with 64 units and relu activation\n",
    "    model.add(layers.Dense(64, activation=activations.relu))\n",
    "    \n",
    "  # layer 3 : add the dropout layer with dropout rate of 0.5\n",
    "    model.add(Dropout(0.5))\n",
    "    \n",
    "  # layer 4 : add the dense layer with 32 units with tanh activation and with l2 regularization\n",
    "    model.add(layers.Dense(32, activation=activations.tanh, kernel_regularizer=l2()))\n",
    "    \n",
    "  # layer 5 : add the dropout layer with dropout rate of 0.5\n",
    "    model.add(Dropout(0.5))\n",
    "\n",
    "  # layer 6 : add the dense layer with 16 units with tanh activation and with l2 regularization\n",
    "    model.add(layers.Dense(16, activation=activations.tanh, kernel_regularizer=l2()))\n",
    "\n",
    "  # layer 7 : add the dropout layer with dropout rate of 0.5\n",
    "    model.add(Dropout(0.5))\n",
    "    \n",
    "  # layer 8 : output layer with units equal to 1 and activation as sigmoid\n",
    "    model.add(layers.Dense(units=1, activation='sigmoid'))\n",
    "\n",
    "  # use loss as binary crossentropy, optimizer as rmsprop and evaluate model on auc \n",
    "    model.compile(loss= tf.keras.losses.BinaryCrossentropy(), optimizer='rmsprop', metrics=[tf.keras.metrics.AUC()])\n",
    "\n",
    "    return model"
   ]
  },
  {
   "cell_type": "code",
   "execution_count": 58,
   "metadata": {
    "id": "Q71CC1pIsx0O"
   },
   "outputs": [
    {
     "name": "stdout",
     "output_type": "stream",
     "text": [
      "Epoch 1/10\n",
      "381/381 [==============================] - 15s 29ms/step - loss: 0.7818 - auc_17: 0.7529 - val_loss: 0.6448 - val_auc_17: 0.7385\n",
      "Epoch 2/10\n",
      "381/381 [==============================] - 12s 33ms/step - loss: 0.4850 - auc_17: 0.8791 - val_loss: 0.6347 - val_auc_17: 0.7350\n",
      "Epoch 3/10\n",
      "381/381 [==============================] - 8s 22ms/step - loss: 0.4257 - auc_17: 0.9003 - val_loss: 0.6334 - val_auc_17: 0.7379\n",
      "Epoch 4/10\n",
      "381/381 [==============================] - 8s 21ms/step - loss: 0.3957 - auc_17: 0.9124 - val_loss: 0.6373 - val_auc_17: 0.7355\n",
      "Epoch 5/10\n",
      "381/381 [==============================] - 8s 21ms/step - loss: 0.3792 - auc_17: 0.9173 - val_loss: 0.6295 - val_auc_17: 0.7345\n",
      "Epoch 6/10\n",
      "381/381 [==============================] - 8s 22ms/step - loss: 0.3681 - auc_17: 0.9215 - val_loss: 0.6379 - val_auc_17: 0.7361\n",
      "Epoch 7/10\n",
      "381/381 [==============================] - 8s 21ms/step - loss: 0.3499 - auc_17: 0.9282 - val_loss: 0.6404 - val_auc_17: 0.7378\n",
      "Epoch 8/10\n",
      "381/381 [==============================] - 10s 27ms/step - loss: 0.3444 - auc_17: 0.9304 - val_loss: 0.6903 - val_auc_17: 0.7303\n",
      "Epoch 9/10\n",
      "381/381 [==============================] - 10s 26ms/step - loss: 0.3388 - auc_17: 0.9330 - val_loss: 0.6137 - val_auc_17: 0.7419\n",
      "Epoch 10/10\n",
      "381/381 [==============================] - 8s 22ms/step - loss: 0.3321 - auc_17: 0.9340 - val_loss: 0.6538 - val_auc_17: 0.7413\n"
     ]
    },
    {
     "data": {
      "image/png": "[encoded data removed]",
      "text/plain": [
       "<Figure size 432x288 with 1 Axes>"
      ]
     },
     "metadata": {
      "needs_background": "light"
     },
     "output_type": "display_data"
    },
    {
     "data": {
      "image/png": "[encoded data removed]",
      "text/plain": [
       "<Figure size 432x288 with 1 Axes>"
      ]
     },
     "metadata": {
      "needs_background": "light"
     },
     "output_type": "display_data"
    },
    {
     "name": "stdout",
     "output_type": "stream",
     "text": [
      "Epoch 1/10\n",
      "381/381 [==============================] - 15s 33ms/step - loss: 0.7803 - auc_18: 0.7544 - val_loss: 0.6776 - val_auc_18: 0.6993\n",
      "Epoch 2/10\n",
      "381/381 [==============================] - 8s 22ms/step - loss: 0.4735 - auc_18: 0.8865 - val_loss: 0.6954 - val_auc_18: 0.7057\n",
      "Epoch 3/10\n",
      "381/381 [==============================] - 10s 26ms/step - loss: 0.4116 - auc_18: 0.9076 - val_loss: 0.7031 - val_auc_18: 0.7082\n",
      "Epoch 4/10\n",
      "381/381 [==============================] - 14s 38ms/step - loss: 0.3741 - auc_18: 0.9220 - val_loss: 0.7418 - val_auc_18: 0.7032 los\n",
      "Epoch 5/10\n",
      "381/381 [==============================] - 12s 32ms/step - loss: 0.3548 - auc_18: 0.9286 - val_loss: 0.7360 - val_auc_18: 0.7018\n",
      "Epoch 6/10\n",
      "381/381 [==============================] - 11s 29ms/step - loss: 0.3443 - auc_18: 0.9318 - val_loss: 0.7296 - val_auc_18: 0.7023\n",
      "Epoch 7/10\n",
      "381/381 [==============================] - 9s 23ms/step - loss: 0.3330 - auc_18: 0.9351 - val_loss: 0.7982 - val_auc_18: 0.6994\n",
      "Epoch 8/10\n",
      "381/381 [==============================] - 8s 22ms/step - loss: 0.3301 - auc_18: 0.9362 - val_loss: 0.7768 - val_auc_18: 0.6960\n",
      "Epoch 9/10\n",
      "381/381 [==============================] - 10s 26ms/step - loss: 0.3207 - auc_18: 0.9393 - val_loss: 0.7260 - val_auc_18: 0.6969: 2s\n",
      "Epoch 10/10\n",
      "381/381 [==============================] - 9s 23ms/step - loss: 0.3156 - auc_18: 0.9413 - val_loss: 0.8365 - val_auc_18: 0.6958\n"
     ]
    },
    {
     "data": {
      "image/png": "[encoded data removed]",
      "text/plain": [
       "<Figure size 432x288 with 1 Axes>"
      ]
     },
     "metadata": {
      "needs_background": "light"
     },
     "output_type": "display_data"
    },
    {
     "data": {
      "image/png": "[encoded data removed]",
      "text/plain": [
       "<Figure size 432x288 with 1 Axes>"
      ]
     },
     "metadata": {
      "needs_background": "light"
     },
     "output_type": "display_data"
    },
    {
     "name": "stdout",
     "output_type": "stream",
     "text": [
      "Epoch 1/10\n",
      "381/381 [==============================] - 11s 22ms/step - loss: 0.7807 - auc_19: 0.7377 - val_loss: 0.6500 - val_auc_19: 0.7533\n",
      "Epoch 2/10\n",
      "381/381 [==============================] - 9s 24ms/step - loss: 0.4715 - auc_19: 0.8838 - val_loss: 0.6413 - val_auc_19: 0.7574\n",
      "Epoch 3/10\n",
      "381/381 [==============================] - 8s 22ms/step - loss: 0.4123 - auc_19: 0.9058 - val_loss: 0.6697 - val_auc_19: 0.7578\n",
      "Epoch 4/10\n",
      "381/381 [==============================] - 8s 21ms/step - loss: 0.3811 - auc_19: 0.9172 - val_loss: 0.6764 - val_auc_19: 0.7591\n",
      "Epoch 5/10\n",
      "381/381 [==============================] - 8s 21ms/step - loss: 0.3604 - auc_19: 0.9245 - val_loss: 0.6606 - val_auc_19: 0.7594\n",
      "Epoch 6/10\n",
      "381/381 [==============================] - 8s 22ms/step - loss: 0.3464 - auc_19: 0.9293 - val_loss: 0.6684 - val_auc_19: 0.7592\n",
      "Epoch 7/10\n",
      "381/381 [==============================] - 9s 24ms/step - loss: 0.3430 - auc_19: 0.9298 - val_loss: 0.6846 - val_auc_19: 0.7597\n",
      "Epoch 8/10\n",
      "381/381 [==============================] - 9s 23ms/step - loss: 0.3343 - auc_19: 0.9321 - val_loss: 0.6760 - val_auc_19: 0.7607\n",
      "Epoch 9/10\n",
      "381/381 [==============================] - 8s 22ms/step - loss: 0.3258 - auc_19: 0.9366 - val_loss: 0.6772 - val_auc_19: 0.7607\n",
      "Epoch 10/10\n",
      "381/381 [==============================] - 8s 21ms/step - loss: 0.3189 - auc_19: 0.9375 - val_loss: 0.7559 - val_auc_19: 0.7601\n"
     ]
    },
    {
     "data": {
      "image/png": "[encoded data removed]",
      "text/plain": [
       "<Figure size 432x288 with 1 Axes>"
      ]
     },
     "metadata": {
      "needs_background": "light"
     },
     "output_type": "display_data"
    },
    {
     "data": {
      "image/png": "[encoded data removed]",
      "text/plain": [
       "<Figure size 432x288 with 1 Axes>"
      ]
     },
     "metadata": {
      "needs_background": "light"
     },
     "output_type": "display_data"
    },
    {
     "name": "stdout",
     "output_type": "stream",
     "text": [
      "Epoch 1/10\n",
      "381/381 [==============================] - 10s 22ms/step - loss: 0.7795 - auc_20: 0.7381 - val_loss: 0.6750 - val_auc_20: 0.7176\n",
      "Epoch 2/10\n",
      "381/381 [==============================] - 8s 21ms/step - loss: 0.4788 - auc_20: 0.8826 - val_loss: 0.6667 - val_auc_20: 0.7270\n",
      "Epoch 3/10\n",
      "381/381 [==============================] - 8s 22ms/step - loss: 0.4152 - auc_20: 0.9073 - val_loss: 0.6627 - val_auc_20: 0.7285\n",
      "Epoch 4/10\n",
      "381/381 [==============================] - 8s 21ms/step - loss: 0.3826 - auc_20: 0.9191 - val_loss: 0.6667 - val_auc_20: 0.7298\n",
      "Epoch 5/10\n",
      "381/381 [==============================] - 8s 20ms/step - loss: 0.3650 - auc_20: 0.9248 - val_loss: 0.6892 - val_auc_20: 0.7288\n",
      "Epoch 6/10\n",
      "381/381 [==============================] - 8s 22ms/step - loss: 0.3520 - auc_20: 0.9288 - val_loss: 0.6766 - val_auc_20: 0.7291\n",
      "Epoch 7/10\n",
      "381/381 [==============================] - 8s 21ms/step - loss: 0.3408 - auc_20: 0.9333 - val_loss: 0.6844 - val_auc_20: 0.7290\n",
      "Epoch 8/10\n",
      "381/381 [==============================] - 8s 21ms/step - loss: 0.3306 - auc_20: 0.9360 - val_loss: 0.7460 - val_auc_20: 0.7310\n",
      "Epoch 9/10\n",
      "381/381 [==============================] - 8s 21ms/step - loss: 0.3168 - auc_20: 0.9417 - val_loss: 0.7269 - val_auc_20: 0.7307\n",
      "Epoch 10/10\n",
      "381/381 [==============================] - 8s 21ms/step - loss: 0.3146 - auc_20: 0.9417 - val_loss: 0.7077 - val_auc_20: 0.7315\n"
     ]
    },
    {
     "data": {
      "image/png": "[encoded data removed]",
      "text/plain": [
       "<Figure size 432x288 with 1 Axes>"
      ]
     },
     "metadata": {
      "needs_background": "light"
     },
     "output_type": "display_data"
    },
    {
     "data": {
      "image/png": "[encoded data removed]",
      "text/plain": [
       "<Figure size 432x288 with 1 Axes>"
      ]
     },
     "metadata": {
      "needs_background": "light"
     },
     "output_type": "display_data"
    },
    {
     "name": "stdout",
     "output_type": "stream",
     "text": [
      "Epoch 1/10\n",
      "381/381 [==============================] - 10s 21ms/step - loss: 0.8020 - auc_21: 0.7022 - val_loss: 0.5719 - val_auc_21: 0.8416\n",
      "Epoch 2/10\n",
      "381/381 [==============================] - 8s 21ms/step - loss: 0.5011 - auc_21: 0.8672 - val_loss: 0.5073 - val_auc_21: 0.8512\n",
      "Epoch 3/10\n",
      "381/381 [==============================] - 8s 21ms/step - loss: 0.4389 - auc_21: 0.8943 - val_loss: 0.5126 - val_auc_21: 0.8536\n",
      "Epoch 4/10\n",
      "381/381 [==============================] - 8s 20ms/step - loss: 0.4141 - auc_21: 0.9049 - val_loss: 0.4992 - val_auc_21: 0.8549\n",
      "Epoch 5/10\n",
      "381/381 [==============================] - 11s 28ms/step - loss: 0.3909 - auc_21: 0.9139 - val_loss: 0.5062 - val_auc_21: 0.8534\n",
      "Epoch 6/10\n",
      "381/381 [==============================] - 14s 38ms/step - loss: 0.3749 - auc_21: 0.9201 - val_loss: 0.5034 - val_auc_21: 0.8529\n",
      "Epoch 7/10\n",
      "381/381 [==============================] - 9s 24ms/step - loss: 0.3645 - auc_21: 0.9236 - val_loss: 0.4949 - val_auc_21: 0.8536\n",
      "Epoch 8/10\n",
      "381/381 [==============================] - 9s 22ms/step - loss: 0.3537 - auc_21: 0.9269 - val_loss: 0.5429 - val_auc_21: 0.8554\n",
      "Epoch 9/10\n",
      "381/381 [==============================] - 9s 23ms/step - loss: 0.3438 - auc_21: 0.9319 - val_loss: 0.5097 - val_auc_21: 0.8533\n",
      "Epoch 10/10\n",
      "381/381 [==============================] - 9s 24ms/step - loss: 0.3430 - auc_21: 0.9308 - val_loss: 0.5206 - val_auc_21: 0.8546\n"
     ]
    },
    {
     "data": {
      "image/png": "[encoded data removed]",
      "text/plain": [
       "<Figure size 432x288 with 1 Axes>"
      ]
     },
     "metadata": {
      "needs_background": "light"
     },
     "output_type": "display_data"
    },
    {
     "data": {
      "image/png": "[encoded data removed]",
      "text/plain": [
       "<Figure size 432x288 with 1 Axes>"
      ]
     },
     "metadata": {
      "needs_background": "light"
     },
     "output_type": "display_data"
    }
   ],
   "source": [
    "# Now we will initialise the stratified K-Fold from sklearn with nsplits as 5\n",
    "from sklearn.model_selection import StratifiedKFold\n",
    "from sklearn.metrics import roc_curve\n",
    "from sklearn.metrics import auc\n",
    "\n",
    "skf = StratifiedKFold(n_splits=5)\n",
    "\n",
    "# Now Split the countvectors and target (y)\n",
    "splits = skf.get_n_splits(X, y);\n",
    "\n",
    "# iterate through the train and valid index in splits for 5 folds\n",
    "for train_i, val_i in skf.split(X, y):\n",
    "\n",
    "  # Get X_train, X_valid, y_train, y_valid using indexes\n",
    "    X_train, X_valid = X[train_i], X[val_i];\n",
    "    y_train, y_valid = y[train_i], y[val_i];\n",
    "\n",
    "  #call the build_model function and initialize the model\n",
    "    model = build_model(X_train)\n",
    "\n",
    "  # train and validate the model on the count vectors of text which we have created initially for 5 epochs, \n",
    "#   adjust batch size according to your computation power (suggestion use : 16)\n",
    "    history = model.fit(X_train, y_train, batch_size = 16, epochs = 10, validation_data =(X_valid, y_valid));\n",
    "\n",
    "  # plot the graph between training auc and validation auc\n",
    "    y_pred_train = model.predict(X_train).ravel();\n",
    "    fpr_train, tpr_train, thresholds_train = roc_curve(y_train, y_pred_train);\n",
    "    y_pred_val = model.predict(X_valid).ravel();\n",
    "    fpr_val, tpr_val, thresholds_val = roc_curve(y_valid, y_pred_val);\n",
    "\n",
    "    plt.figure(0).clf()\n",
    "\n",
    "#     Plotting Training \n",
    "    plt.plot(fpr_train, tpr_train, label='Train AUC Iteration')\n",
    "    plt.xlabel('False positive rate')\n",
    "    plt.ylabel('True positive rate')\n",
    "    plt.title('ROC curve')\n",
    "    plt.legend(loc='best')\n",
    "    plt.show()\n",
    "    \n",
    "#     Plotting Validation \n",
    "    plt.plot(fpr_val, tpr_val, label='Validation AUC Iteration')\n",
    "    plt.xlabel('False positive rate')\n",
    "    plt.ylabel('True positive rate')\n",
    "    plt.title('ROC curve')\n",
    "    plt.legend(loc='best')\n",
    "    plt.show()"
   ]
  },
  {
   "cell_type": "markdown",
   "metadata": {
    "id": "7ZZKV7OTVKNG"
   },
   "source": [
    "### Q) Comment on the plots. How did it varied across different folds for neural networks?"
   ]
  },
  {
   "cell_type": "markdown",
   "metadata": {},
   "source": [
    "**Answer:** \n",
    "\n",
    "We see that the plots in this case are curved in nature. We observe the following for the training and validation plots - \n",
    "\n",
    "1. Over the iterations, the training AUC has a much more clearly defined knee shape which does not change over the various folds interpretable as high separability between classes\n",
    "1. Over the iterations, the validation AUC has a much less defined shape which although is over 0.5 indicating separability - the curve fluctuates over the iterations in the comparison between TPR and FPR and ends the last split with the highest AUC"
   ]
  },
  {
   "cell_type": "markdown",
   "metadata": {
    "id": "Z9NCC6iWVH3z"
   },
   "source": [
    "# Building Multinomial Navie Bayes on Countvectors"
   ]
  },
  {
   "cell_type": "code",
   "execution_count": 59,
   "metadata": {
    "id": "KyAZNgsBsxwo"
   },
   "outputs": [
    {
     "data": {
      "image/png": "[encoded data removed]",
      "text/plain": [
       "<Figure size 432x288 with 1 Axes>"
      ]
     },
     "metadata": {
      "needs_background": "light"
     },
     "output_type": "display_data"
    },
    {
     "data": {
      "image/png": "[encoded data removed]",
      "text/plain": [
       "<Figure size 432x288 with 1 Axes>"
      ]
     },
     "metadata": {
      "needs_background": "light"
     },
     "output_type": "display_data"
    },
    {
     "data": {
      "image/png": "[encoded data removed]",
      "text/plain": [
       "<Figure size 432x288 with 1 Axes>"
      ]
     },
     "metadata": {
      "needs_background": "light"
     },
     "output_type": "display_data"
    },
    {
     "data": {
      "image/png": "[encoded data removed]",
      "text/plain": [
       "<Figure size 432x288 with 1 Axes>"
      ]
     },
     "metadata": {
      "needs_background": "light"
     },
     "output_type": "display_data"
    },
    {
     "data": {
      "image/png": "[encoded data removed]",
      "text/plain": [
       "<Figure size 432x288 with 1 Axes>"
      ]
     },
     "metadata": {
      "needs_background": "light"
     },
     "output_type": "display_data"
    }
   ],
   "source": [
    "for train_i, val_i in skf.split(X, y):\n",
    "\n",
    "  # Get X_train, X_valid, y_train, y_valid using indexes\n",
    "    X_train, X_valid = X[train_i], X[val_i];\n",
    "    y_train, y_valid = y[train_i], y[val_i];\n",
    "\n",
    "# iterate through the train and valid index in splits for 5 folds. Use the splits created above.\n",
    "for train_i, val_i in skf.split(X, y):\n",
    "    \n",
    "  # Get X_train, X_valid, y_train, y_valid using indexes\n",
    "    X_train, X_valid = X[train_i], X[val_i];\n",
    "    y_train, y_valid = y[train_i], y[val_i];\n",
    "\n",
    "  # intialise multinomial navie bayes with default parameters\n",
    "  #Fit a Multinomial Naive Bayes Model on our dataset\n",
    "\n",
    "    model = MultinomialNB()\n",
    "    \n",
    "  # fit the data\n",
    "    model_fit = model.fit(X_train, y_train)\n",
    "  \n",
    "  # plot AUC-ROC curve for validation data\n",
    "    y_pred_val = model.predict(X_valid).ravel();\n",
    "    fpr_val, tpr_val, thresholds_val = roc_curve(y_valid, y_pred_val);\n",
    "\n",
    "    plt.figure(0).clf()\n",
    "\n",
    "#     Plotting Validation \n",
    "    plt.plot(fpr_val, tpr_val, label='Validation AUC Iteration')\n",
    "    plt.xlabel('False positive rate')\n",
    "    plt.ylabel('True positive rate')\n",
    "    plt.title('ROC curve')\n",
    "    plt.legend(loc='best')\n",
    "    plt.show()"
   ]
  },
  {
   "cell_type": "markdown",
   "metadata": {
    "id": "2eOdlcXOWRj6"
   },
   "source": [
    "### Q) Comment on the plots. How did it varied across different folds for Multinomial Naive Bayes?"
   ]
  },
  {
   "cell_type": "markdown",
   "metadata": {},
   "source": [
    "**Answer:** \n",
    "\n",
    "We see that the plots in this case are clearly joined at one point instead of having a curved shape as seen in the neural network implementation.Over the iterations, the validation AUC gradually increases towards the higher side except for iteration 4 over the iterations in the comparison between TPR and FPR and ends the last split with the highest AUC"
   ]
  },
  {
   "cell_type": "markdown",
   "metadata": {
    "id": "4adDDQWeQyGb"
   },
   "source": [
    "## Question 4 Theory Question  \n",
    "\n",
    "What is the difference between Count Vectorizer, TFIDF, Word2Vec and Glove? (5 points)"
   ]
  },
  {
   "cell_type": "markdown",
   "metadata": {
    "id": "cXTRkF6KRB_D"
   },
   "source": [
    "**Answer:** \n",
    "\n",
    "*Count Vectorizer* is a method to transform the textual document provided into their counterpart tokens and associated frequency of occurence. This gives higher importance to more frequently occuring words in the document.\n",
    "\n",
    "*TF-IDF* on the other hand is a more advanced form of count vectorizer. This method transforming textual document provided into their counterpart tokens takes into account the importance of words in terms of idf which gives us the total number of documents divided by the number of documents that contain the token. This methodology produces sparse vectors. \n",
    "\n",
    "*Word2Vec* on the other hand is different from the above two wherein word embedding is key - this methodology uses probability distribution of a token's placement before or after another to produce the vectors for training in comparison to the tf-idf weight vectors. \n",
    "\n",
    "*Glove* is an unsupervised methodology that produces dense vectors instead of sparse vectors by calculating the occurences on a word to word basis to understand the importance. "
   ]
  },
  {
   "cell_type": "markdown",
   "metadata": {
    "id": "yQQsqcto79zE"
   },
   "source": [
    "What is the significant difference between the Niave Bayes Implementation using Bag of Words and TF-IDF? (5 points)"
   ]
  },
  {
   "cell_type": "markdown",
   "metadata": {
    "id": "JtiPCTZM8Aua"
   },
   "source": [
    "**Answer:**\n",
    "\n",
    "Naive Bayes Implementation can be done by both BoW which uses Count Vectorization and TF-IDF methdology. Count vectorization or BoW implementation simply takes the occurence of a token in a document and uses it to train the Naive Bayes model. This implementation can sometimes be skewed in results due to commonly occuring words across the corpus. \n",
    "\n",
    "This problem is rectified by the TF-IDF methodology which also produces a sparse matrix by not just taking the count of occurence of a token in a document but also takes into account a second component called 'idf' which basically takes into account inverse document frequency ie. the total number of documents divided by the number of documents that contains the said token. This value is key as it reduces the power of more frequently occuring words in the corpus."
   ]
  }
 ],
 "metadata": {
  "colab": {
   "collapsed_sections": [],
   "provenance": []
  },
  "kernelspec": {
   "display_name": "Python 3 (ipykernel)",
   "language": "python",
   "name": "python3"
  },
  "language_info": {
   "codemirror_mode": {
    "name": "ipython",
    "version": 3
   },
   "file_extension": ".py",
   "mimetype": "text/x-python",
   "name": "python",
   "nbconvert_exporter": "python",
   "pygments_lexer": "ipython3",
   "version": "3.9.12"
  }
 },
 "nbformat": 4,
 "nbformat_minor": 1
}
