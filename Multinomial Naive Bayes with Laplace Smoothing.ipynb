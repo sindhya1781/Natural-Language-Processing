{
 "cells": [
  {
   "cell_type": "markdown",
   "id": "bc97d6da",
   "metadata": {
    "id": "bc97d6da"
   },
   "source": [
    "## CS 6120: Natural Language Processing - Prof. Ahmad Uzair\n",
    "\n",
    "### Assignment 1: Naive Bayes\n",
    "### Total Points: 100 points\n",
    "\n",
    "You will be dealing with movie review data that includes both positive and negative reviews in this assignment. You will use Sentiment Analysis to assess if a given review is positive or negative using the provided dataset.\n",
    "\n",
    "Therefore, we will make use of Naive Bayes algorithm to perform sentiment analysis on the movie review dataset.\n",
    "\n",
    "## Importing the Libraries"
   ]
  },
  {
   "cell_type": "code",
   "execution_count": 1,
   "id": "a03450ac",
   "metadata": {
    "id": "a03450ac"
   },
   "outputs": [
    {
     "ename": "KeyboardInterrupt",
     "evalue": "",
     "output_type": "error",
     "traceback": [
      "\u001b[1;31m---------------------------------------------------------------------------\u001b[0m",
      "\u001b[1;31mFileNotFoundError\u001b[0m                         Traceback (most recent call last)",
      "\u001b[1;32m~\\anaconda3\\lib\\importlib\\_bootstrap_external.py\u001b[0m in \u001b[0;36m_path_is_mode_type\u001b[1;34m(path, mode)\u001b[0m\n",
      "\u001b[1;32m~\\anaconda3\\lib\\importlib\\_bootstrap_external.py\u001b[0m in \u001b[0;36m_path_stat\u001b[1;34m(path)\u001b[0m\n",
      "\u001b[1;31mFileNotFoundError\u001b[0m: [WinError 2] The system cannot find the file specified: 'C:\\\\Users\\\\Shivapriya B\\\\anaconda3\\\\lib\\\\site-packages\\\\nltk\\\\metrics\\\\__init__.cp38-win_amd64.pyd'",
      "\nDuring handling of the above exception, another exception occurred:\n",
      "\u001b[1;31mKeyboardInterrupt\u001b[0m                         Traceback (most recent call last)",
      "\u001b[1;32m<ipython-input-1-14eb92ab5b7d>\u001b[0m in \u001b[0;36m<module>\u001b[1;34m\u001b[0m\n\u001b[0;32m      3\u001b[0m \u001b[1;32mimport\u001b[0m \u001b[0mpandas\u001b[0m \u001b[1;32mas\u001b[0m \u001b[0mpd\u001b[0m\u001b[1;33m\u001b[0m\u001b[1;33m\u001b[0m\u001b[0m\n\u001b[0;32m      4\u001b[0m \u001b[1;32mimport\u001b[0m \u001b[0mre\u001b[0m\u001b[1;33m\u001b[0m\u001b[1;33m\u001b[0m\u001b[0m\n\u001b[1;32m----> 5\u001b[1;33m \u001b[1;32mimport\u001b[0m \u001b[0mnltk\u001b[0m\u001b[1;33m\u001b[0m\u001b[1;33m\u001b[0m\u001b[0m\n\u001b[0m\u001b[0;32m      6\u001b[0m \u001b[1;32mfrom\u001b[0m \u001b[0mnltk\u001b[0m\u001b[1;33m.\u001b[0m\u001b[0mcorpus\u001b[0m \u001b[1;32mimport\u001b[0m \u001b[0mstopwords\u001b[0m\u001b[1;33m\u001b[0m\u001b[1;33m\u001b[0m\u001b[0m\n\u001b[0;32m      7\u001b[0m \u001b[1;32mfrom\u001b[0m \u001b[0mnltk\u001b[0m\u001b[1;33m.\u001b[0m\u001b[0mstem\u001b[0m \u001b[1;32mimport\u001b[0m \u001b[0mPorterStemmer\u001b[0m\u001b[1;33m\u001b[0m\u001b[1;33m\u001b[0m\u001b[0m\n",
      "\u001b[1;32m~\\anaconda3\\lib\\site-packages\\nltk\\__init__.py\u001b[0m in \u001b[0;36m<module>\u001b[1;34m\u001b[0m\n\u001b[0;32m    130\u001b[0m \u001b[1;31m# Import top-level functionality into top-level namespace\u001b[0m\u001b[1;33m\u001b[0m\u001b[1;33m\u001b[0m\u001b[1;33m\u001b[0m\u001b[0m\n\u001b[0;32m    131\u001b[0m \u001b[1;33m\u001b[0m\u001b[0m\n\u001b[1;32m--> 132\u001b[1;33m \u001b[1;32mfrom\u001b[0m \u001b[0mnltk\u001b[0m\u001b[1;33m.\u001b[0m\u001b[0mcollocations\u001b[0m \u001b[1;32mimport\u001b[0m \u001b[1;33m*\u001b[0m\u001b[1;33m\u001b[0m\u001b[1;33m\u001b[0m\u001b[0m\n\u001b[0m\u001b[0;32m    133\u001b[0m \u001b[1;32mfrom\u001b[0m \u001b[0mnltk\u001b[0m\u001b[1;33m.\u001b[0m\u001b[0mdecorators\u001b[0m \u001b[1;32mimport\u001b[0m \u001b[0mdecorator\u001b[0m\u001b[1;33m,\u001b[0m \u001b[0mmemoize\u001b[0m\u001b[1;33m\u001b[0m\u001b[1;33m\u001b[0m\u001b[0m\n\u001b[0;32m    134\u001b[0m \u001b[1;32mfrom\u001b[0m \u001b[0mnltk\u001b[0m\u001b[1;33m.\u001b[0m\u001b[0mfeatstruct\u001b[0m \u001b[1;32mimport\u001b[0m \u001b[1;33m*\u001b[0m\u001b[1;33m\u001b[0m\u001b[1;33m\u001b[0m\u001b[0m\n",
      "\u001b[1;32m~\\anaconda3\\lib\\site-packages\\nltk\\collocations.py\u001b[0m in \u001b[0;36m<module>\u001b[1;34m\u001b[0m\n\u001b[0;32m     34\u001b[0m \u001b[1;33m\u001b[0m\u001b[0m\n\u001b[0;32m     35\u001b[0m \u001b[1;31m# these two unused imports are referenced in collocations.doctest\u001b[0m\u001b[1;33m\u001b[0m\u001b[1;33m\u001b[0m\u001b[1;33m\u001b[0m\u001b[0m\n\u001b[1;32m---> 36\u001b[1;33m from nltk.metrics import (\n\u001b[0m\u001b[0;32m     37\u001b[0m     \u001b[0mBigramAssocMeasures\u001b[0m\u001b[1;33m,\u001b[0m\u001b[1;33m\u001b[0m\u001b[1;33m\u001b[0m\u001b[0m\n\u001b[0;32m     38\u001b[0m     \u001b[0mContingencyMeasures\u001b[0m\u001b[1;33m,\u001b[0m\u001b[1;33m\u001b[0m\u001b[1;33m\u001b[0m\u001b[0m\n",
      "\u001b[1;32m~\\anaconda3\\lib\\importlib\\_bootstrap.py\u001b[0m in \u001b[0;36m_find_and_load\u001b[1;34m(name, import_)\u001b[0m\n",
      "\u001b[1;32m~\\anaconda3\\lib\\importlib\\_bootstrap.py\u001b[0m in \u001b[0;36m_find_and_load_unlocked\u001b[1;34m(name, import_)\u001b[0m\n",
      "\u001b[1;32m~\\anaconda3\\lib\\importlib\\_bootstrap.py\u001b[0m in \u001b[0;36m_find_spec\u001b[1;34m(name, path, target)\u001b[0m\n",
      "\u001b[1;32m~\\anaconda3\\lib\\importlib\\_bootstrap_external.py\u001b[0m in \u001b[0;36mfind_spec\u001b[1;34m(cls, fullname, path, target)\u001b[0m\n",
      "\u001b[1;32m~\\anaconda3\\lib\\importlib\\_bootstrap_external.py\u001b[0m in \u001b[0;36m_get_spec\u001b[1;34m(cls, fullname, path, target)\u001b[0m\n",
      "\u001b[1;32m~\\anaconda3\\lib\\importlib\\_bootstrap_external.py\u001b[0m in \u001b[0;36mfind_spec\u001b[1;34m(self, fullname, target)\u001b[0m\n",
      "\u001b[1;32m~\\anaconda3\\lib\\importlib\\_bootstrap_external.py\u001b[0m in \u001b[0;36m_path_isfile\u001b[1;34m(path)\u001b[0m\n",
      "\u001b[1;32m~\\anaconda3\\lib\\importlib\\_bootstrap_external.py\u001b[0m in \u001b[0;36m_path_is_mode_type\u001b[1;34m(path, mode)\u001b[0m\n",
      "\u001b[1;31mKeyboardInterrupt\u001b[0m: "
     ]
    }
   ],
   "source": [
    "import numpy as np\n",
    "import math\n",
    "import pandas as pd\n",
    "import re\n",
    "import nltk\n",
    "from nltk.corpus import stopwords\n",
    "from nltk.stem import PorterStemmer\n",
    "from nltk.stem import WordNetLemmatizer\n",
    "from nltk.tokenize import word_tokenize\n",
    "import warnings\n",
    "import seaborn as sns\n",
    "import matplotlib.pyplot as plt\n",
    "warnings.filterwarnings(\"ignore\")\n",
    "import string\n",
    "import re\n",
    "from sklearn.model_selection import train_test_split\n",
    "from sklearn.metrics import confusion_matrix"
   ]
  },
  {
   "cell_type": "markdown",
   "id": "fc584cc2",
   "metadata": {
    "id": "fc584cc2"
   },
   "source": [
    "## Reading the data\n",
    "\n",
    "When reading the data, ensure that the '.csv' file is in the same location where your jupyter notebook is used. This way the files are organized and easy to read using the pandas library. "
   ]
  },
  {
   "cell_type": "code",
   "execution_count": 2,
   "id": "3c9ffbf5",
   "metadata": {
    "id": "3c9ffbf5"
   },
   "outputs": [],
   "source": [
    "## Reading the data and removing columns that are not important. \n",
    "\n",
    "df = pd.read_csv(r\"C:/Users/Shivapriya B/Desktop/NEU Work/Classwork/Semester 4/Natural Language Processing/Week 4/movie_reviews.csv\", sep = ',', encoding = 'latin-1', usecols = lambda col: col not in [\"Unnamed: 2\", \"Unnamed: 3\", \"Unnamed: 4\"])"
   ]
  },
  {
   "cell_type": "code",
   "execution_count": 3,
   "id": "f7fa8ac0",
   "metadata": {
    "colab": {
     "base_uri": "https://localhost:8080/",
     "height": 206
    },
    "id": "f7fa8ac0",
    "outputId": "69edaf28-1e2e-4ec7-9530-b30a2853ab9e"
   },
   "outputs": [
    {
     "data": {
      "text/html": [
       "<div>\n",
       "<style scoped>\n",
       "    .dataframe tbody tr th:only-of-type {\n",
       "        vertical-align: middle;\n",
       "    }\n",
       "\n",
       "    .dataframe tbody tr th {\n",
       "        vertical-align: top;\n",
       "    }\n",
       "\n",
       "    .dataframe thead th {\n",
       "        text-align: right;\n",
       "    }\n",
       "</style>\n",
       "<table border=\"1\" class=\"dataframe\">\n",
       "  <thead>\n",
       "    <tr style=\"text-align: right;\">\n",
       "      <th></th>\n",
       "      <th>review</th>\n",
       "      <th>sentiment</th>\n",
       "    </tr>\n",
       "  </thead>\n",
       "  <tbody>\n",
       "    <tr>\n",
       "      <th>0</th>\n",
       "      <td>One of the other reviewers has mentioned that ...</td>\n",
       "      <td>positive</td>\n",
       "    </tr>\n",
       "    <tr>\n",
       "      <th>1</th>\n",
       "      <td>A wonderful little production. &lt;br /&gt;&lt;br /&gt;The...</td>\n",
       "      <td>positive</td>\n",
       "    </tr>\n",
       "    <tr>\n",
       "      <th>2</th>\n",
       "      <td>I thought this was a wonderful way to spend ti...</td>\n",
       "      <td>positive</td>\n",
       "    </tr>\n",
       "    <tr>\n",
       "      <th>3</th>\n",
       "      <td>Petter Mattei's \"Love in the Time of Money\" is...</td>\n",
       "      <td>positive</td>\n",
       "    </tr>\n",
       "    <tr>\n",
       "      <th>4</th>\n",
       "      <td>Probably my all-time favorite movie, a story o...</td>\n",
       "      <td>positive</td>\n",
       "    </tr>\n",
       "  </tbody>\n",
       "</table>\n",
       "</div>"
      ],
      "text/plain": [
       "                                              review sentiment\n",
       "0  One of the other reviewers has mentioned that ...  positive\n",
       "1  A wonderful little production. <br /><br />The...  positive\n",
       "2  I thought this was a wonderful way to spend ti...  positive\n",
       "3  Petter Mattei's \"Love in the Time of Money\" is...  positive\n",
       "4  Probably my all-time favorite movie, a story o...  positive"
      ]
     },
     "execution_count": 3,
     "metadata": {},
     "output_type": "execute_result"
    }
   ],
   "source": [
    "# print head of data frame with help of head function\n",
    "df.head()"
   ]
  },
  {
   "cell_type": "code",
   "execution_count": 4,
   "id": "71917f68",
   "metadata": {},
   "outputs": [
    {
     "name": "stdout",
     "output_type": "stream",
     "text": [
      "Count of Dataset  24699\n",
      "Number of unique values in the sentiment column  2\n",
      "Unique values in the sentiment column  ['positive' 'negative']\n",
      "Positive Reviews  12474\n",
      "Negative Reviews  12225\n"
     ]
    }
   ],
   "source": [
    "# Creating an initial count table to verify plot validity\n",
    "print(\"Count of Dataset \", len(df));\n",
    "print(\"Number of unique values in the sentiment column \", df.sentiment.nunique());\n",
    "print(\"Unique values in the sentiment column \", df.sentiment.unique());\n",
    "print(\"Positive Reviews \", len(df[df['sentiment'] == 'positive']));\n",
    "print(\"Negative Reviews \", len(df[df['sentiment'] == 'negative']));"
   ]
  },
  {
   "cell_type": "markdown",
   "id": "1749da04",
   "metadata": {
    "id": "1749da04"
   },
   "source": [
    "## Count plot of the output categories: positive or negative\n",
    "\n",
    "Feel free to take a look at the output and whether the classes are balanced or imbalanced. "
   ]
  },
  {
   "cell_type": "code",
   "execution_count": 5,
   "id": "c152e8a4",
   "metadata": {
    "colab": {
     "base_uri": "https://localhost:8080/",
     "height": 515
    },
    "id": "c152e8a4",
    "outputId": "a2ba0476-3238-4511-fcf0-780508493f48"
   },
   "outputs": [
    {
     "data": {
      "image/png": "[encoded data removed]",
      "text/plain": [
       "<Figure size 432x288 with 1 Axes>"
      ]
     },
     "metadata": {
      "needs_background": "light"
     },
     "output_type": "display_data"
    }
   ],
   "source": [
    "plt.figure(figsize = None)\n",
    "sns.countplot(df.sentiment)\n",
    "plt.title(\"Positive Vs. Negative reviews count\", fontsize = 15)\n",
    "plt.show()"
   ]
  },
  {
   "cell_type": "markdown",
   "id": "9b8549f2",
   "metadata": {
    "id": "9b8549f2"
   },
   "source": [
    "## Upsampling the minority class: (5 points)\n",
    "\n",
    "It is known that Naive bayes is not robust to class imbalance. It could be seen above that the data is little imbalanced. Therefore, class balancing can be done before giving it to the Naive Bayes model for prediction. \n",
    "\n",
    "Feel free to use 'resample' library from sklearn. "
   ]
  },
  {
   "cell_type": "code",
   "execution_count": 6,
   "id": "yHJTAqrW7XMN",
   "metadata": {
    "id": "yHJTAqrW7XMN"
   },
   "outputs": [],
   "source": [
    "## hint: use resample from sklearn.utils\n",
    "from sklearn.utils import resample\n",
    "\n",
    "df_majority = df[df['sentiment'] == 'positive'];\n",
    "df_minority = df[df['sentiment'] == 'negative'];\n",
    "\n",
    "negative_upsample = resample(df_minority, replace = True, \n",
    "                        n_samples = df_majority.shape[0],\n",
    "                        random_state = 101)\n",
    "\n",
    "df_upsampled = pd.concat([df_majority, negative_upsample])  # concat two data frames i,e majority class data set and upsampled minority class data set\n",
    "df_upsampled = df_upsampled.sample(frac = 1)"
   ]
  },
  {
   "cell_type": "code",
   "execution_count": 7,
   "id": "6a9329bb",
   "metadata": {
    "id": "6a9329bb"
   },
   "outputs": [
    {
     "data": {
      "text/plain": [
       "(12474, 2)"
      ]
     },
     "execution_count": 7,
     "metadata": {},
     "output_type": "execute_result"
    }
   ],
   "source": [
    "## Just to ensure that upsampling was done successfully, take a look at the shape of the data in \n",
    "## this cell. \n",
    "# print the shape of data set with the help of shape function having \"negative\" as class label\n",
    "\n",
    "df_upsampled[df_upsampled['sentiment'] == 'negative'].shape"
   ]
  },
  {
   "cell_type": "markdown",
   "id": "6f8bf6e7",
   "metadata": {
    "id": "6f8bf6e7"
   },
   "source": [
    "### Expected Output : \n",
    "(12474, 2)"
   ]
  },
  {
   "cell_type": "code",
   "execution_count": 8,
   "id": "bdea8155",
   "metadata": {
    "colab": {
     "base_uri": "https://localhost:8080/"
    },
    "id": "bdea8155",
    "outputId": "c665c4b9-826e-4f4e-e30e-06e0935a0622"
   },
   "outputs": [
    {
     "data": {
      "text/plain": [
       "(12474, 2)"
      ]
     },
     "execution_count": 8,
     "metadata": {},
     "output_type": "execute_result"
    }
   ],
   "source": [
    "## Ensure that the same number of data points are present for both 'positive' and 'negative' data\n",
    "\n",
    "# print the shape of data set with the help of shape function having \"positive\" as class label\n",
    "\n",
    "\n",
    "df_upsampled[df_upsampled['sentiment'] == 'positive'].shape"
   ]
  },
  {
   "cell_type": "markdown",
   "id": "626f01d5",
   "metadata": {
    "id": "626f01d5"
   },
   "source": [
    "### Expected Output : \n",
    "(12474, 2)"
   ]
  },
  {
   "cell_type": "code",
   "execution_count": 9,
   "id": "NoW5z6SzAeP8",
   "metadata": {
    "id": "NoW5z6SzAeP8"
   },
   "outputs": [],
   "source": [
    "## In this cell, we are going to be dividing the data into train and test points\n",
    "## Ensure that you store the upsampled data in a variable called 'df_upsampled' \n",
    "## so that the below operations are performed successfully\n",
    "\n",
    "\n",
    "## Considering 10000 positive and 10000 negative data points\n",
    "negative_data_points_train = df_upsampled[df_upsampled['sentiment'] == 'negative'].iloc[:10000]\n",
    "positive_data_points_train = df_upsampled[df_upsampled['sentiment'] == 'positive'].iloc[:10000]\n",
    "\n",
    "## Considering the remaining data points for test\n",
    "negative_data_points_test = df_upsampled[df_upsampled['sentiment'] == 'negative'].iloc[10000:]\n",
    "positive_data_points_test = df_upsampled[df_upsampled['sentiment'] == 'positive'].iloc[10000:]\n",
    "\n",
    "## Concatenate the training positive and negative reviews\n",
    "X_train = pd.concat([negative_data_points_train['review'], positive_data_points_train['review']])\n",
    "## Concatenating the training positive and negative outputs\n",
    "y_train = pd.concat([negative_data_points_train['sentiment'], positive_data_points_train['sentiment']])\n",
    "\n",
    "## Concatenating the test positive and negative reviews\n",
    "X_test = pd.concat([negative_data_points_test['review'], positive_data_points_test['review']])\n",
    "## Concatenating the test positive and negative outputs\n",
    "y_test = pd.concat([negative_data_points_test['sentiment'], positive_data_points_test['sentiment']])\n"
   ]
  },
  {
   "cell_type": "code",
   "execution_count": 10,
   "id": "6428047d",
   "metadata": {
    "colab": {
     "base_uri": "https://localhost:8080/"
    },
    "id": "6428047d",
    "outputId": "10d10601-0ce0-4688-c4d3-75fa386583fd"
   },
   "outputs": [
    {
     "name": "stdout",
     "output_type": "stream",
     "text": [
      "Total number of classes and count for y_train  positive    10000\n",
      "negative    10000\n",
      "Name: sentiment, dtype: int64\n"
     ]
    }
   ],
   "source": [
    "## Take a look at the total number of classes and their count using '.value_counts()' for y_train and y_test.\n",
    "## Ensure that there are equal number of positive and negative reviews. \n",
    "\n",
    "print(\"Total number of classes and count for y_train \", y_train.value_counts())"
   ]
  },
  {
   "cell_type": "markdown",
   "id": "7dfe6517",
   "metadata": {
    "id": "7dfe6517"
   },
   "source": [
    "### Expected Output:\n",
    "negative    10000<br>\n",
    "positive    10000<br>\n",
    "Name: sentiment, dtype: int64"
   ]
  },
  {
   "cell_type": "code",
   "execution_count": 11,
   "id": "2beae1d6",
   "metadata": {
    "colab": {
     "base_uri": "https://localhost:8080/"
    },
    "id": "2beae1d6",
    "outputId": "6896f930-6a1a-45db-b74c-d080c9aedd0c"
   },
   "outputs": [
    {
     "name": "stdout",
     "output_type": "stream",
     "text": [
      "Total number of classes and count for y_test  positive    2474\n",
      "negative    2474\n",
      "Name: sentiment, dtype: int64\n"
     ]
    }
   ],
   "source": [
    "print(\"Total number of classes and count for y_test \", y_test.value_counts())"
   ]
  },
  {
   "cell_type": "markdown",
   "id": "9163f897",
   "metadata": {
    "id": "9163f897"
   },
   "source": [
    "### Expected Output : \n",
    "negative    2474<br>\n",
    "positive    2474<br>\n",
    "Name: sentiment, dtype: int64"
   ]
  },
  {
   "cell_type": "markdown",
   "id": "6501699b",
   "metadata": {
    "id": "6501699b"
   },
   "source": [
    "## Q1. Pre-process the reviews: (10 points)\n",
    "\n",
    "We know that a review contains links, punctuation, stopwords and many other words that don't give a lot of meaning for the Naive Bayes model for prediction. \n",
    "\n",
    "In the cell below, one must implement text-preprocessing and remove links, punctuations and stopwords. It is also important to lowercase the letters so that 'Admire' and 'admire' are not treated as different words. \n",
    "\n",
    "In addition to this, perform stemming operation so that similar words are reduced. To know more about stemming, feel free to take a look at this link.\n",
    "\n",
    "https://nlp.stanford.edu/IR-book/html/htmledition/stemming-and-lemmatization-1.html"
   ]
  },
  {
   "cell_type": "code",
   "execution_count": 12,
   "id": "CirLN9-ddQ1r",
   "metadata": {
    "id": "CirLN9-ddQ1r"
   },
   "outputs": [],
   "source": [
    "# TASK CELL\n",
    "\n",
    "def clean_review(review):\n",
    "    '''\n",
    "    Input:\n",
    "        review: a string containing a review.\n",
    "    Output:\n",
    "        review_cleaned: a processed review. \n",
    "\n",
    "    '''\n",
    "    review_cleaned = '';\n",
    "    tmp_review = review;\n",
    "\n",
    "    #     Convert to lowercase\n",
    "    tmp_review = ''.join([word.lower() for word in tmp_review])\n",
    "\n",
    "    # Replace all stop words with space\n",
    "    stop_words = stopwords.words('english');\n",
    "    tmp_review = ' '.join([word for word in tmp_review.split() if word not in stop_words])\n",
    "\n",
    "    #  Remove hyper links in text\n",
    "    tmp_review = re.sub('http\\S+', '', tmp_review)\n",
    "    \n",
    "    # Replace all punctuations with space\n",
    "    tmp_review = ''.join([word for word in tmp_review if word not in set(string.punctuation)])\n",
    "\n",
    "    \n",
    "#     Stem each word in the review and append it to final review\n",
    "#     stemmer = nltk.stem.PorterStemmer()\n",
    "#     lemmatization instead of stemming\n",
    "    lem = WordNetLemmatizer();\n",
    "    \n",
    "    tmp_review = ' '.join([lem.lemmatize(word) for word in tmp_review.split()]);\n",
    "\n",
    "    return tmp_review"
   ]
  },
  {
   "cell_type": "markdown",
   "id": "a7632fe5",
   "metadata": {
    "id": "a7632fe5"
   },
   "source": [
    "## Q2. Implement a find_occurrence function (5 points):\n",
    "\n",
    "In this function, we find the total occurrence of a word giving information such as label, word and frequency dictionary.\n",
    "\n",
    "Note that this function is used later in the code when we are going to be predicting the output using Naive Bayes. "
   ]
  },
  {
   "cell_type": "code",
   "execution_count": 13,
   "id": "eb282b81",
   "metadata": {
    "id": "eb282b81"
   },
   "outputs": [],
   "source": [
    "# TASK CELL\n",
    "def find_occurrence(frequency, word, label):\n",
    "    '''\n",
    "    Params:\n",
    "        frequency: a dictionary with the frequency of each pair (or tuple)\n",
    "        word: the word to look up\n",
    "        label: the label corresponding to the word\n",
    "    Return:\n",
    "        n: the number of times the word with its corresponding label appears.\n",
    "    '''\n",
    "    n = 0;\n",
    "    \n",
    "    if (word, label) in frequency:\n",
    "        n = frequency[(word, label)];\n",
    "    \n",
    "    return n"
   ]
  },
  {
   "cell_type": "markdown",
   "id": "29a2249d",
   "metadata": {
    "id": "29a2249d"
   },
   "source": [
    "### Converting output to numerical format:\n",
    "\n",
    "We have outputs as 'positive' or 'negative'. In the cell below, we convert it to a numerical format. "
   ]
  },
  {
   "cell_type": "code",
   "execution_count": 14,
   "id": "bcdc2b2c",
   "metadata": {
    "id": "bcdc2b2c"
   },
   "outputs": [],
   "source": [
    "## With the use of mapping function, we replace\n",
    "## the label in the form of string to an integer. \n",
    "\n",
    "output_map = {'positive': 0, 'negative': 1}\n",
    "y_train = y_train.map(output_map)\n",
    "y_test = y_test.map(output_map)"
   ]
  },
  {
   "cell_type": "code",
   "execution_count": 15,
   "id": "3dde0bbd",
   "metadata": {
    "colab": {
     "base_uri": "https://localhost:8080/"
    },
    "id": "3dde0bbd",
    "outputId": "223dfbc1-8efe-4183-b6d7-c9cb025cb285"
   },
   "outputs": [
    {
     "data": {
      "text/plain": [
       "0    10000\n",
       "1    10000\n",
       "Name: sentiment, dtype: int64"
      ]
     },
     "execution_count": 15,
     "metadata": {},
     "output_type": "execute_result"
    }
   ],
   "source": [
    "## Ensuring that there are equal number of classes on the training data. \n",
    "y_train.value_counts()"
   ]
  },
  {
   "cell_type": "code",
   "execution_count": 16,
   "id": "f2959b85",
   "metadata": {
    "colab": {
     "base_uri": "https://localhost:8080/",
     "height": 178
    },
    "id": "f2959b85",
    "outputId": "e514214b-cd57-43fc-875d-1821ddab63f8"
   },
   "outputs": [
    {
     "data": {
      "text/plain": [
       "'Aaron Spelling produced this made for television western that gets awfully plotty for a seventy three minute film. It plays like a probable failed series pilot.<br /><br />Handsome Clint Walker is U.S. Marshal Dave Harmon, who wanders into Yuma, Arizona Territory in time to kill one of the brothers of the local bigwig rancher who is out on a trail drive.<br /><br />Walker takes the other brother to jail. Walker also meets a \"cute\" homeless Mexican kid who sleeps at the jailhouse. One night, Andres is snoozing when a villain and another man dressed in Army blue take the remaining brother into the street and kill him, pinning the murder on Walker. Not good for your first twenty four hours on the job. Walker visits the local Army fort, and rankles the chains of the commander. The bigwig hears of his brothers\\' deaths, and rides back to town in time to get his chains rankled as well. The local native population, who get short changed by the Army on their beef, also get rankled in the chains area. With all these chains getting rankled, Walker still has time to woo the local hotel owner. The Army guy involved in the murder ends up dead, the local cattle buyer is implicated, the indians do a lot of hesitant speechifying, and the climax brings about an unlikely showdown as Walker must prove to the town that the villainous cattle buyer had a boss, someone we have suspected as being too helpful all along.<br /><br />There is a semi-subplot involving the death of Walker\\'s family at the hands of Army raiders, and I think this would have been the force behind the series, had it been picked up. Instead, the film ends abruptly, and I kept waiting for scenes from next week\\'s exciting episode. Because of the fade outs for nonexistent commercial breaks, the pacing is all off on this and its story jumps in fits.<br /><br />Walker is handsome, rugged, and has a voice deeper than a well. The rest of the cast is full of television actors you have probably seen in other television movies. Much of the action is pretty lame, and the violence is tepid. The first brother killed gets a shotgun blast midtorso, and falls without a scratch on him. I did not expect \"Reservoir Dogs,\" but this is the wrong film to use to teach children about the evil of guns! Speaking of children, the Mexican kid here goes from \"cute\" to \"aneurysm inducing annoyance\" very quickly.<br /><br />If you dislike westerns, then you will dislike \"Yuma.\" If you like westerns, then you will still dislike \"Yuma.\" I cannot recommend it.<br /><br />This is unrated, but contains physical violence and gun violence.<br /><br />'"
      ]
     },
     "execution_count": 16,
     "metadata": {},
     "output_type": "execute_result"
    }
   ],
   "source": [
    "## Choosing a random review and taking a look at it.\n",
    "X_train.iloc[0]"
   ]
  },
  {
   "cell_type": "markdown",
   "id": "ed5e43c9",
   "metadata": {
    "id": "ed5e43c9"
   },
   "source": [
    "From the above cell output, it could be seen that there are a lot of words that don't add a lot of meaning to the text. \n",
    "\n",
    "Therefore, those words would be removed. It also reduces the computation time. \n",
    "\n",
    "Therefore, it is a good practice we are following."
   ]
  },
  {
   "cell_type": "code",
   "execution_count": 17,
   "id": "ad3937ea",
   "metadata": {
    "colab": {
     "base_uri": "https://localhost:8080/"
    },
    "id": "ad3937ea",
    "outputId": "68985efe-32cd-4c11-ed5b-2e1e1b297e73"
   },
   "outputs": [
    {
     "name": "stdout",
     "output_type": "stream",
     "text": [
      "aaron spelling produced made television western get awfully plotty seventy three minute film play like probable failed series pilotbr br handsome clint walker u marshal dave harmon wanders yuma arizona territory time kill one brother local bigwig rancher trail drivebr br walker take brother jail walker also meet cute homeless mexican kid sleep jailhouse one night andres snoozing villain another man dressed army blue take remaining brother street kill him pinning murder walker good first twenty four hour job walker visit local army fort rankles chain commander bigwig hears brother death ride back town time get chain rankled well local native population get short changed army beef also get rankled chain area chain getting rankled walker still time woo local hotel owner army guy involved murder end dead local cattle buyer implicated indian lot hesitant speechifying climax brings unlikely showdown walker must prove town villainous cattle buyer bos someone suspected helpful alongbr br there semisubplot involving death walker family hand army raider think would force behind series picked up instead film end abruptly kept waiting scene next week exciting episode fade out nonexistent commercial break pacing story jump fitsbr br walker handsome rugged voice deeper well rest cast full television actor probably seen television movie much action pretty lame violence tepid first brother killed get shotgun blast midtorso fall without scratch him expect reservoir dog wrong film use teach child evil gun speaking child mexican kid go cute aneurysm inducing annoyance quicklybr br if dislike western dislike yuma like western still dislike yuma cannot recommend itbr br this unrated contains physical violence gun violencebr br\n"
     ]
    }
   ],
   "source": [
    "custom_review = X_train.iloc[0]\n",
    "\n",
    "# print cleaned review\n",
    "print(clean_review(custom_review))"
   ]
  },
  {
   "cell_type": "markdown",
   "id": "3e6cc440",
   "metadata": {
    "id": "3e6cc440"
   },
   "source": [
    "We now use this function to pre-process the review and remove words that don't add a lot of meaning in our model. "
   ]
  },
  {
   "cell_type": "markdown",
   "id": "5a762960",
   "metadata": {
    "id": "5a762960"
   },
   "source": [
    "## Q3. Implementing review counter function: (5 points)\n",
    "\n",
    "It is now time to implement the count function for the reviews. \n",
    "\n",
    "In this function, we count the occurrence of words and get the probabilities \n",
    "for the words based on the training data. \n",
    "\n",
    "In other words, we get the probability of occurrence of a word, given that the output is 'positive'.\n",
    "\n",
    "Similarly, we also compute the probability of occurence of a word, given that the output is 'negative'.\n",
    "\n"
   ]
  },
  {
   "cell_type": "code",
   "execution_count": 18,
   "id": "5de61f77",
   "metadata": {
    "id": "5de61f77"
   },
   "outputs": [],
   "source": [
    "# TASK CELL\n",
    "def review_counter(output_occurrence, reviews, positive_or_negative):\n",
    "    '''\n",
    "    Params:\n",
    "        output_occurrence: a dictionary that will be used to map each pair to its frequency\n",
    "        reviews: a list of reviews\n",
    "        positive_or_negative: a list corresponding to the sentiment of each review (either 0 or 1)\n",
    "    Return:\n",
    "        output: a dictionary mapping each pair to its frequency\n",
    "    '''\n",
    "    ## Steps :\n",
    "    # define the key, which is the word and label tuple\n",
    "    # if the key exists in the dictionary, increment the count\n",
    "    # else, if the key is new, add it to the dictionary and set the count to 1\n",
    "    \n",
    "    for label, review in zip(positive_or_negative, reviews):\n",
    "        split_review = clean_review(review).split()\n",
    "        for word in split_review:\n",
    "            if (word, label) in output_occurrence:\n",
    "                output_occurrence[(word, label)] += 1;\n",
    "            else:\n",
    "                output_occurrence[(word, label)] = 1;\n",
    "   \n",
    "    return output_occurrence"
   ]
  },
  {
   "cell_type": "markdown",
   "id": "18238223",
   "metadata": {
    "id": "18238223"
   },
   "source": [
    "### Test your function with example reviews:\n",
    "\n",
    "Feel free to run the cell below and understand whether the above function that you have defined is producing the optimum results. "
   ]
  },
  {
   "cell_type": "code",
   "execution_count": 19,
   "id": "07a4c58a",
   "metadata": {
    "colab": {
     "base_uri": "https://localhost:8080/"
    },
    "id": "07a4c58a",
    "outputId": "dd9e148a-34a9-4cfe-9077-c5de33493d7a"
   },
   "outputs": [
    {
     "data": {
      "text/plain": [
       "{('got', 1): 1,\n",
       " ('bored', 1): 2,\n",
       " ('throught', 1): 1,\n",
       " ('moview', 1): 1,\n",
       " ('movie', 0): 2,\n",
       " ('fantastic', 0): 1,\n",
       " ('watch', 1): 1,\n",
       " ('complete', 1): 1,\n",
       " ('waste', 1): 1,\n",
       " ('time', 1): 1,\n",
       " ('money', 1): 1,\n",
       " ('enjoyed', 0): 1,\n",
       " ('fullest', 0): 1}"
      ]
     },
     "execution_count": 19,
     "metadata": {},
     "output_type": "execute_result"
    }
   ],
   "source": [
    "# Testing your function\n",
    "\n",
    "result = {}\n",
    "reviews = ['got bored throught the moview', 'The movie was fantastic', 'Will not watch it again', 'Was bored, it was a complete waste of time and money', 'Enjoyed the movie to the fullest']\n",
    "ys = [1, 0, 1, 1, 0]\n",
    "review_counter(result,reviews, ys)"
   ]
  },
  {
   "cell_type": "markdown",
   "id": "927f89bb",
   "metadata": {
    "id": "927f89bb"
   },
   "source": [
    "### Expected Output:\n",
    " {('bored', 1): 2, <br>\n",
    " ('complete', 1): 1, <br>\n",
    " ('enjoyed', 0): 1, <br>\n",
    " ('fantastic', 0): 1, <br>\n",
    " ('fullest', 0): 1, <br>\n",
    " ('got', 1): 1, <br>\n",
    " ('money', 1): 1, <br>\n",
    " ('movie', 0): 2, <br>\n",
    " ('moview', 1): 1, <br>\n",
    " ('throught', 1): 1, <br>\n",
    " ('time', 1): 1, <br>\n",
    " ('waste', 1): 1, <br>\n",
    " ('watch', 1): 1}"
   ]
  },
  {
   "cell_type": "code",
   "execution_count": 20,
   "id": "9bc62e13",
   "metadata": {
    "id": "9bc62e13"
   },
   "outputs": [],
   "source": [
    "# Build the freqs dictionary for later uses\n",
    "\n",
    "freqs = review_counter({}, X_train, y_train)"
   ]
  },
  {
   "cell_type": "code",
   "execution_count": 21,
   "id": "0eddf420",
   "metadata": {
    "id": "0eddf420"
   },
   "outputs": [
    {
     "data": {
      "text/plain": [
       "{('aaron', 1): 8,\n",
       " ('spelling', 1): 32,\n",
       " ('produced', 1): 235,\n",
       " ('made', 1): 3372,\n",
       " ('television', 1): 314,\n",
       " ('western', 1): 223,\n",
       " ('get', 1): 5205,\n",
       " ('awfully', 1): 47,\n",
       " ('plotty', 1): 1,\n",
       " ('seventy', 1): 36,\n",
       " ('three', 1): 843,\n",
       " ('minute', 1): 2006,\n",
       " ('film', 1): 16706,\n",
       " ('play', 1): 1371,\n",
       " ('like', 1): 8928,\n",
       " ('probable', 1): 4,\n",
       " ('failed', 1): 265,\n",
       " ('series', 1): 919,\n",
       " ('pilotbr', 1): 1,\n",
       " ('br', 1): 23276,\n",
       " ('handsome', 1): 66,\n",
       " ('clint', 1): 28,\n",
       " ('walker', 1): 72,\n",
       " ('u', 1): 1294,\n",
       " ('marshal', 1): 16,\n",
       " ('dave', 1): 46,\n",
       " ('harmon', 1): 3,\n",
       " ('wanders', 1): 27,\n",
       " ('yuma', 1): 6,\n",
       " ('arizona', 1): 17,\n",
       " ('territory', 1): 55,\n",
       " ('time', 1): 5703,\n",
       " ('kill', 1): 855,\n",
       " ('one', 1): 10369,\n",
       " ('brother', 1): 485,\n",
       " ('local', 1): 409,\n",
       " ('bigwig', 1): 3,\n",
       " ('rancher', 1): 10,\n",
       " ('trail', 1): 31,\n",
       " ('drivebr', 1): 1,\n",
       " ('take', 1): 2073,\n",
       " ('jail', 1): 45,\n",
       " ('also', 1): 2916,\n",
       " ('meet', 1): 391,\n",
       " ('cute', 1): 198,\n",
       " ('homeless', 1): 36,\n",
       " ('mexican', 1): 80,\n",
       " ('kid', 1): 1181,\n",
       " ('sleep', 1): 143,\n",
       " ('jailhouse', 1): 1,\n",
       " ('night', 1): 843,\n",
       " ('andres', 1): 1,\n",
       " ('snoozing', 1): 1,\n",
       " ('villain', 1): 341,\n",
       " ('another', 1): 1666,\n",
       " ('man', 1): 1830,\n",
       " ('dressed', 1): 135,\n",
       " ('army', 1): 181,\n",
       " ('blue', 1): 159,\n",
       " ('remaining', 1): 51,\n",
       " ('street', 1): 296,\n",
       " ('him', 1): 787,\n",
       " ('pinning', 1): 1,\n",
       " ('murder', 1): 467,\n",
       " ('good', 1): 5735,\n",
       " ('first', 1): 3253,\n",
       " ('twenty', 1): 117,\n",
       " ('four', 1): 321,\n",
       " ('hour', 1): 992,\n",
       " ('job', 1): 639,\n",
       " ('visit', 1): 90,\n",
       " ('fort', 1): 17,\n",
       " ('rankles', 1): 2,\n",
       " ('chain', 1): 51,\n",
       " ('commander', 1): 23,\n",
       " ('hears', 1): 29,\n",
       " ('death', 1): 733,\n",
       " ('ride', 1): 136,\n",
       " ('back', 1): 1818,\n",
       " ('town', 1): 500,\n",
       " ('rankled', 1): 6,\n",
       " ('well', 1): 3037,\n",
       " ('native', 1): 144,\n",
       " ('population', 1): 49,\n",
       " ('short', 1): 716,\n",
       " ('changed', 1): 177,\n",
       " ('beef', 1): 5,\n",
       " ('area', 1): 193,\n",
       " ('getting', 1): 715,\n",
       " ('still', 1): 1820,\n",
       " ('woo', 1): 18,\n",
       " ('hotel', 1): 120,\n",
       " ('owner', 1): 116,\n",
       " ('guy', 1): 2117,\n",
       " ('involved', 1): 433,\n",
       " ('end', 1): 2485,\n",
       " ('dead', 1): 826,\n",
       " ('cattle', 1): 21,\n",
       " ('buyer', 1): 10,\n",
       " ('implicated', 1): 2,\n",
       " ('indian', 1): 148,\n",
       " ('lot', 1): 1879,\n",
       " ('hesitant', 1): 4,\n",
       " ('speechifying', 1): 1,\n",
       " ('climax', 1): 154,\n",
       " ('brings', 1): 173,\n",
       " ('unlikely', 1): 51,\n",
       " ('showdown', 1): 32,\n",
       " ('must', 1): 1145,\n",
       " ('prove', 1): 101,\n",
       " ('villainous', 1): 19,\n",
       " ('bos', 1): 110,\n",
       " ('someone', 1): 1199,\n",
       " ('suspected', 1): 18,\n",
       " ('helpful', 1): 34,\n",
       " ('alongbr', 1): 15,\n",
       " ('there', 1): 2349,\n",
       " ('semisubplot', 1): 1,\n",
       " ('involving', 1): 198,\n",
       " ('family', 1): 852,\n",
       " ('hand', 1): 619,\n",
       " ('raider', 1): 46,\n",
       " ('think', 1): 2932,\n",
       " ('would', 1): 5756,\n",
       " ('force', 1): 272,\n",
       " ('behind', 1): 463,\n",
       " ('picked', 1): 169,\n",
       " ('up', 1): 556,\n",
       " ('instead', 1): 1110,\n",
       " ('abruptly', 1): 27,\n",
       " ('kept', 1): 347,\n",
       " ('waiting', 1): 243,\n",
       " ('scene', 1): 4598,\n",
       " ('next', 1): 693,\n",
       " ('week', 1): 238,\n",
       " ('exciting', 1): 188,\n",
       " ('episode', 1): 706,\n",
       " ('fade', 1): 51,\n",
       " ('out', 1): 637,\n",
       " ('nonexistent', 1): 114,\n",
       " ('commercial', 1): 150,\n",
       " ('break', 1): 362,\n",
       " ('pacing', 1): 165,\n",
       " ('story', 1): 4116,\n",
       " ('jump', 1): 174,\n",
       " ('fitsbr', 1): 4,\n",
       " ('rugged', 1): 3,\n",
       " ('voice', 1): 451,\n",
       " ('deeper', 1): 49,\n",
       " ('rest', 1): 787,\n",
       " ('cast', 1): 1361,\n",
       " ('full', 1): 558,\n",
       " ('actor', 1): 2724,\n",
       " ('probably', 1): 1250,\n",
       " ('seen', 1): 2562,\n",
       " ('movie', 1): 22408,\n",
       " ('much', 1): 3853,\n",
       " ('action', 1): 1254,\n",
       " ('pretty', 1): 1667,\n",
       " ('lame', 1): 500,\n",
       " ('violence', 1): 426,\n",
       " ('tepid', 1): 16,\n",
       " ('killed', 1): 534,\n",
       " ('shotgun', 1): 49,\n",
       " ('blast', 1): 32,\n",
       " ('midtorso', 1): 1,\n",
       " ('fall', 1): 634,\n",
       " ('without', 1): 1270,\n",
       " ('scratch', 1): 28,\n",
       " ('expect', 1): 473,\n",
       " ('reservoir', 1): 11,\n",
       " ('dog', 1): 371,\n",
       " ('wrong', 1): 913,\n",
       " ('use', 1): 728,\n",
       " ('teach', 1): 73,\n",
       " ('child', 1): 888,\n",
       " ('evil', 1): 656,\n",
       " ('gun', 1): 344,\n",
       " ('speaking', 1): 150,\n",
       " ('go', 1): 2940,\n",
       " ('aneurysm', 1): 3,\n",
       " ('inducing', 1): 16,\n",
       " ('annoyance', 1): 12,\n",
       " ('quicklybr', 1): 5,\n",
       " ('if', 1): 647,\n",
       " ('dislike', 1): 61,\n",
       " ('cannot', 1): 469,\n",
       " ('recommend', 1): 525,\n",
       " ('itbr', 1): 411,\n",
       " ('this', 1): 2509,\n",
       " ('unrated', 1): 19,\n",
       " ('contains', 1): 139,\n",
       " ('physical', 1): 100,\n",
       " ('violencebr', 1): 6,\n",
       " ('really', 1): 4956,\n",
       " ('ryan', 1): 92,\n",
       " ('reynolds', 1): 44,\n",
       " ('hope', 1): 605,\n",
       " ('davis', 1): 49,\n",
       " ('actually', 1): 2019,\n",
       " ('high', 1): 716,\n",
       " ('watching', 1): 2014,\n",
       " ('last', 1): 1138,\n",
       " ('dvd', 1): 812,\n",
       " ('mainly', 1): 146,\n",
       " ('try', 1): 1382,\n",
       " ('avoid', 1): 472,\n",
       " ('review', 1): 729,\n",
       " ('watch', 1): 2870,\n",
       " ('something', 1): 2269,\n",
       " ('form', 1): 292,\n",
       " ('opinion', 1): 355,\n",
       " ('big', 1): 1291,\n",
       " ('mistake', 1): 302,\n",
       " ('2', 1): 1118,\n",
       " ('10', 1): 829,\n",
       " ('segment', 1): 77,\n",
       " ('fairness', 1): 24,\n",
       " ('quite', 1): 1287,\n",
       " ('decent', 1): 688,\n",
       " ('character', 1): 5618,\n",
       " ('section', 1): 86,\n",
       " ('1', 1): 681,\n",
       " ('alone', 1): 343,\n",
       " ('may', 1): 1149,\n",
       " ('risen', 1): 6,\n",
       " ('510', 1): 21,\n",
       " ('markonce', 1): 1,\n",
       " ('moved', 1): 78,\n",
       " ('tv', 1): 1044,\n",
       " ('reality', 1): 270,\n",
       " ('show', 1): 2898,\n",
       " ('stank', 1): 6,\n",
       " ('heaven', 1): 121,\n",
       " ('captured', 1): 86,\n",
       " ('essence', 1): 52,\n",
       " ('edge', 1): 102,\n",
       " ('wonderfully', 1): 22,\n",
       " ('gay', 1): 347,\n",
       " ('writer', 1): 652,\n",
       " ('famous', 1): 177,\n",
       " ('game', 1): 581,\n",
       " ('creator', 1): 103,\n",
       " ('devoted', 1): 32,\n",
       " ('definitely', 1): 411,\n",
       " ('le', 1): 782,\n",
       " ('effective', 1): 111,\n",
       " ('blurb', 1): 15,\n",
       " ('box', 1): 285,\n",
       " ('expected', 1): 309,\n",
       " ('flashback', 1): 199,\n",
       " ('thriller', 1): 306,\n",
       " ('along', 1): 664,\n",
       " ('line', 1): 1365,\n",
       " ('memento', 1): 11,\n",
       " ('unfortunately', 1): 727,\n",
       " ('nowhere', 1): 194,\n",
       " ('near', 1): 252,\n",
       " ('standard', 1): 335,\n",
       " ('4', 1): 459,\n",
       " ('10br', 1): 17,\n",
       " ('a', 1): 1295,\n",
       " ('somewhat', 1): 322,\n",
       " ('unbelievable', 1): 220,\n",
       " ('storyline', 1): 378,\n",
       " ('hauntedhouse', 1): 1,\n",
       " ('type', 1): 507,\n",
       " ('shock', 1): 199,\n",
       " ('fit', 1): 249,\n",
       " ('inbr', 1): 26,\n",
       " ('gary', 1): 80,\n",
       " ('oldhams', 1): 1,\n",
       " ('performance', 1): 1175,\n",
       " ('erraticnot', 1): 1,\n",
       " ('quality', 1): 593,\n",
       " ('consistency', 1): 19,\n",
       " ('behave', 1): 45,\n",
       " ('consistent', 1): 37,\n",
       " ('manner', 1): 140,\n",
       " ('sometimes', 1): 341,\n",
       " ('calmrelaxedmethodicalthoughtful', 1): 1,\n",
       " ('violentloudalmost', 1): 1,\n",
       " ('crazed', 1): 42,\n",
       " ('believable', 1): 215,\n",
       " ('have', 1): 137,\n",
       " ('many', 1): 2323,\n",
       " ('80', 1): 338,\n",
       " ('dated', 1): 75,\n",
       " ('badly', 1): 413,\n",
       " ('enjoyable', 1): 208,\n",
       " ('20', 1): 327,\n",
       " ('year', 1): 2050,\n",
       " ('nowbr', 1): 37,\n",
       " ('tired', 1): 210,\n",
       " ('looking', 1): 1128,\n",
       " ('burt', 1): 64,\n",
       " ('mercenary', 1): 17,\n",
       " ('battling', 1): 19,\n",
       " ('former', 1): 167,\n",
       " ('employer', 1): 20,\n",
       " ('gizmo', 1): 2,\n",
       " ('nonheroes', 1): 1,\n",
       " ('plan', 1): 262,\n",
       " ('sell', 1): 103,\n",
       " ('the', 1): 4936,\n",
       " ('iranian', 1): 7,\n",
       " ('lowrent', 1): 30,\n",
       " ('video', 1): 759,\n",
       " ('nonsense', 1): 143,\n",
       " ('producer', 1): 430,\n",
       " ('silk', 1): 13,\n",
       " ('stalking', 1): 28,\n",
       " ('offer', 1): 252,\n",
       " ('footage', 1): 319,\n",
       " ('ineptly', 1): 11,\n",
       " ('staged', 1): 48,\n",
       " ('dramaa', 1): 1,\n",
       " ('lack', 1): 753,\n",
       " ('logic', 1): 122,\n",
       " ('truly', 1): 618,\n",
       " ('dreadful', 1): 160,\n",
       " ('dialogue', 1): 816,\n",
       " ('defining', 1): 8,\n",
       " ('aspect', 1): 249,\n",
       " ('although', 1): 785,\n",
       " ('final', 1): 453,\n",
       " ('twist', 1): 371,\n",
       " ('allegiance', 1): 1,\n",
       " ('shift', 1): 38,\n",
       " ('couldve', 1): 73,\n",
       " ('nifty', 1): 5,\n",
       " ('better', 1): 2597,\n",
       " ('presence', 1): 166,\n",
       " ('mean', 1): 1110,\n",
       " ('notice', 1): 155,\n",
       " ('mouth', 1): 185,\n",
       " ('insultingly', 1): 12,\n",
       " ('halfbaked', 1): 17,\n",
       " ('oneliners', 1): 55,\n",
       " ('unpleasant', 1): 62,\n",
       " ('woman', 1): 1811,\n",
       " ('equally', 1): 141,\n",
       " ('violently', 1): 13,\n",
       " ('horribly', 1): 162,\n",
       " ('assaulted', 1): 7,\n",
       " ('group', 1): 493,\n",
       " ('twodimensional', 1): 17,\n",
       " ('psycho', 1): 99,\n",
       " ('thug', 1): 69,\n",
       " ('nighttime', 1): 5,\n",
       " ('encounter', 1): 102,\n",
       " ('forest', 1): 91,\n",
       " ('road', 1): 185,\n",
       " ('shropshire', 1): 2,\n",
       " ('england', 1): 79,\n",
       " ('carry', 1): 218,\n",
       " ('revenge', 1): 165,\n",
       " ('attack', 1): 269,\n",
       " ('attackersbr', 1): 4,\n",
       " ('utterly', 1): 216,\n",
       " ('repellent', 1): 17,\n",
       " ('piece', 1): 872,\n",
       " ('voyeuristic', 1): 12,\n",
       " ('trash', 1): 255,\n",
       " ('somehow', 1): 360,\n",
       " ('masquerading', 1): 16,\n",
       " ('thoughtprovoking', 1): 19,\n",
       " ('drama', 1): 404,\n",
       " ('whilst', 1): 109,\n",
       " ('coming', 1): 400,\n",
       " ('across', 1): 401,\n",
       " ('submichael', 1): 2,\n",
       " ('winner', 1): 77,\n",
       " ('crp', 1): 4,\n",
       " ('you', 1): 764,\n",
       " ('know', 1): 2985,\n",
       " ('oliver', 1): 49,\n",
       " ('reed', 1): 37,\n",
       " ('susan', 1): 57,\n",
       " ('george', 1): 266,\n",
       " ('easily', 1): 279,\n",
       " ('1970s', 1): 78,\n",
       " ('happens', 1): 518,\n",
       " ('alice', 1): 56,\n",
       " ('gillian', 1): 11,\n",
       " ('anderson', 1): 52,\n",
       " ('adam', 1): 124,\n",
       " ('danny', 1): 86,\n",
       " ('dyer', 1): 5,\n",
       " ('appalling', 1): 75,\n",
       " ('devastating', 1): 17,\n",
       " ('yet', 1): 849,\n",
       " ('dan', 1): 67,\n",
       " ('manages', 1): 199,\n",
       " ('rub', 1): 25,\n",
       " ('viewer', 1): 736,\n",
       " ('nose', 1): 86,\n",
       " ('every', 1): 1540,\n",
       " ('glob', 1): 5,\n",
       " ('sexual', 1): 259,\n",
       " ('nastiness', 1): 6,\n",
       " ('camera', 1): 891,\n",
       " ('lingers', 1): 7,\n",
       " ('hungrily', 1): 2,\n",
       " ('naked', 1): 223,\n",
       " ('body', 1): 583,\n",
       " ('assault', 1): 44,\n",
       " ('script', 1): 1720,\n",
       " ('leaf', 1): 223,\n",
       " ('almost', 1): 1238,\n",
       " ('floundering', 1): 12,\n",
       " ('turgid', 1): 25,\n",
       " ('sea', 1): 132,\n",
       " ('two', 1): 2465,\n",
       " ('dimensional', 1): 77,\n",
       " ('clichã©', 1): 197,\n",
       " ('way', 1): 3233,\n",
       " ('alienate', 1): 5,\n",
       " ('victim', 1): 333,\n",
       " ('shoving', 1): 6,\n",
       " ('ghastly', 1): 24,\n",
       " ('situation', 1): 401,\n",
       " ('face', 1): 758,\n",
       " ('adams', 1): 2,\n",
       " ('attempted', 1): 87,\n",
       " ('postincident', 1): 2,\n",
       " ('sophie', 1): 12,\n",
       " ('alices', 1): 4,\n",
       " ('heffer', 1): 2,\n",
       " ('suicideattempt', 1): 2,\n",
       " ('confessionbr', 1): 2,\n",
       " ('quandary', 1): 2,\n",
       " ('come', 1): 2136,\n",
       " ('central', 1): 151,\n",
       " ('protagonist', 1): 156,\n",
       " ('horrible', 1): 887,\n",
       " ('incapable', 1): 40,\n",
       " ('light', 1): 347,\n",
       " ('shade', 1): 31,\n",
       " ('young', 1): 1006,\n",
       " ('male', 1): 320,\n",
       " ('initial', 1): 62,\n",
       " ('hell', 1): 550,\n",
       " ('eastenders', 1): 21,\n",
       " ('mark', 1): 254,\n",
       " ('word', 1): 710,\n",
       " ('extraordinary', 1): 23,\n",
       " ('even', 1): 6140,\n",
       " ('atrocious', 1): 126,\n",
       " ('depraved', 1): 18,\n",
       " ('ludicrous', 1): 81,\n",
       " ('delivers', 1): 88,\n",
       " ('extraordinarily', 1): 12,\n",
       " ('compelling', 1): 101,\n",
       " ('complicated', 1): 62,\n",
       " ('characterisation', 1): 25,\n",
       " ('selfindulgent', 1): 52,\n",
       " ('arrogant', 1): 55,\n",
       " ('hedonist', 1): 3,\n",
       " ('horror', 1): 1583,\n",
       " ('need', 1): 1096,\n",
       " ('retaliatebr', 1): 2,\n",
       " ('vile', 1): 40,\n",
       " ('pointless', 1): 364,\n",
       " ('then', 1): 425,\n",
       " ('rescued', 1): 27,\n",
       " ('female', 1): 498,\n",
       " ('im', 1): 2229,\n",
       " ('sorry', 1): 505,\n",
       " ('say', 1): 2743,\n",
       " ('that', 1): 1323,\n",
       " ('worst', 1): 1864,\n",
       " ('documentary', 1): 269,\n",
       " ('ever', 1): 2504,\n",
       " ('seenbr', 1): 60,\n",
       " ('due', 1): 394,\n",
       " ('name', 1): 881,\n",
       " ('darwin', 1): 8,\n",
       " ('nightmare', 1): 141,\n",
       " ('problem', 1): 1018,\n",
       " ('relating', 1): 16,\n",
       " ('nile', 1): 5,\n",
       " ('perch', 1): 5,\n",
       " ('lake', 1): 69,\n",
       " ('victoriabr', 1): 1,\n",
       " ('what', 1): 485,\n",
       " ('saw', 1): 1131,\n",
       " ('loose', 1): 128,\n",
       " ('accumulation', 1): 3,\n",
       " ('individual', 1): 108,\n",
       " ('relation', 1): 54,\n",
       " ('neither', 1): 289,\n",
       " ('fish', 1): 103,\n",
       " ('large', 1): 200,\n",
       " ('part', 1): 1952,\n",
       " ('hardly', 1): 287,\n",
       " ('call', 1): 581,\n",
       " ('accumulated', 1): 2,\n",
       " ('meaningful', 1): 69,\n",
       " ('connectionbr', 1): 3,\n",
       " ('why', 1): 392,\n",
       " ('waste', 1): 1043,\n",
       " ('on', 1): 879,\n",
       " ('showing', 1): 258,\n",
       " ('nonrelevant', 1): 1,\n",
       " ('information', 1): 118,\n",
       " ('russian', 1): 130,\n",
       " ('pilot', 1): 124,\n",
       " ('several', 1): 499,\n",
       " ('wasted', 1): 348,\n",
       " ('example', 1): 684,\n",
       " ('private', 1): 116,\n",
       " ('digicam', 1): 1,\n",
       " ('snapshot', 1): 12,\n",
       " ('wife', 1): 673,\n",
       " ('daughter', 1): 473,\n",
       " ('mourning', 1): 6,\n",
       " ('african', 1): 71,\n",
       " ('got', 1): 1561,\n",
       " ('bitten', 1): 40,\n",
       " ('crocodile', 1): 64,\n",
       " ('could', 1): 3624,\n",
       " ('happened', 1): 462,\n",
       " ('100', 1): 173,\n",
       " ('plane', 1): 181,\n",
       " ('land', 1): 177,\n",
       " ('start', 1): 1279,\n",
       " ('airport', 1): 79,\n",
       " ('strange', 1): 353,\n",
       " ('religious', 1): 124,\n",
       " ('event', 1): 399,\n",
       " ('discussing', 1): 24,\n",
       " ('detail', 1): 253,\n",
       " ('life', 1): 2055,\n",
       " ('whore', 1): 41,\n",
       " ('talking', 1): 418,\n",
       " ('mother', 1): 516,\n",
       " ('father', 1): 601,\n",
       " ('work', 1): 1927,\n",
       " ('andor', 1): 60,\n",
       " ('died', 1): 191,\n",
       " ('guess', 1): 647,\n",
       " ('hiv', 1): 12,\n",
       " ('guessed', 1): 59,\n",
       " ('pagesbr', 1): 1,\n",
       " ('absolutely', 1): 701,\n",
       " ('unfocused', 1): 6,\n",
       " ('want', 1): 2042,\n",
       " ('tell', 1): 964,\n",
       " ('never', 1): 2721,\n",
       " ('heard', 1): 425,\n",
       " ('africa', 1): 65,\n",
       " ('idea', 1): 1331,\n",
       " ('continent', 1): 16,\n",
       " ('socialhealthhivviolencewar', 1): 1,\n",
       " ('might', 1): 1274,\n",
       " ('right', 1): 1296,\n",
       " ('eye', 1): 621,\n",
       " ('closed', 1): 38,\n",
       " ('decade', 1): 137,\n",
       " ('90', 1): 291,\n",
       " ('new', 1): 1329,\n",
       " ('presented', 1): 141,\n",
       " ('best', 1): 1654,\n",
       " ('make', 1): 5065,\n",
       " ('asleepbr', 1): 1,\n",
       " ('perhaps', 1): 660,\n",
       " ('expectation', 1): 192,\n",
       " ('though', 1): 1628,\n",
       " ('topic', 1): 76,\n",
       " ('generally', 1): 210,\n",
       " ('find', 1): 1778,\n",
       " ('interesting', 1): 1283,\n",
       " ('poverty', 1): 57,\n",
       " ('related', 1): 62,\n",
       " ('spent', 1): 319,\n",
       " ('matter', 1): 527,\n",
       " ('entire', 1): 657,\n",
       " ('budget', 1): 888,\n",
       " ('paying', 1): 95,\n",
       " ('porno', 1): 64,\n",
       " ('star', 1): 1268,\n",
       " ('whatbr', 1): 9,\n",
       " ('sound', 1): 935,\n",
       " ('effect', 1): 1366,\n",
       " ('background', 1): 238,\n",
       " ('music', 1): 945,\n",
       " ('editing', 1): 364,\n",
       " ('general', 1): 254,\n",
       " ('bad', 1): 5707,\n",
       " ('12yearold', 1): 6,\n",
       " ('wannabe', 1): 85,\n",
       " ('filmbr', 1): 355,\n",
       " ('most', 1): 118,\n",
       " ('acting', 1): 3160,\n",
       " ('considering', 1): 215,\n",
       " ('innocent', 1): 112,\n",
       " ('virgin', 1): 51,\n",
       " ('played', 1): 784,\n",
       " ('wellbr', 1): 77,\n",
       " ('mutant', 1): 69,\n",
       " ('look', 1): 2872,\n",
       " ('cool', 1): 384,\n",
       " ('flick', 1): 764,\n",
       " ('brain', 1): 263,\n",
       " ('wheel', 1): 38,\n",
       " ('but', 1): 770,\n",
       " ('thats', 1): 1842,\n",
       " ('casebr', 1): 15,\n",
       " ('turn', 1): 944,\n",
       " ('left', 1): 947,\n",
       " ('money', 1): 1202,\n",
       " ('thing', 1): 3629,\n",
       " ('rent', 1): 347,\n",
       " ('myself', 1): 103,\n",
       " ('anything', 1): 1460,\n",
       " ('hired', 1): 87,\n",
       " ('it', 1): 5085,\n",
       " ('quick', 1): 148,\n",
       " ('comment', 1): 556,\n",
       " ('decided', 1): 334,\n",
       " ('keep', 1): 774,\n",
       " ('open', 1): 351,\n",
       " ('mind', 1): 794,\n",
       " ('obviously', 1): 614,\n",
       " ('independent', 1): 91,\n",
       " ('low', 1): 794,\n",
       " ('worry', 1): 79,\n",
       " ('me', 1): 1052,\n",
       " ('derick', 1): 2,\n",
       " ('jacobi', 1): 5,\n",
       " ('always', 1): 926,\n",
       " ('pity', 1): 92,\n",
       " ('else', 1): 943,\n",
       " ('did', 1): 298,\n",
       " ('watched', 1): 925,\n",
       " ('atonement', 1): 6,\n",
       " ('ago', 1): 399,\n",
       " ('vanessa', 1): 32,\n",
       " ('redgrave', 1): 34,\n",
       " ('sublime', 1): 13,\n",
       " ('seemed', 1): 710,\n",
       " ('read', 1): 922,\n",
       " ('main', 1): 1005,\n",
       " ('casting', 1): 244,\n",
       " ('vinnie', 1): 14,\n",
       " ('jones', 1): 183,\n",
       " ('honest', 1): 185,\n",
       " ('picture', 1): 645,\n",
       " ('cover', 1): 348,\n",
       " ('top', 1): 492,\n",
       " ('billing', 1): 16,\n",
       " ('sticker', 1): 9,\n",
       " ('strategically', 1): 5,\n",
       " ('placed', 1): 51,\n",
       " ('watchable', 1): 168,\n",
       " ('liked', 1): 433,\n",
       " ('dickens', 1): 27,\n",
       " ('alongside', 1): 33,\n",
       " ('present', 1): 255,\n",
       " ('day', 1): 1297,\n",
       " ('maybe', 1): 1129,\n",
       " ('capable', 1): 88,\n",
       " ('playing', 1): 606,\n",
       " ('lead', 1): 765,\n",
       " ('worked', 1): 289,\n",
       " ('weak', 1): 364,\n",
       " ('ali', 1): 43,\n",
       " ('g', 1): 56,\n",
       " ('indahouse', 1): 2,\n",
       " ('except', 1): 542,\n",
       " ('fact', 1): 1521,\n",
       " ('salon', 1): 5,\n",
       " ('crime', 1): 280,\n",
       " ('committed', 1): 80,\n",
       " ('nominating', 1): 4,\n",
       " ('sacha', 1): 5,\n",
       " ('baron', 1): 17,\n",
       " ('cohen', 1): 16,\n",
       " ('emmy', 1): 8,\n",
       " ('da', 1): 44,\n",
       " ('sure', 1): 1065,\n",
       " ('bet', 1): 130,\n",
       " ('nothing', 1): 2319,\n",
       " ('funny', 1): 1731,\n",
       " ('comedy', 1): 1361,\n",
       " ('torture', 1): 188,\n",
       " ('stupidest', 1): 29,\n",
       " ('admit', 1): 267,\n",
       " ('captivated', 1): 9,\n",
       " ('rhona', 1): 3,\n",
       " ('mitra', 1): 3,\n",
       " ('practice', 1): 57,\n",
       " ('check', 1): 299,\n",
       " ('boston', 1): 26,\n",
       " ('legal', 1): 28,\n",
       " ('evening', 1): 71,\n",
       " ('see', 1): 4292,\n",
       " ('worth', 1): 868,\n",
       " ('amateur', 1): 157,\n",
       " ('making', 1): 1099,\n",
       " ('plot', 1): 3303,\n",
       " ('none', 1): 455,\n",
       " ('putting', 1): 183,\n",
       " ('muscle', 1): 36,\n",
       " ('leather', 1): 38,\n",
       " ('jacket', 1): 67,\n",
       " ('walking', 1): 199,\n",
       " ('slowmo', 1): 4,\n",
       " ('throw', 1): 233,\n",
       " ('funky', 1): 5,\n",
       " ('rap', 1): 43,\n",
       " ('song', 1): 547,\n",
       " ('ingredient', 1): 53,\n",
       " ('great', 1): 2146,\n",
       " ('sayonara', 1): 3,\n",
       " ('potential', 1): 310,\n",
       " ('together', 1): 753,\n",
       " ('student', 1): 341,\n",
       " ('graduate', 1): 24,\n",
       " ('thesis', 1): 14,\n",
       " ('schoolbr', 1): 7,\n",
       " ('primary', 1): 49,\n",
       " ('reason', 1): 1392,\n",
       " ('fist', 1): 29,\n",
       " ('single', 1): 359,\n",
       " ('likable', 1): 112,\n",
       " ('admire', 1): 42,\n",
       " ('hisher', 1): 20,\n",
       " ('chutzpah', 1): 2,\n",
       " ('secondly', 1): 56,\n",
       " ('awful', 1): 1206,\n",
       " ('veteran', 1): 61,\n",
       " ('willem', 1): 14,\n",
       " ('dafoe', 1): 21,\n",
       " ('ham', 1): 46,\n",
       " ('plentiful', 1): 16,\n",
       " ('here', 1): 1065,\n",
       " ('feel', 1): 1459,\n",
       " ('picnic', 1): 15,\n",
       " ('wretched', 1): 54,\n",
       " ('company', 1): 225,\n",
       " ('employee', 1): 48,\n",
       " ('drink', 1): 120,\n",
       " ('cheap', 1): 559,\n",
       " ('beer', 1): 91,\n",
       " ('hangover', 1): 7,\n",
       " ('stop', 1): 542,\n",
       " ('drinking', 1): 89,\n",
       " ('eat', 1): 142,\n",
       " ('underdone', 1): 3,\n",
       " ('hotdog', 1): 2,\n",
       " ('upbr', 1): 54,\n",
       " ('all', 1): 1400,\n",
       " ('little', 1): 2348,\n",
       " ('rough', 1): 55,\n",
       " ('director', 1): 2050,\n",
       " ('place', 1): 1009,\n",
       " ('said', 1): 977,\n",
       " ('goodbr', 1): 60,\n",
       " ('cheated', 1): 43,\n",
       " ('suggests', 1): 53,\n",
       " ('modern', 1): 218,\n",
       " ('packaging', 1): 13,\n",
       " ('suggest', 1): 172,\n",
       " ('nobody', 1): 222,\n",
       " ('connected', 1): 53,\n",
       " ('seems', 1): 1594,\n",
       " ('kind', 1): 1379,\n",
       " ('theyre', 1): 619,\n",
       " ('supposed', 1): 850,\n",
       " ('makingbr', 1): 10,\n",
       " ('betrayal', 1): 23,\n",
       " ('hurt', 1): 150,\n",
       " ('remains', 1): 144,\n",
       " ('embarrassed', 1): 103,\n",
       " ('hopelessly', 1): 42,\n",
       " ('muddled', 1): 52,\n",
       " ('analysis', 1): 18,\n",
       " ('carebr', 1): 18,\n",
       " ('i', 1): 2278,\n",
       " ('took', 1): 457,\n",
       " ('player', 1): 200,\n",
       " ('half', 1): 934,\n",
       " ('through', 1): 205,\n",
       " ('rental', 1): 136,\n",
       " ('store', 1): 233,\n",
       " ('give', 1): 1900,\n",
       " ('backbr', 1): 31,\n",
       " ('now', 1): 566,\n",
       " ('bearable', 1): 35,\n",
       " ('tvmovielike', 1): 2,\n",
       " ('poor', 1): 1143,\n",
       " ('julie', 1): 33,\n",
       " ('disapointing', 1): 2,\n",
       " ('directing', 1): 292,\n",
       " ('amateurish', 1): 153,\n",
       " ('loveless', 1): 7,\n",
       " ('understand', 1): 650,\n",
       " ('fun', 1): 782,\n",
       " ('realise', 1): 34,\n",
       " ('overconstructed', 1): 2,\n",
       " ('trivial', 1): 20,\n",
       " ('roman', 1): 59,\n",
       " ('polanski', 1): 1,\n",
       " ('unexceptional', 1): 1,\n",
       " ('fame', 1): 57,\n",
       " ('bewilders', 1): 1,\n",
       " ('stand', 1): 370,\n",
       " ('point', 1): 1664,\n",
       " ('chinatown', 1): 6,\n",
       " ('knife', 1): 90,\n",
       " ('water', 1): 241,\n",
       " ('te', 1): 8,\n",
       " ('contribution', 1): 22,\n",
       " ('he', 1): 1230,\n",
       " ('concluded', 1): 7,\n",
       " ('embarrassing', 1): 144,\n",
       " ('safe', 1): 89,\n",
       " ('dull', 1): 522,\n",
       " ('pianist', 1): 10,\n",
       " ('frantic', 1): 13,\n",
       " ('ninth', 1): 2,\n",
       " ('gate', 1): 49,\n",
       " ('piratesbr', 1): 1,\n",
       " ('r', 1): 92,\n",
       " ('baby', 1): 235,\n",
       " ('signified', 1): 4,\n",
       " ('establishment', 1): 10,\n",
       " ('came', 1): 613,\n",
       " ('luxproduced', 1): 1,\n",
       " ('fairly', 1): 229,\n",
       " ('concept', 1): 271,\n",
       " ('1968', 1): 18,\n",
       " ('misconceived', 1): 1,\n",
       " ('sap', 1): 11,\n",
       " ('everything', 1): 943,\n",
       " ('arty', 1): 34,\n",
       " ('becomes', 1): 426,\n",
       " ('clear', 1): 343,\n",
       " ('early', 1): 475,\n",
       " ('um', 1): 25,\n",
       " ('thanks', 1): 137,\n",
       " ('finaledestroying', 1): 1,\n",
       " ('title', 1): 694,\n",
       " ('ending', 1): 862,\n",
       " ('sustain', 1): 28,\n",
       " ('interest', 1): 392,\n",
       " ('whatever', 1): 347,\n",
       " ('been', 1): 72,\n",
       " ('derailed', 1): 6,\n",
       " ('1960s', 1): 60,\n",
       " ('version', 1): 753,\n",
       " ('femininity', 1): 4,\n",
       " ('wa', 1): 431,\n",
       " ('farrow', 1): 10,\n",
       " ('chronic', 1): 5,\n",
       " ('distracted', 1): 34,\n",
       " ('helpless', 1): 26,\n",
       " ('waifhousewife', 1): 1,\n",
       " ('frailty', 1): 2,\n",
       " ('oversold', 1): 1,\n",
       " ('irritating', 1): 145,\n",
       " ('extreme', 1): 173,\n",
       " ('real', 1): 1616,\n",
       " ('consider', 1): 177,\n",
       " ('devilbr', 1): 1,\n",
       " ('dakota', 1): 19,\n",
       " ('barely', 1): 293,\n",
       " ('exploited', 1): 30,\n",
       " ('eerie', 1): 31,\n",
       " ('recycled', 1): 37,\n",
       " ('predictable', 1): 475,\n",
       " ('memorable', 1): 164,\n",
       " ('late', 1): 320,\n",
       " ('opening', 1): 376,\n",
       " ('turned', 1): 417,\n",
       " ('since', 1): 1056,\n",
       " ('intense', 1): 66,\n",
       " ('3', 1): 707,\n",
       " ('old', 1): 1469,\n",
       " ('overall', 1): 548,\n",
       " ('disappointment', 1): 220,\n",
       " ('obabakoak', 1): 2,\n",
       " ('bunch', 1): 473,\n",
       " ('common', 1): 208,\n",
       " ('vasque', 1): 2,\n",
       " ('obaba', 1): 4,\n",
       " ('explain', 1): 206,\n",
       " ('using', 1): 363,\n",
       " ('reporter', 1): 80,\n",
       " ('continuum', 1): 3,\n",
       " ('result', 1): 382,\n",
       " ('spends', 1): 101,\n",
       " ('min', 1): 66,\n",
       " ('tale', 1): 243,\n",
       " ('explained', 1): 143,\n",
       " ('boring', 1): 1100,\n",
       " ('far', 1): 1183,\n",
       " ('spain', 1): 34,\n",
       " ('saying', 1): 454,\n",
       " ('precious', 1): 65,\n",
       " ('scenario', 1): 110,\n",
       " ('filmed', 1): 269,\n",
       " ('valley', 1): 47,\n",
       " ('spend', 1): 252,\n",
       " ('rather', 1): 1130,\n",
       " ('aware', 1): 79,\n",
       " ('red', 1): 270,\n",
       " ('letter', 1): 102,\n",
       " ('coyote', 1): 22,\n",
       " ('vortex', 1): 13,\n",
       " ('college', 1): 204,\n",
       " ('professor', 1): 77,\n",
       " ('writes', 1): 28,\n",
       " ('prison', 1): 138,\n",
       " ('inmate', 1): 12,\n",
       " ('bargained', 1): 6,\n",
       " ('for', 1): 458,\n",
       " ('flickkinski', 1): 1,\n",
       " ('piven', 1): 5,\n",
       " ('difficult', 1): 225,\n",
       " ('spark', 1): 68,\n",
       " ('shine', 1): 71,\n",
       " ('complete', 1): 457,\n",
       " ('directorial', 1): 37,\n",
       " ('disaster', 1): 185,\n",
       " ('lettersconvoluted', 1): 1,\n",
       " ('lousy', 1): 135,\n",
       " ('screenplay', 1): 280,\n",
       " ('subpar', 1): 65,\n",
       " ('etc', 1): 454,\n",
       " ('battersby', 1): 1,\n",
       " ('taken', 1): 329,\n",
       " ('seriously', 1): 468,\n",
       " ('flawed', 1): 61,\n",
       " ('anyone', 1): 1093,\n",
       " ('enjoy', 1): 545,\n",
       " ('ive', 1): 1326,\n",
       " ('junk', 1): 128,\n",
       " ('showcasing', 1): 10,\n",
       " ('art', 1): 382,\n",
       " ('noteworthy', 1): 24,\n",
       " ('punched', 1): 12,\n",
       " ('gallon', 1): 10,\n",
       " ('blood', 1): 478,\n",
       " ('spew', 1): 13,\n",
       " ('forth', 1): 68,\n",
       " ('soon', 1): 386,\n",
       " ('after', 1): 181,\n",
       " ('folk', 1): 202,\n",
       " ('bleed', 1): 23,\n",
       " ('japan', 1): 80,\n",
       " ('plenty', 1): 218,\n",
       " ('donor', 1): 4,\n",
       " ('exactly', 1): 395,\n",
       " ('fantasy', 1): 157,\n",
       " ('both', 1): 93,\n",
       " ('mentioned', 1): 241,\n",
       " ('previous', 1): 206,\n",
       " ('reviewer', 1): 198,\n",
       " ('bo', 1): 46,\n",
       " ('dereks', 1): 7,\n",
       " ('poetryinspiring', 1): 2,\n",
       " ('beauty', 1): 142,\n",
       " ('shot', 1): 1307,\n",
       " ('catherine', 1): 94,\n",
       " ('zetajones', 1): 15,\n",
       " ('run', 1): 730,\n",
       " ('compliment', 1): 30,\n",
       " ('indeed', 1): 249,\n",
       " ('nudity', 1): 289,\n",
       " ('brief', 1): 136,\n",
       " ('discreet', 1): 3,\n",
       " ('enoughbr', 1): 22,\n",
       " ('b', 1): 321,\n",
       " ('greek', 1): 52,\n",
       " ('island', 1): 367,\n",
       " ('setting', 1): 236,\n",
       " ('sun', 1): 79,\n",
       " ('crystalclear', 1): 2,\n",
       " ('watersbr', 1): 2,\n",
       " ('other', 1): 259,\n",
       " ('abysmal', 1): 75,\n",
       " ('unintentionally', 1): 73,\n",
       " ('touched', 1): 39,\n",
       " ('peter', 1): 281,\n",
       " ('hootens', 1): 2,\n",
       " ('slimy', 1): 24,\n",
       " ('jerk', 1): 62,\n",
       " ('overplays', 1): 5,\n",
       " ('naivete', 1): 5,\n",
       " ('unfair', 1): 40,\n",
       " ('blame', 1): 167,\n",
       " ('damir', 1): 2,\n",
       " ('sentence', 1): 76,\n",
       " ('major', 1): 356,\n",
       " ('irritation', 1): 14,\n",
       " ('oh', 1): 792,\n",
       " ('set', 1): 1231,\n",
       " ...}"
      ]
     },
     "execution_count": 21,
     "metadata": {},
     "output_type": "execute_result"
    }
   ],
   "source": [
    "## Run this cell to get an idea about the corpus of words and their occurrence along with labels. \n",
    "## In this, we are computing the frequency of occurrence of word given that a review is 'positive'.\n",
    "## Similarly, we also compute the frequence of occurence of word given that a review is 'negative'.\n",
    "freqs"
   ]
  },
  {
   "cell_type": "markdown",
   "id": "759c24bc",
   "metadata": {
    "id": "759c24bc"
   },
   "source": [
    "## Q4. Training the Naive Bayes Model: (20 points)\n",
    "\n",
    "Now we are in the training phase of the Naive Bayes algorithm. In this cell, take a look at the ways to calculate the log likelihood and log prior values as these are important for testing in the next few cells. \n",
    "\n",
    "Also calculate the frequency of occurrence of words where the output is negative. In the same way, calculate the word frequency count using the above functions in order to compute the log likelihood.\n",
    "\n",
    "Return the logprior and loglikelihood output by the model from this function. "
   ]
  },
  {
   "cell_type": "code",
   "execution_count": 61,
   "id": "a7f280e3",
   "metadata": {
    "id": "a7f280e3"
   },
   "outputs": [],
   "source": [
    "def train_naive_bayes(freqs, train_x, train_y):\n",
    "    '''\n",
    "    Input:\n",
    "        freqs: dictionary from (word, label) to how often the word appears\n",
    "        train_x: a list of reviews\n",
    "        train_y: a list of labels correponding to the reviews (0,1)\n",
    "    Output:\n",
    "        logprior: the log prior. (equation 3 above)\n",
    "        loglikelihood: the log likelihood of you Naive bayes equation. (equation 6 above)\n",
    "    '''\n",
    "    loglikelihood = {}\n",
    "    logprior = 0\n",
    "\n",
    "    # calculate V, the number of unique words in the vocabulary\n",
    "    corpus = [x.split() for x in train_x]\n",
    "    vocab = [x for sent in corpus for x in sent]\n",
    "    V = len(vocab)\n",
    "\n",
    "    # calculate num_pos and num_neg - the total number of positive and negative words for all documents\n",
    "    num_pos = num_neg = 0\n",
    "    for pair in freqs.keys():\n",
    "        # if the label is positive (greater than zero)\n",
    "        if pair[1] == 0:\n",
    "            # Increment the number of positive words by the count for this (word, label) pair\n",
    "            num_pos = num_pos + 1;\n",
    "\n",
    "        # else, the label is negative\n",
    "        else:\n",
    "            # increment the number of negative words by the count for this (word,label) pair\n",
    "            num_neg = num_neg + 1;\n",
    "\n",
    "    # Calculate num_doc, the number of documents\n",
    "    num_doc = len(train_x);\n",
    "\n",
    "    # Calculate D_pos, the number of positive documents \n",
    "    pos_num_docs = train_y.tolist().count(1);\n",
    "\n",
    "    # Calculate D_neg, the number of negative documents \n",
    "    neg_num_docs = train_y.tolist().count(0);\n",
    "\n",
    "    # Calculate logprior\n",
    "    logprior = None;\n",
    "    if neg_num_docs != 0 and pos_num_docs != 0:\n",
    "        logprior = math.log(neg_num_docs) - math.log(pos_num_docs);\n",
    "\n",
    "    # For each word in the vocabulary...\n",
    "    loglikelihood = {};\n",
    "    for word in vocab:\n",
    "        # get the positive and negative frequency of the word\n",
    "        if (word, 0) in freqs:\n",
    "            freq_pos = freqs[(word, 0)];\n",
    "        else:\n",
    "            freq_pos = 0;\n",
    "            \n",
    "        if (word, 1) in freqs:\n",
    "            freq_neg = freqs[(word, 1)];\n",
    "        else:\n",
    "            freq_neg = 0;\n",
    "        if (word, 0) in freqs or (word, 1) in freqs: \n",
    "            # calculate the probability that each word is positive, and negative\n",
    "            p_w_pos = (freq_pos + 1)/(num_pos + V);\n",
    "            p_w_neg = (freq_neg + 1)/(num_neg + V);\n",
    "\n",
    "            # calculate the log likelihood of the word\n",
    "            loglikelihood[word] = math.log(p_w_neg) - math.log(p_w_pos)\n",
    "            \n",
    "    return logprior, loglikelihood"
   ]
  },
  {
   "cell_type": "code",
   "execution_count": 45,
   "id": "1561d892",
   "metadata": {
    "id": "1561d892"
   },
   "outputs": [
    {
     "name": "stdout",
     "output_type": "stream",
     "text": [
      "0.0\n",
      "31512\n"
     ]
    }
   ],
   "source": [
    "# You do not have to input any code in this cell, but it is relevant to grading, so please do not change anything\n",
    "logprior, loglikelihood = train_naive_bayes(freqs, X_train, y_train)\n",
    "print(logprior)\n",
    "print(len(loglikelihood))"
   ]
  },
  {
   "cell_type": "markdown",
   "id": "19d9c882",
   "metadata": {
    "id": "19d9c882"
   },
   "source": [
    "### Expected Output \n",
    "\n",
    "0.0 <br>\n",
    "91425"
   ]
  },
  {
   "cell_type": "markdown",
   "id": "78b51303",
   "metadata": {
    "id": "78b51303"
   },
   "source": [
    "## Q5. Implementing Naive Bayes Predict Function: (10 points)\n",
    "\n",
    "It is now time to make our prediction as to whether a given review is negative or positive respectively. \n",
    "\n",
    "After adding the log likelihood values, ensure that the output is 1 (negative) if the sum of the log likelihood value is greater than 0 and 0 (positive) if the sum of the log likelihood is less than or equal to 0. "
   ]
  },
  {
   "cell_type": "code",
   "execution_count": 90,
   "id": "b692c2f9",
   "metadata": {
    "id": "b692c2f9"
   },
   "outputs": [],
   "source": [
    "# TASK 4 CELL\n",
    "\n",
    "def naive_bayes_predict(review, logprior, loglikelihood):\n",
    "    '''\n",
    "    Params:\n",
    "        review: a string\n",
    "        logprior: a number\n",
    "        loglikelihood: a dictionary of words mapping to numbers\n",
    "    Return:\n",
    "        total_prob: the sum of all the loglikelihoods of each word in the review (if found in the dictionary) + logprior (a number)\n",
    "\n",
    "    '''\n",
    "    \n",
    "      # process the review to get a list of words\n",
    "    word_l = review.split();\n",
    "\n",
    "    # initialize probability to zero\n",
    "    total_prob = 0;\n",
    "\n",
    "    # add the logprior\n",
    "    if logprior != None:\n",
    "        total_prob = total_prob + logprior;\n",
    "\n",
    "    for word in word_l:\n",
    "        # check if the word exists in the loglikelihood dictionary\n",
    "        if word in loglikelihood:\n",
    "            # add the log likelihood of that word to the probability\n",
    "            total_prob = total_prob + loglikelihood[word];\n",
    "\n",
    "    if total_prob > 0:\n",
    "        return [1, total_prob];\n",
    "    else:\n",
    "        return [0, total_prob];\n",
    "\n",
    "#     return total_prob"
   ]
  },
  {
   "cell_type": "code",
   "execution_count": 91,
   "id": "4b170333",
   "metadata": {
    "colab": {
     "base_uri": "https://localhost:8080/"
    },
    "id": "4b170333",
    "outputId": "0cf6bc90-90e8-4dee-bf95-7eaf39dce147"
   },
   "outputs": [
    {
     "name": "stdout",
     "output_type": "stream",
     "text": [
      "The expected output is 1\n"
     ]
    }
   ],
   "source": [
    "# You do not have to input any code in this cell, but it is relevant to grading, so please do not change anything\n",
    "\n",
    "# Experiment with your own review.\n",
    "my_review = \"I thought this series was going to be another fun, action series with some dynamic plots and great performances. I was wrong. While I like Jamie Denton, this show is hardly worth watching at all, unless you enjoy watching some people brutalized and the actions of the agents supposedly warranted under the theme of national security. The show is great propaganda for the current government, and spews out jingoism as though we talk that way every day. After a couple of episodes, it was boring the hell out of me, and I started watching reruns of House Invaders on BBCAmerica instead. Rather watch CSI and Without a Trace, without a doubt.\"\n",
    "p = naive_bayes_predict(my_review, logprior, loglikelihood)\n",
    "print('The expected output is', p[0])"
   ]
  },
  {
   "cell_type": "markdown",
   "id": "6242708f",
   "metadata": {
    "id": "6242708f"
   },
   "source": [
    "### Expected Output :\n",
    "The expected output is 1"
   ]
  },
  {
   "cell_type": "markdown",
   "id": "7c4eeb71",
   "metadata": {
    "id": "7c4eeb71"
   },
   "source": [
    "## Q6. Implementing Naive Bayes Test function: (10 points)\n",
    "\n",
    "In this function, implement the previous functions such as naive_bayes_predict to get the predictions for the test set. \n",
    "\n",
    "In addition to this, the function should return the total number of reviews that it correctly classified as 'positive' or 'negative'. "
   ]
  },
  {
   "cell_type": "code",
   "execution_count": 41,
   "id": "66a511e7",
   "metadata": {
    "id": "66a511e7"
   },
   "outputs": [],
   "source": [
    "# UNQ_C6 (UNIQUE CELL IDENTIFIER, DO NOT EDIT)\n",
    "def test_naive_bayes(test_x, test_y, logprior, loglikelihood):\n",
    "    \"\"\"\n",
    "    Input:\n",
    "        test_x: A list of reviews\n",
    "        test_y: the corresponding labels for the list of reviews\n",
    "        logprior: the logprior\n",
    "        loglikelihood: a dictionary with the loglikelihoods for each word\n",
    "    Output:\n",
    "        accuracy: (# of reviews classified correctly)/(total # of reviews)\n",
    "    \"\"\"\n",
    "    accuracy = 0  \n",
    "    y_hats = []\n",
    "\n",
    "    for review in test_x:\n",
    "        # if the prediction is > 0\n",
    "        if naive_bayes_predict(review, logprior, loglikelihood) > 0:\n",
    "            # the predicted class is 1\n",
    "            y_hat_i = 1\n",
    "        else:\n",
    "            # otherwise the predicted class is 0\n",
    "            y_hat_i = 0;\n",
    "\n",
    "        # append the predicted class to the list y_hats\n",
    "        y_hats.append(y_hat_i)\n",
    "\n",
    "    # error is the average of the absolute values of the differences between y_hats and test_y\n",
    "    sum_err = 0;\n",
    "    t_vals = 0;\n",
    "    for i in range(y_hats):\n",
    "        sum_err += abs(y_hats[i] - test_y[i]);\n",
    "        if y_hats[i] == test_y[i]:\n",
    "            t_vals += 1;\n",
    "    \n",
    "    error = sum_err / len(y_hats);\n",
    "\n",
    "    accuracy = t_vals/len(y_hats);\n",
    "\n",
    "\n",
    "    return accuracy"
   ]
  },
  {
   "cell_type": "code",
   "execution_count": 92,
   "id": "8a9c5d9d",
   "metadata": {
    "id": "8a9c5d9d"
   },
   "outputs": [
    {
     "name": "stdout",
     "output_type": "stream",
     "text": [
      "If you like original gut wrenching laughter you will like this movie. If you are young or old then y -> 0.00\n",
      "What a waste of talent. A very poor, semi-coherent, script cripples this film. Rather unimaginative  -> 1.00\n",
      "I have seen this film at least 100 times and I am still excited by it, the acting is perfect and the -> 0.00\n",
      "Cheap, amateurish, unimaginative, exploitative... but don't think it'll have redeeming amusement val -> 1.00\n"
     ]
    }
   ],
   "source": [
    "# For grading purpose only\n",
    "# You do not have to input any code in this cell, but it is relevant to grading, so please do not change anything\n",
    "\n",
    "# Run this cell to test your function\n",
    "\n",
    "for review in [\"If you like original gut wrenching laughter you will like this movie. If you are young or old then you will love this movie, hell even my mom liked it.<br /><br />Great Camp!!!\",\n",
    "                \"What a waste of talent. A very poor, semi-coherent, script cripples this film. Rather unimaginative direction, too. Some VERY faint echoes of Fargo here, but it just doesn't come off.\",\n",
    "                \"I have seen this film at least 100 times and I am still excited by it, the acting is perfect and the romance between Joe and Jean keeps me on the edge of my seat, plus I still think Bryan Brown is the tops. Brilliant Film.\",\n",
    "                \"Cheap, amateurish, unimaginative, exploitative... but don't think it'll have redeeming amusement value. About as unentertaining, uninstructive and just plain dull as a film can be.\"]:\n",
    "    p = naive_bayes_predict(review, logprior, loglikelihood)\n",
    "    print(f'{review[:100]} -> {p[0]:.2f}')\n",
    "    "
   ]
  },
  {
   "cell_type": "markdown",
   "id": "43e2ef98",
   "metadata": {
    "id": "43e2ef98"
   },
   "source": [
    "### Expected Output :\n",
    "\n",
    "If you like original gut wrenching laughter you will like this movie. If you are young or old then y -> 0.00 <br>\n",
    "What a waste of talent. A very poor, semi-coherent, script cripples this film. Rather unimaginative  -> 1.00<br>\n",
    "I have seen this film at least 100 times and I am still excited by it, the acting is perfect and the -> 0.00 <br>\n",
    "Cheap, amateurish, unimaginative, exploitative... but don't think it'll have redeeming amusement val -> 1.00\n",
    "\n"
   ]
  },
  {
   "cell_type": "code",
   "execution_count": 43,
   "id": "216fa97a",
   "metadata": {
    "colab": {
     "base_uri": "https://localhost:8080/"
    },
    "id": "216fa97a",
    "outputId": "9d1f21c7-b324-43c2-e841-269c0306cbb4"
   },
   "outputs": [
    {
     "data": {
      "text/plain": [
       "1"
      ]
     },
     "execution_count": 43,
     "metadata": {},
     "output_type": "execute_result"
    }
   ],
   "source": [
    "# Feel free to check the sentiment of your own review below\n",
    "my_review = 'The moview was very boring, I wanted to leave in the middle'\n",
    "naive_bayes_predict(my_review, logprior, loglikelihood)"
   ]
  },
  {
   "cell_type": "markdown",
   "id": "8a45e4f0",
   "metadata": {
    "id": "8a45e4f0"
   },
   "source": [
    "### Expected Output :\n",
    "1"
   ]
  },
  {
   "cell_type": "markdown",
   "id": "mAIkM4aCC1H7",
   "metadata": {
    "id": "mAIkM4aCC1H7"
   },
   "source": [
    "# Q7. Evaluate the accuracy (10 Points)\n",
    "1. Split your data into training and test sets using random selection. Set the seed as parameter of the function so that user can select a different training and test set by changin seed.\n",
    "\n",
    "2. Calculate model paramters with training set.\n",
    "\n",
    "3. Print confusion matrix for training and test set.\n",
    "\n",
    "4. Examine False Positive and False Negative cases and provide reasoning why they get misclassified."
   ]
  },
  {
   "cell_type": "code",
   "execution_count": 104,
   "id": "dab6fad9",
   "metadata": {},
   "outputs": [],
   "source": [
    "# Setting Random Seed as a parameter\n",
    "def Naive_Bayes_Full(df, seed):\n",
    "    neg_data_points = df[df['sentiment'] == 'negative'];\n",
    "    pos_data_points = df[df['sentiment'] == 'positive'];\n",
    "\n",
    "    pos_X_train, pos_X_test, pos_y_train, pos_y_test = train_test_split(pos_data_points['review'], pos_data_points['sentiment'], test_size=0.20, random_state=seed)\n",
    "    neg_X_train, neg_X_test, neg_y_train, neg_y_test = train_test_split(neg_data_points['review'], neg_data_points['sentiment'], test_size=0.20, random_state=seed)\n",
    "\n",
    "    ## Concatenate the training positive and negative reviews\n",
    "    X_train = pd.concat([neg_X_train, pos_X_train])\n",
    "    y_train = pd.concat([neg_y_train, pos_y_train]);\n",
    "    \n",
    "    ## Concatenate the testing positive and negative reviews\n",
    "    X_test = pd.concat([neg_X_test, pos_X_test])\n",
    "    y_test = pd.concat([neg_y_test, pos_y_test]);\n",
    "    \n",
    "    output_map = {'positive': 0, 'negative': 1}\n",
    "    y_train = y_train.map(output_map)\n",
    "    y_test = y_test.map(output_map)\n",
    "    \n",
    "    ## Calculate frequency dictionary\n",
    "    freqs = review_counter({}, X_train, y_train)\n",
    "    \n",
    "#     Calcualte Model Parameters using Training set\n",
    "    logprior, loglikelihood = train_naive_bayes(freqs, X_train, y_train);\n",
    "    y_train_pred = [];\n",
    "\n",
    "    for review in X_train:\n",
    "        y_train_pred.append(naive_bayes_predict(review, logprior, loglikelihood)[0]);\n",
    "        \n",
    "    cm_train = confusion_matrix(y_train, y_train_pred)\n",
    "    print(\"Confusion Matrix on Training Set is \\n \", cm_train);\n",
    "    \n",
    "    y_test_pred = [];\n",
    "\n",
    "    for review in X_test:\n",
    "        y_test_pred.append(naive_bayes_predict(review, logprior, loglikelihood)[0]);\n",
    "        \n",
    "    cm_test = confusion_matrix(y_test, y_test_pred)\n",
    "    print(\"Confusion Matrix on Testing Set is \\n \", cm_test);    "
   ]
  },
  {
   "cell_type": "code",
   "execution_count": 105,
   "id": "ef0a8298",
   "metadata": {},
   "outputs": [
    {
     "name": "stdout",
     "output_type": "stream",
     "text": [
      "Confusion Matrix on Training Set is \n",
      "  [[6472 3507]\n",
      " [ 234 9745]]\n",
      "Confusion Matrix on Testing Set is \n",
      "  [[1412 1083]\n",
      " [  76 2419]]\n"
     ]
    }
   ],
   "source": [
    "Naive_Bayes_Full(df_upsampled, 30)"
   ]
  },
  {
   "cell_type": "markdown",
   "id": "XbzttYVnBo7W",
   "metadata": {
    "id": "XbzttYVnBo7W"
   },
   "source": [
    "# Q8. Modularize your calssifier (10 points)\n",
    "1. Convert your code into a python module text_classifier.py\n",
    "\n",
    "2. The user should be able to launch the application on command prompt using python test_classifier.py command. The module will automatically load the model paramters from a local file of your choice and be ready to take the input from user on command prompt. The program will preprocess user input, tokenize and predict the class.\n",
    "\n",
    "3. Your module will take the input from user and output sentiment class in an indefinite loop. The output should printout the probabilities for each input token along with the final classification decision. Program will quit if user enters X.\n"
   ]
  },
  {
   "cell_type": "markdown",
   "id": "53a750e6",
   "metadata": {
    "id": "lKAQrnnbBnKe"
   },
   "source": [
    "Solution - Attached with this submission, test_classifier.py"
   ]
  },
  {
   "cell_type": "markdown",
   "id": "82e6e4d1",
   "metadata": {
    "id": "82e6e4d1"
   },
   "source": [
    "# Q9. Theory Questions: (10 points)\n",
    "\n",
    "1. Why is Laplace Smoothing or Additive Smoothing required while executing Naive Bayes operations, especially for text classification? Show how not having additive smoothing leads to bad outcomes by using an example of training and the test set. (10 points)\n",
    "\n",
    "\n",
    "2. Why are logarithmic values computed instead of only probability values in the Naive Bayes algorithm? (5 points)"
   ]
  },
  {
   "cell_type": "markdown",
   "id": "e906803d",
   "metadata": {},
   "source": [
    "1. In Naive Bayes classifiers, we calculate the maximum likelihood probability with each word as a feature from the documents bag of words. Herein, all the feature likelihoods are multiplied together to get the final probability. The problem occurs, if say, any feature exists in the test set for a class but we did not have the feature in the same class in the training set - the probability will herein be 0 and since we multiply all feature probabilities together, it would lead to a final probability of 0.\n",
    "\n",
    "Example - if your feature 'super' exists in your test set as a positive sentiment but comes up in the training set in the negative sentiment as sarcasm, this would lead to a full probability of 0 without additive or laplace smoothing in place. \n",
    "\n",
    "\n",
    "Laplace smoothing is simply the addition of the number one to each value of word count from the document set for calculating the probabilties. This will ensure we never have a zero probability occuring in our features.\n",
    "\n",
    "2. We look at logarithmic values instead of only probability values in Naive Bayes algorithm to avoid underflow and increase speed of the calculation. Using the log values, we are able to compute the predicted class as a linear function of the input features given on hand"
   ]
  }
 ],
 "metadata": {
  "colab": {
   "collapsed_sections": [],
   "name": "CS6120_NLP_Assignment_1_Notebook.ipynb",
   "provenance": [],
   "toc_visible": true
  },
  "kernelspec": {
   "display_name": "Python 3 (ipykernel)",
   "language": "python",
   "name": "python3"
  },
  "language_info": {
   "codemirror_mode": {
    "name": "ipython",
    "version": 3
   },
   "file_extension": ".py",
   "mimetype": "text/x-python",
   "name": "python",
   "nbconvert_exporter": "python",
   "pygments_lexer": "ipython3",
   "version": "3.9.12"
  }
 },
 "nbformat": 4,
 "nbformat_minor": 5
}
